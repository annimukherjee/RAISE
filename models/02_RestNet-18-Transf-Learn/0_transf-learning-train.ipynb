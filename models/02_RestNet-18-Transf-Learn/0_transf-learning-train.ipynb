{
 "cells": [
  {
   "cell_type": "markdown",
   "id": "f8bbcadc",
   "metadata": {},
   "source": [
    "#### 1) Imports and Random Seed"
   ]
  },
  {
   "cell_type": "code",
   "execution_count": 1,
   "id": "f6b24c55",
   "metadata": {
    "_cell_guid": "0259cb98-fc3c-4ba8-b50f-dd135e8382c5",
    "_uuid": "6831eb70-2456-4090-b37a-22fa61ad6a54",
    "collapsed": false,
    "execution": {
     "iopub.execute_input": "2025-05-25T18:45:06.033985Z",
     "iopub.status.busy": "2025-05-25T18:45:06.033437Z",
     "iopub.status.idle": "2025-05-25T18:45:06.038520Z",
     "shell.execute_reply": "2025-05-25T18:45:06.037713Z",
     "shell.execute_reply.started": "2025-05-25T18:45:06.033966Z"
    },
    "jupyter": {
     "outputs_hidden": false
    },
    "papermill": {
     "duration": 11.404132,
     "end_time": "2025-04-28T12:58:40.297173",
     "exception": false,
     "start_time": "2025-04-28T12:58:28.893041",
     "status": "completed"
    },
    "tags": [],
    "trusted": true
   },
   "outputs": [],
   "source": [
    "import pandas as pd\n",
    "from torch.utils.data import Dataset, DataLoader\n",
    "from torchvision import transforms\n",
    "from PIL import Image\n",
    "import torch\n",
    "import numpy as np\n",
    "import torch.nn as nn\n",
    "import torch.optim as optim\n",
    "import torch.nn.functional as F\n",
    "from sklearn.metrics import mean_squared_error\n",
    "from scipy.stats import spearmanr, pearsonr\n",
    "import matplotlib.pyplot as plt\n",
    "import torchvision.models as models\n",
    "import os\n",
    "import random\n"
   ]
  },
  {
   "cell_type": "code",
   "execution_count": 2,
   "id": "df0f5633-25d0-4619-8fdf-387c82cfdb2a",
   "metadata": {
    "execution": {
     "iopub.execute_input": "2025-05-25T18:45:06.412206Z",
     "iopub.status.busy": "2025-05-25T18:45:06.411935Z",
     "iopub.status.idle": "2025-05-25T18:45:06.418297Z",
     "shell.execute_reply": "2025-05-25T18:45:06.417566Z",
     "shell.execute_reply.started": "2025-05-25T18:45:06.412185Z"
    },
    "trusted": true
   },
   "outputs": [],
   "source": [
    "SEED = 42\n",
    "random.seed(SEED)\n",
    "np.random.seed(SEED)\n",
    "torch.manual_seed(SEED)\n",
    "torch.cuda.manual_seed_all(SEED)\n"
   ]
  },
  {
   "cell_type": "markdown",
   "id": "cf4adaa0",
   "metadata": {},
   "source": [
    "#### 2) Dataset and Dataloader"
   ]
  },
  {
   "cell_type": "code",
   "execution_count": 3,
   "id": "7a9bb070",
   "metadata": {
    "_cell_guid": "21c30fdc-0068-4ba1-896d-c9ac1b7259b7",
    "_uuid": "83418965-fedf-4ee6-8cb8-febe20902e80",
    "collapsed": false,
    "execution": {
     "iopub.execute_input": "2025-05-25T18:45:08.279621Z",
     "iopub.status.busy": "2025-05-25T18:45:08.278966Z",
     "iopub.status.idle": "2025-05-25T18:45:08.286263Z",
     "shell.execute_reply": "2025-05-25T18:45:08.285554Z",
     "shell.execute_reply.started": "2025-05-25T18:45:08.279596Z"
    },
    "jupyter": {
     "outputs_hidden": false
    },
    "papermill": {
     "duration": 0.073625,
     "end_time": "2025-04-28T13:01:32.495089",
     "exception": false,
     "start_time": "2025-04-28T13:01:32.421464",
     "status": "completed"
    },
    "tags": [],
    "trusted": true
   },
   "outputs": [],
   "source": [
    "class ImageRatingDataset(Dataset):\n",
    "    \n",
    "    def __init__(self, dataframe, transform=None, augment=False, phase=''):\n",
    "        self.dataframe = dataframe.reset_index(drop=True)\n",
    "        self.transform = transforms.Compose([transforms.Normalize(mean=[0.485, 0.456, 0.406], std=[0.229, 0.224, 0.225])])\n",
    "        self.augment = augment\n",
    "        self.phase=phase\n",
    "\n",
    "        # Define augmentations\n",
    "        self.augmentation = transforms.Compose([\n",
    "            \n",
    "            transforms.RandomHorizontalFlip(p=0.5),\n",
    "            transforms.RandomRotation(degrees=10),  # small rotations\n",
    "            transforms.RandomResizedCrop(size=(384, 512), scale=(0.9, 1.0), ratio=(1.25, 1.35)),\n",
    "            transforms.ColorJitter(brightness=0.1, contrast=0.1),  # light changes\n",
    "        ])\n",
    "\n",
    "\n",
    "    def __len__(self):\n",
    "        return len(self.dataframe)\n",
    "\n",
    "    def __getitem__(self, idx):\n",
    "        img_path = self.dataframe.loc[idx, 'filename']\n",
    "        rating = self.dataframe.loc[idx, 'MOS_ZScore']\n",
    "        \n",
    "        if self.phase == 'train':\n",
    "            image = Image.open(\"../../dataset/images/train_images/\" + img_path).convert('RGB')\n",
    "        elif self.phase == 'test':\n",
    "            image = Image.open(\"../../dataset/images/test_images/\" + img_path).convert('RGB')\n",
    "        \n",
    "        if self.augment == True:\n",
    "            image = self.augmentation(image)\n",
    "            \n",
    "        image_np = np.asarray(image, dtype=np.float32)\n",
    "        image = torch.tensor(image_np)\n",
    "        image = image.permute(2, 0, 1)\n",
    "        \n",
    "        \n",
    "        if self.transform:\n",
    "            image = self.transform(image)\n",
    "\n",
    "        return image, torch.tensor(rating, dtype=torch.float32)\n"
   ]
  },
  {
   "cell_type": "markdown",
   "id": "e7f06229",
   "metadata": {},
   "source": [
    "#### 3) Create Model"
   ]
  },
  {
   "cell_type": "code",
   "execution_count": 4,
   "id": "5272d7f1-6235-4bf3-be3a-3c809bd8eb69",
   "metadata": {
    "execution": {
     "iopub.execute_input": "2025-05-25T18:45:08.543757Z",
     "iopub.status.busy": "2025-05-25T18:45:08.543487Z",
     "iopub.status.idle": "2025-05-25T18:45:08.549331Z",
     "shell.execute_reply": "2025-05-25T18:45:08.548642Z",
     "shell.execute_reply.started": "2025-05-25T18:45:08.543738Z"
    },
    "trusted": true
   },
   "outputs": [],
   "source": [
    "class ResNetRegressor(nn.Module):\n",
    "    def __init__(self):\n",
    "        super(ResNetRegressor, self).__init__()\n",
    "\n",
    "        # Load pretrained ResNet18\n",
    "        base_model = models.resnet18(weights=True)\n",
    "\n",
    "        # Remove the final classification layer\n",
    "        self.features = nn.Sequential(*list(base_model.children())[:-1])  # Excludes fc layer\n",
    "\n",
    "        # Freeze base layers\n",
    "        for param in self.features.parameters():\n",
    "            param.requires_grad = False\n",
    "\n",
    "        # Add a custom regression head\n",
    "        self.regressor = nn.Sequential(\n",
    "            nn.Linear(512, 256),\n",
    "            nn.ReLU(),\n",
    "            nn.Dropout(0.4),\n",
    "            nn.Linear(256, 256),\n",
    "            nn.ReLU(),\n",
    "            nn.Dropout(0.4),\n",
    "            nn.Linear(256, 128),\n",
    "            nn.ReLU(),\n",
    "            nn.Dropout(0.4),\n",
    "            nn.Linear(128, 1),\n",
    "        )\n",
    "\n",
    "    def forward(self, x):\n",
    "        x = self.features(x)             # Output shape: (batch_size, 512, 1, 1)\n",
    "        x = x.view(x.size(0), -1)        # Flatten to (batch_size, 512)\n",
    "        x = self.regressor(x)\n",
    "        return x\n"
   ]
  },
  {
   "cell_type": "markdown",
   "id": "dc236d8b",
   "metadata": {},
   "source": [
    "#### 4) Training of model"
   ]
  },
  {
   "cell_type": "code",
   "execution_count": 5,
   "id": "30dc555f",
   "metadata": {},
   "outputs": [
    {
     "name": "stdout",
     "output_type": "stream",
     "text": [
      "Using device: mps\n"
     ]
    }
   ],
   "source": [
    "device = torch.device(\"mps\" if torch.mps.is_available() else \"cpu\")\n",
    "print(f\"Using device: {device}\")\n"
   ]
  },
  {
   "cell_type": "code",
   "execution_count": 6,
   "id": "417786c3",
   "metadata": {},
   "outputs": [],
   "source": [
    "def validate_model(model, val_loader):\n",
    "    model.eval()\n",
    "    val_predictions = []\n",
    "    val_ground_truth = []\n",
    "\n",
    "    with torch.no_grad():\n",
    "        for images, ratings in val_loader:\n",
    "            images = images.to(device)\n",
    "            ratings = ratings.to(device)\n",
    "\n",
    "            outputs = model(images).squeeze(1)  # Remove extra dimension\n",
    "\n",
    "            val_predictions.extend(outputs.cpu().numpy())\n",
    "            val_ground_truth.extend(ratings.cpu().numpy())\n",
    "\n",
    "    # Compute SROCC\n",
    "    srocc, _ = spearmanr(val_predictions, val_ground_truth)\n",
    "\n",
    "    # Compute mean squared error for validation loss\n",
    "    val_loss = mean_squared_error(val_ground_truth, val_predictions)\n",
    "\n",
    "    return val_loss, srocc\n"
   ]
  },
  {
   "cell_type": "code",
   "execution_count": 7,
   "id": "c70b12dd",
   "metadata": {},
   "outputs": [
    {
     "name": "stderr",
     "output_type": "stream",
     "text": [
      "/Users/annimukh/miniconda3/envs/image_realness/lib/python3.10/site-packages/torchvision/models/_utils.py:223: UserWarning: Arguments other than a weight enum or `None` for 'weights' are deprecated since 0.13 and may be removed in the future. The current behavior is equivalent to passing `weights=ResNet18_Weights.IMAGENET1K_V1`. You can also use `weights=ResNet18_Weights.DEFAULT` to get the most up-to-date weights.\n",
      "  warnings.warn(msg)\n"
     ]
    }
   ],
   "source": [
    "device = torch.device('mps' if torch.mps.is_available() else 'cpu')\n",
    "model = ResNetRegressor().to(device)\n"
   ]
  },
  {
   "cell_type": "code",
   "execution_count": 8,
   "id": "2ae4641a",
   "metadata": {
    "_cell_guid": "e57dccb1-5d22-4984-aeb7-4b8b7a8f9a75",
    "_uuid": "4e3fc1c7-e7db-4986-8628-fd994eaca5d2",
    "collapsed": false,
    "execution": {
     "iopub.execute_input": "2025-05-25T18:46:32.422871Z",
     "iopub.status.busy": "2025-05-25T18:46:32.422348Z",
     "iopub.status.idle": "2025-05-25T18:46:32.430007Z",
     "shell.execute_reply": "2025-05-25T18:46:32.429274Z",
     "shell.execute_reply.started": "2025-05-25T18:46:32.422848Z"
    },
    "jupyter": {
     "outputs_hidden": false
    },
    "papermill": {
     "duration": 0.029453,
     "end_time": "2025-04-28T13:01:32.644193",
     "exception": false,
     "start_time": "2025-04-28T13:01:32.61474",
     "status": "completed"
    },
    "tags": [],
    "trusted": true
   },
   "outputs": [],
   "source": [
    "def train_model(model, train_loader, val_loader, num_epochs=10, lr=0.0001, λ=1):\n",
    "    optimizer = optim.Adam(model.parameters(), lr=lr)\n",
    "    mse_loss = nn.MSELoss()  # Mean squared error loss for regression\n",
    "    train_losses = []\n",
    "    val_losses = []\n",
    "    srocc_scores = []\n",
    "    \n",
    "    # 1) init best‐model tracking\n",
    "    best_val_loss = float('inf')\n",
    "    best_model_wts = None\n",
    "\n",
    "    for epoch in range(num_epochs):\n",
    "        model.train()\n",
    "        running_loss = 0.0\n",
    "\n",
    "        # Training loop\n",
    "        for images, ratings in train_loader:\n",
    "            images = images.to(device)\n",
    "            ratings = ratings.to(device)\n",
    "\n",
    "            optimizer.zero_grad()\n",
    "            outputs = model(images).squeeze(1)  # Remove extra dimension\n",
    "            loss = mse_loss(outputs, ratings) \n",
    "            loss.backward()\n",
    "            optimizer.step()\n",
    "\n",
    "            running_loss += loss.item()\n",
    "\n",
    "        avg_train_loss = running_loss / len(train_loader)\n",
    "        train_losses.append(avg_train_loss)\n",
    "\n",
    "        # Validation loop\n",
    "        val_loss, srocc = validate_model(model, val_loader)\n",
    "        val_losses.append(val_loss)\n",
    "        srocc_scores.append(srocc)\n",
    "        \n",
    "\n",
    "        print(f\"Epoch [{epoch + 1}/{num_epochs}], Loss: {running_loss / len(train_loader):.4f}, \"\n",
    "              f\"Validation Loss: {val_loss:.4f}, SROCC: {srocc:.4f}\")\n",
    "        \n",
    "        \n",
    "        # 2) save best on val_loss\n",
    "        if val_loss < best_val_loss:\n",
    "            best_val_loss = val_loss\n",
    "            best_model_wts = model.state_dict().copy()\n",
    "    \n",
    "    # 3) load best weights\n",
    "    if best_model_wts is not None:\n",
    "        model.load_state_dict(best_model_wts)\n",
    "        print(f\"Loaded best model from epoch with val_loss={best_val_loss:.4f}\")\n",
    "    \n",
    "    \n",
    "    plt.figure(figsize=(10, 5))\n",
    "    plt.plot(range(1, num_epochs + 1), train_losses, label='Training Loss')\n",
    "    plt.plot(range(1, num_epochs + 1), val_losses, label='Validation Loss')\n",
    "    plt.xlabel('Epoch')\n",
    "    plt.ylabel('Loss')\n",
    "    plt.title('Training & Validation Loss')\n",
    "    plt.legend()\n",
    "    plt.grid(True)\n",
    "    # plt.savefig('ResNet50_loss_plot.png')\n",
    "    plt.show()\n",
    "    \n",
    "    return model, train_losses, val_losses, srocc_scores\n"
   ]
  },
  {
   "cell_type": "code",
   "execution_count": 9,
   "id": "0e5c0985-9b29-434c-babe-9455c329b378",
   "metadata": {
    "execution": {
     "iopub.execute_input": "2025-05-25T18:46:34.732336Z",
     "iopub.status.busy": "2025-05-25T18:46:34.732072Z",
     "iopub.status.idle": "2025-05-25T18:46:34.737186Z",
     "shell.execute_reply": "2025-05-25T18:46:34.736548Z",
     "shell.execute_reply.started": "2025-05-25T18:46:34.732317Z"
    },
    "trusted": true
   },
   "outputs": [
    {
     "name": "stdout",
     "output_type": "stream",
     "text": [
      "Total number of trainable parameters: 230,145\n"
     ]
    }
   ],
   "source": [
    "def count_parameters(model):\n",
    "    return sum(p.numel() for p in model.parameters() if p.requires_grad)\n",
    "\n",
    "num_params = count_parameters(model)\n",
    "print(f\"Total number of trainable parameters: {num_params:,}\")\n"
   ]
  },
  {
   "cell_type": "markdown",
   "id": "2d757a1c",
   "metadata": {},
   "source": [
    "#### 5) Load CSV and stratified split data, training loop"
   ]
  },
  {
   "cell_type": "code",
   "execution_count": 10,
   "id": "5769f916",
   "metadata": {
    "_cell_guid": "86da5f32-329f-41d9-af0d-1cef212035f3",
    "_uuid": "95153477-ddd9-497e-bd45-6cbec9b5d0bc",
    "collapsed": false,
    "execution": {
     "iopub.execute_input": "2025-05-25T18:46:36.815840Z",
     "iopub.status.busy": "2025-05-25T18:46:36.815575Z",
     "iopub.status.idle": "2025-05-25T18:46:36.826140Z",
     "shell.execute_reply": "2025-05-25T18:46:36.825577Z",
     "shell.execute_reply.started": "2025-05-25T18:46:36.815821Z"
    },
    "jupyter": {
     "outputs_hidden": false
    },
    "papermill": {
     "duration": 3.023618,
     "end_time": "2025-04-28T13:01:35.735374",
     "exception": false,
     "start_time": "2025-04-28T13:01:32.711756",
     "status": "completed"
    },
    "tags": [],
    "trusted": true
   },
   "outputs": [
    {
     "name": "stdout",
     "output_type": "stream",
     "text": [
      "(420, 3) (90, 3) (90, 3)\n"
     ]
    }
   ],
   "source": [
    "train_df = pd.read_csv(\"../../dataset/ratings/train.csv\")\n",
    "test_df = pd.read_csv(\"../../dataset/ratings/test.csv\")\n",
    "\n",
    "val_df = train_df.iloc[-90:].copy()\n",
    "train_df = train_df.iloc[:-90].copy()\n",
    "\n",
    "print(train_df.shape, val_df.shape, test_df.shape)\n"
   ]
  },
  {
   "cell_type": "code",
   "execution_count": 11,
   "id": "ba0199d3-2988-4c69-9284-60830553cb7d",
   "metadata": {
    "execution": {
     "iopub.execute_input": "2025-05-25T18:46:37.058915Z",
     "iopub.status.busy": "2025-05-25T18:46:37.058338Z",
     "iopub.status.idle": "2025-05-25T18:59:36.746631Z",
     "shell.execute_reply": "2025-05-25T18:59:36.745868Z",
     "shell.execute_reply.started": "2025-05-25T18:46:37.058895Z"
    },
    "trusted": true
   },
   "outputs": [
    {
     "name": "stdout",
     "output_type": "stream",
     "text": [
      "Epoch [1/75], Loss: 1.0094, Validation Loss: 0.9810, SROCC: 0.2955\n",
      "Epoch [2/75], Loss: 0.9436, Validation Loss: 0.9671, SROCC: 0.4536\n",
      "Epoch [3/75], Loss: 1.1728, Validation Loss: 0.9495, SROCC: 0.4910\n",
      "Epoch [4/75], Loss: 0.9061, Validation Loss: 0.9259, SROCC: 0.5472\n",
      "Epoch [5/75], Loss: 0.9096, Validation Loss: 0.8978, SROCC: 0.5441\n",
      "Epoch [6/75], Loss: 0.8969, Validation Loss: 0.8625, SROCC: 0.5448\n",
      "Epoch [7/75], Loss: 0.8523, Validation Loss: 0.8201, SROCC: 0.5816\n",
      "Epoch [8/75], Loss: 0.8551, Validation Loss: 0.7756, SROCC: 0.5755\n",
      "Epoch [9/75], Loss: 0.8017, Validation Loss: 0.7332, SROCC: 0.5957\n",
      "Epoch [10/75], Loss: 0.7447, Validation Loss: 0.7058, SROCC: 0.5676\n",
      "Epoch [11/75], Loss: 0.7610, Validation Loss: 0.6605, SROCC: 0.5891\n",
      "Epoch [12/75], Loss: 0.8662, Validation Loss: 0.6409, SROCC: 0.5958\n",
      "Epoch [13/75], Loss: 0.7792, Validation Loss: 0.6257, SROCC: 0.6132\n",
      "Epoch [14/75], Loss: 0.7241, Validation Loss: 0.6300, SROCC: 0.6082\n",
      "Epoch [15/75], Loss: 0.6633, Validation Loss: 0.6185, SROCC: 0.6193\n",
      "Epoch [16/75], Loss: 0.6376, Validation Loss: 0.6290, SROCC: 0.6170\n",
      "Epoch [17/75], Loss: 0.6265, Validation Loss: 0.6196, SROCC: 0.6222\n",
      "Epoch [18/75], Loss: 0.8354, Validation Loss: 0.6244, SROCC: 0.6200\n",
      "Epoch [19/75], Loss: 0.6114, Validation Loss: 0.6163, SROCC: 0.6314\n",
      "Epoch [20/75], Loss: 0.6217, Validation Loss: 0.6232, SROCC: 0.6235\n",
      "Epoch [21/75], Loss: 0.6370, Validation Loss: 0.6103, SROCC: 0.6274\n",
      "Epoch [22/75], Loss: 0.6466, Validation Loss: 0.6209, SROCC: 0.6271\n",
      "Epoch [23/75], Loss: 0.5618, Validation Loss: 0.6499, SROCC: 0.6202\n",
      "Epoch [24/75], Loss: 0.6928, Validation Loss: 0.6122, SROCC: 0.6424\n",
      "Epoch [25/75], Loss: 0.5508, Validation Loss: 0.6207, SROCC: 0.6282\n",
      "Epoch [26/75], Loss: 0.4982, Validation Loss: 0.6292, SROCC: 0.6248\n",
      "Epoch [27/75], Loss: 0.5106, Validation Loss: 0.6237, SROCC: 0.6272\n",
      "Epoch [28/75], Loss: 0.5486, Validation Loss: 0.6290, SROCC: 0.6363\n",
      "Epoch [29/75], Loss: 0.5553, Validation Loss: 0.6300, SROCC: 0.6345\n",
      "Epoch [30/75], Loss: 0.5624, Validation Loss: 0.6326, SROCC: 0.6328\n",
      "Epoch [31/75], Loss: 0.5854, Validation Loss: 0.6298, SROCC: 0.6292\n",
      "Epoch [32/75], Loss: 0.5827, Validation Loss: 0.6441, SROCC: 0.6211\n",
      "Epoch [33/75], Loss: 0.4887, Validation Loss: 0.6253, SROCC: 0.6220\n",
      "Epoch [34/75], Loss: 0.5161, Validation Loss: 0.6305, SROCC: 0.6220\n",
      "Epoch [35/75], Loss: 0.5313, Validation Loss: 0.6316, SROCC: 0.6203\n",
      "Epoch [36/75], Loss: 0.5196, Validation Loss: 0.6155, SROCC: 0.6242\n",
      "Epoch [37/75], Loss: 0.4635, Validation Loss: 0.6247, SROCC: 0.6212\n",
      "Epoch [38/75], Loss: 0.4515, Validation Loss: 0.6317, SROCC: 0.6160\n",
      "Epoch [39/75], Loss: 0.4557, Validation Loss: 0.6158, SROCC: 0.6262\n",
      "Epoch [40/75], Loss: 0.4621, Validation Loss: 0.6578, SROCC: 0.6171\n",
      "Epoch [41/75], Loss: 0.4778, Validation Loss: 0.6072, SROCC: 0.6272\n",
      "Epoch [42/75], Loss: 0.4844, Validation Loss: 0.6370, SROCC: 0.6213\n",
      "Epoch [43/75], Loss: 0.4503, Validation Loss: 0.5992, SROCC: 0.6209\n",
      "Epoch [44/75], Loss: 0.4633, Validation Loss: 0.6091, SROCC: 0.6319\n",
      "Epoch [45/75], Loss: 0.4416, Validation Loss: 0.6645, SROCC: 0.6164\n",
      "Epoch [46/75], Loss: 0.4809, Validation Loss: 0.5951, SROCC: 0.6377\n",
      "Epoch [47/75], Loss: 0.4093, Validation Loss: 0.6485, SROCC: 0.6301\n",
      "Epoch [48/75], Loss: 0.4365, Validation Loss: 0.5991, SROCC: 0.6301\n",
      "Epoch [49/75], Loss: 0.4679, Validation Loss: 0.6077, SROCC: 0.6252\n",
      "Epoch [50/75], Loss: 0.4594, Validation Loss: 0.6132, SROCC: 0.6293\n",
      "Epoch [51/75], Loss: 0.4437, Validation Loss: 0.6066, SROCC: 0.6333\n",
      "Epoch [52/75], Loss: 0.4402, Validation Loss: 0.5904, SROCC: 0.6317\n",
      "Epoch [53/75], Loss: 0.4237, Validation Loss: 0.6202, SROCC: 0.6320\n",
      "Epoch [54/75], Loss: 0.3893, Validation Loss: 0.6055, SROCC: 0.6467\n",
      "Epoch [55/75], Loss: 0.4256, Validation Loss: 0.6254, SROCC: 0.6370\n",
      "Epoch [56/75], Loss: 0.4015, Validation Loss: 0.6016, SROCC: 0.6501\n",
      "Epoch [57/75], Loss: 0.3420, Validation Loss: 0.6085, SROCC: 0.6351\n",
      "Epoch [58/75], Loss: 0.3817, Validation Loss: 0.6017, SROCC: 0.6359\n",
      "Epoch [59/75], Loss: 0.3938, Validation Loss: 0.6831, SROCC: 0.6225\n",
      "Epoch [60/75], Loss: 0.4048, Validation Loss: 0.6247, SROCC: 0.6344\n",
      "Epoch [61/75], Loss: 0.4644, Validation Loss: 0.6008, SROCC: 0.6381\n",
      "Epoch [62/75], Loss: 0.3909, Validation Loss: 0.6519, SROCC: 0.6218\n",
      "Epoch [63/75], Loss: 0.3737, Validation Loss: 0.6112, SROCC: 0.6432\n",
      "Epoch [64/75], Loss: 0.3828, Validation Loss: 0.5975, SROCC: 0.6375\n",
      "Epoch [65/75], Loss: 0.3947, Validation Loss: 0.6918, SROCC: 0.6254\n",
      "Epoch [66/75], Loss: 0.4370, Validation Loss: 0.5831, SROCC: 0.6466\n",
      "Epoch [67/75], Loss: 0.3710, Validation Loss: 0.6186, SROCC: 0.6357\n",
      "Epoch [68/75], Loss: 0.4684, Validation Loss: 0.6249, SROCC: 0.6447\n",
      "Epoch [69/75], Loss: 0.3749, Validation Loss: 0.6437, SROCC: 0.6358\n",
      "Epoch [70/75], Loss: 0.4045, Validation Loss: 0.6018, SROCC: 0.6381\n",
      "Epoch [71/75], Loss: 0.4378, Validation Loss: 0.5878, SROCC: 0.6345\n",
      "Epoch [72/75], Loss: 0.3472, Validation Loss: 0.6279, SROCC: 0.6307\n",
      "Epoch [73/75], Loss: 0.4409, Validation Loss: 0.5570, SROCC: 0.6416\n",
      "Epoch [74/75], Loss: 0.4097, Validation Loss: 0.6572, SROCC: 0.6304\n",
      "Epoch [75/75], Loss: 0.3884, Validation Loss: 0.5680, SROCC: 0.6496\n",
      "Loaded best model from epoch with val_loss=0.5570\n"
     ]
    },
    {
     "data": {
      "image/png": "[encoded data removed]",
      "text/plain": [
       "<Figure size 1000x500 with 1 Axes>"
      ]
     },
     "metadata": {},
     "output_type": "display_data"
    }
   ],
   "source": [
    "# Create dataset partitions\n",
    "train_dataset = ImageRatingDataset(train_df, augment=True, phase='train')\n",
    "val_dataset = ImageRatingDataset(val_df, phase='train')\n",
    "test_dataset = ImageRatingDataset(test_df, phase='test')\n",
    "\n",
    "\n",
    "# Create dataloaders\n",
    "train_loader = DataLoader(train_dataset, batch_size=32, shuffle=True)\n",
    "val_loader = DataLoader(val_dataset, batch_size=32)\n",
    "test_loader = DataLoader(test_dataset, batch_size=32)\n",
    "\n",
    "\n",
    "# Start training\n",
    "model, train_losses, val_losses, srocc_scores = train_model(model, train_loader, val_loader, num_epochs=75)\n"
   ]
  },
  {
   "cell_type": "markdown",
   "id": "9440894d",
   "metadata": {},
   "source": [
    "#### 6) Model Evaluation"
   ]
  },
  {
   "cell_type": "code",
   "execution_count": 12,
   "id": "9d70e731-0fbf-469b-a39f-887003eb69cc",
   "metadata": {
    "execution": {
     "iopub.execute_input": "2025-05-25T19:01:02.050434Z",
     "iopub.status.busy": "2025-05-25T19:01:02.049767Z",
     "iopub.status.idle": "2025-05-25T19:01:03.922809Z",
     "shell.execute_reply": "2025-05-25T19:01:03.922136Z",
     "shell.execute_reply.started": "2025-05-25T19:01:02.050409Z"
    },
    "trusted": true
   },
   "outputs": [
    {
     "name": "stdout",
     "output_type": "stream",
     "text": [
      "0.6684528954191875 0.73948795\n"
     ]
    }
   ],
   "source": [
    "model.eval()\n",
    "all_preds = []\n",
    "all_labels = []\n",
    "with torch.no_grad():\n",
    "    for images, labels in test_loader:\n",
    "        images = images.to(device)\n",
    "        outputs = model(images)\n",
    "        preds = outputs.cpu().numpy().flatten()\n",
    "        all_preds.extend(preds)\n",
    "        all_labels.extend(labels.numpy())\n",
    "\n",
    "all_preds = np.array(all_preds)\n",
    "all_labels = np.array(all_labels)\n",
    "\n",
    "# Compute Spearman's rank correlation coefficient (SROCC)\n",
    "spearman_corr, _ = spearmanr(all_labels, all_preds)\n",
    "pearson_corr, _ = pearsonr(all_labels, all_preds)\n",
    "\n",
    "print(spearman_corr, pearson_corr)\n"
   ]
  },
  {
   "cell_type": "code",
   "execution_count": 13,
   "id": "0dc79281",
   "metadata": {
    "execution": {
     "iopub.execute_input": "2025-05-25T19:01:08.069261Z",
     "iopub.status.busy": "2025-05-25T19:01:08.068592Z",
     "iopub.status.idle": "2025-05-25T19:01:09.470642Z",
     "shell.execute_reply": "2025-05-25T19:01:09.469944Z",
     "shell.execute_reply.started": "2025-05-25T19:01:08.069230Z"
    },
    "papermill": {
     "duration": null,
     "end_time": null,
     "exception": null,
     "start_time": null,
     "status": "completed"
    },
    "tags": [],
    "trusted": true
   },
   "outputs": [
    {
     "data": {
      "image/png": "[encoded data removed]",
      "text/plain": [
       "<Figure size 800x600 with 1 Axes>"
      ]
     },
     "metadata": {},
     "output_type": "display_data"
    },
    {
     "name": "stdout",
     "output_type": "stream",
     "text": [
      "0.6684528954191875 0.73948795\n"
     ]
    }
   ],
   "source": [
    "predictions = []\n",
    "ground_truths = []\n",
    "\n",
    "# Iterate over the validation dataset\n",
    "with torch.no_grad():\n",
    "    for images, ratings in test_loader:\n",
    "        images = images.to(device) \n",
    "        ratings = ratings.to(device)\n",
    "\n",
    "        predicted_ratings = model(images)\n",
    "\n",
    "        predictions.extend(predicted_ratings.cpu().numpy())\n",
    "        ground_truths.extend(ratings.cpu().numpy())\n",
    "\n",
    "predictions = np.array(predictions).flatten()\n",
    "ground_truths = np.array(ground_truths).flatten()\n",
    "\n",
    "\n",
    "plt.figure(figsize=(8, 6))\n",
    "plt.scatter(ground_truths, predictions, alpha=0.5, c='blue')\n",
    "plt.title('Prediction vs Ground Truth', fontsize=16)\n",
    "plt.xlabel('Ground Truth Ratings', fontsize=14)\n",
    "plt.ylabel('Predicted Ratings', fontsize=14)\n",
    "plt.grid(True)\n",
    "plt.show()\n",
    "\n",
    "# Compute Spearman's rank correlation coefficient (SROCC)\n",
    "spearman_corr, _ = spearmanr(ground_truths, predictions)\n",
    "pearson_corr, _ = pearsonr(ground_truths, predictions)\n",
    "\n",
    "print(spearman_corr, pearson_corr)\n"
   ]
  },
  {
   "cell_type": "code",
   "execution_count": 14,
   "id": "a5e487f3-76d0-4909-bc2a-adf0e1b357e5",
   "metadata": {
    "execution": {
     "iopub.execute_input": "2025-05-25T19:01:30.018119Z",
     "iopub.status.busy": "2025-05-25T19:01:30.017839Z",
     "iopub.status.idle": "2025-05-25T19:01:30.093036Z",
     "shell.execute_reply": "2025-05-25T19:01:30.092259Z",
     "shell.execute_reply.started": "2025-05-25T19:01:30.018100Z"
    },
    "trusted": true
   },
   "outputs": [
    {
     "name": "stdout",
     "output_type": "stream",
     "text": [
      "✔️  Weights written to ./weights/resnet18_transf-learn-wts.pth\n"
     ]
    }
   ],
   "source": [
    "import torch, os\n",
    "\n",
    "\n",
    "SAVE_DIR = \"./weights\"          \n",
    "WEIGHT_FILE = \"resnet18_transf-learn-wts.pth\"\n",
    "\n",
    "os.makedirs(SAVE_DIR, exist_ok=True)\n",
    "torch.save(model.state_dict(), f\"{SAVE_DIR}/{WEIGHT_FILE}\")\n",
    "print(\"✔️  Weights written to\", f\"{SAVE_DIR}/{WEIGHT_FILE}\")\n"
   ]
  },
  {
   "cell_type": "code",
   "execution_count": null,
   "id": "e52c9103-9405-40f8-82a6-0a5b54a502a6",
   "metadata": {
    "trusted": true
   },
   "outputs": [],
   "source": []
  }
 ],
 "metadata": {
  "kaggle": {
   "accelerator": "gpu",
   "dataSources": [
    {
     "datasetId": 7259059,
     "sourceId": 11577853,
     "sourceType": "datasetVersion"
    },
    {
     "datasetId": 7512054,
     "sourceId": 11948935,
     "sourceType": "datasetVersion"
    }
   ],
   "dockerImageVersionId": 31011,
   "isGpuEnabled": true,
   "isInternetEnabled": true,
   "language": "python",
   "sourceType": "notebook"
  },
  "kernelspec": {
   "display_name": "image_realness",
   "language": "python",
   "name": "python3"
  },
  "language_info": {
   "codemirror_mode": {
    "name": "ipython",
    "version": 3
   },
   "file_extension": ".py",
   "mimetype": "text/x-python",
   "name": "python",
   "nbconvert_exporter": "python",
   "pygments_lexer": "ipython3",
   "version": "3.10.15"
  },
  "papermill": {
   "default_parameters": {},
   "duration": 191.089176,
   "end_time": "2025-04-28T13:01:35.758895",
   "environment_variables": {},
   "exception": null,
   "input_path": "__notebook__.ipynb",
   "output_path": "__notebook__.ipynb",
   "parameters": {},
   "start_time": "2025-04-28T12:58:24.669719",
   "version": "2.6.0"
  }
 },
 "nbformat": 4,
 "nbformat_minor": 5
}
