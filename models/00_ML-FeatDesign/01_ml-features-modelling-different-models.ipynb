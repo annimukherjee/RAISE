{
 "cells": [
  {
   "cell_type": "markdown",
   "metadata": {},
   "source": [
    "# Goal: \n",
    "\n",
    "The goal of this notebook is to try a bunch of the Scikit learn APIs on a bunch of rudimentary features extracted from the images and see which algorithm does the best. Then, using that algorithm, we perform ablation studies to see how each set of features affect the performance of the Scikit learn regression API.\n"
   ]
  },
  {
   "cell_type": "markdown",
   "metadata": {},
   "source": [
    "## Imports"
   ]
  },
  {
   "cell_type": "code",
   "execution_count": 1,
   "metadata": {},
   "outputs": [],
   "source": [
    "import numpy as np\n",
    "import random\n",
    "import pandas as pd\n",
    "from PIL import Image\n",
    "from scipy.stats import spearmanr, pearsonr\n",
    "from sklearn.linear_model    import LinearRegression, Ridge, Lasso, ElasticNet\n",
    "from sklearn.tree            import DecisionTreeRegressor\n",
    "from sklearn.ensemble        import (\n",
    "    RandomForestRegressor, ExtraTreesRegressor,\n",
    "    HistGradientBoostingRegressor,\n",
    "    AdaBoostRegressor, BaggingRegressor,\n",
    "    GradientBoostingRegressor\n",
    ")\n",
    "from sklearn.svm             import SVR\n",
    "from sklearn.neighbors       import KNeighborsRegressor\n",
    "from sklearn.neural_network  import MLPRegressor\n",
    "from skimage.feature import local_binary_pattern, hog, graycomatrix, graycoprops\n",
    "from skimage.color   import rgb2lab, rgb2hsv\n",
    "from scipy import ndimage\n",
    "import pywt\n",
    "SEED = 42\n",
    "random.seed(SEED)\n",
    "np.random.seed(SEED)\n"
   ]
  },
  {
   "cell_type": "markdown",
   "metadata": {},
   "source": [
    "## Reading the preparing the data"
   ]
  },
  {
   "cell_type": "code",
   "execution_count": 2,
   "metadata": {},
   "outputs": [],
   "source": [
    "train_df = pd.read_csv(\"../../dataset/ratings/train.csv\")\n",
    "test_df = pd.read_csv(\"../../dataset/ratings/test.csv\")\n"
   ]
  },
  {
   "cell_type": "code",
   "execution_count": 3,
   "metadata": {},
   "outputs": [
    {
     "name": "stdout",
     "output_type": "stream",
     "text": [
      "val_df.shape: (90, 3)\n",
      "train_df.shape: (420, 3)\n"
     ]
    }
   ],
   "source": [
    "    val_df = train_df.iloc[-90:].copy()\n",
    "train_df = train_df.iloc[:-90].copy()\n",
    "print(f\"val_df.shape: {val_df.shape}\")\n",
    "print(f\"train_df.shape: {train_df.shape}\")\n"
   ]
  },
  {
   "cell_type": "code",
   "execution_count": 4,
   "metadata": {},
   "outputs": [
    {
     "data": {
      "text/html": [
       "<div>\n",
       "<style scoped>\n",
       "    .dataframe tbody tr th:only-of-type {\n",
       "        vertical-align: middle;\n",
       "    }\n",
       "\n",
       "    .dataframe tbody tr th {\n",
       "        vertical-align: top;\n",
       "    }\n",
       "\n",
       "    .dataframe thead th {\n",
       "        text-align: right;\n",
       "    }\n",
       "</style>\n",
       "<table border=\"1\" class=\"dataframe\">\n",
       "  <thead>\n",
       "    <tr style=\"text-align: right;\">\n",
       "      <th></th>\n",
       "      <th>filename</th>\n",
       "      <th>MOS_Rating</th>\n",
       "      <th>MOS_ZScore</th>\n",
       "    </tr>\n",
       "  </thead>\n",
       "  <tbody>\n",
       "    <tr>\n",
       "      <th>0</th>\n",
       "      <td>f329.png</td>\n",
       "      <td>66.346670</td>\n",
       "      <td>0.134646</td>\n",
       "    </tr>\n",
       "    <tr>\n",
       "      <th>1</th>\n",
       "      <td>f316.png</td>\n",
       "      <td>47.456209</td>\n",
       "      <td>-0.954147</td>\n",
       "    </tr>\n",
       "    <tr>\n",
       "      <th>2</th>\n",
       "      <td>f257.png</td>\n",
       "      <td>80.986020</td>\n",
       "      <td>0.978417</td>\n",
       "    </tr>\n",
       "    <tr>\n",
       "      <th>3</th>\n",
       "      <td>f206.png</td>\n",
       "      <td>11.237613</td>\n",
       "      <td>-3.041686</td>\n",
       "    </tr>\n",
       "    <tr>\n",
       "      <th>4</th>\n",
       "      <td>f459.png</td>\n",
       "      <td>60.666032</td>\n",
       "      <td>-0.192770</td>\n",
       "    </tr>\n",
       "  </tbody>\n",
       "</table>\n",
       "</div>"
      ],
      "text/plain": [
       "   filename  MOS_Rating  MOS_ZScore\n",
       "0  f329.png   66.346670    0.134646\n",
       "1  f316.png   47.456209   -0.954147\n",
       "2  f257.png   80.986020    0.978417\n",
       "3  f206.png   11.237613   -3.041686\n",
       "4  f459.png   60.666032   -0.192770"
      ]
     },
     "execution_count": 4,
     "metadata": {},
     "output_type": "execute_result"
    }
   ],
   "source": [
    "train_df.head()\n"
   ]
  },
  {
   "cell_type": "code",
   "execution_count": 5,
   "metadata": {},
   "outputs": [
    {
     "data": {
      "text/html": [
       "<div>\n",
       "<style scoped>\n",
       "    .dataframe tbody tr th:only-of-type {\n",
       "        vertical-align: middle;\n",
       "    }\n",
       "\n",
       "    .dataframe tbody tr th {\n",
       "        vertical-align: top;\n",
       "    }\n",
       "\n",
       "    .dataframe thead th {\n",
       "        text-align: right;\n",
       "    }\n",
       "</style>\n",
       "<table border=\"1\" class=\"dataframe\">\n",
       "  <thead>\n",
       "    <tr style=\"text-align: right;\">\n",
       "      <th></th>\n",
       "      <th>filename</th>\n",
       "      <th>MOS_Rating</th>\n",
       "      <th>MOS_ZScore</th>\n",
       "    </tr>\n",
       "  </thead>\n",
       "  <tbody>\n",
       "    <tr>\n",
       "      <th>420</th>\n",
       "      <td>f68.png</td>\n",
       "      <td>61.416769</td>\n",
       "      <td>-0.149500</td>\n",
       "    </tr>\n",
       "    <tr>\n",
       "      <th>421</th>\n",
       "      <td>f191.png</td>\n",
       "      <td>59.814871</td>\n",
       "      <td>-0.241829</td>\n",
       "    </tr>\n",
       "    <tr>\n",
       "      <th>422</th>\n",
       "      <td>f278.png</td>\n",
       "      <td>66.696317</td>\n",
       "      <td>0.154798</td>\n",
       "    </tr>\n",
       "    <tr>\n",
       "      <th>423</th>\n",
       "      <td>f62.png</td>\n",
       "      <td>72.154690</td>\n",
       "      <td>0.469404</td>\n",
       "    </tr>\n",
       "    <tr>\n",
       "      <th>424</th>\n",
       "      <td>f164.png</td>\n",
       "      <td>75.020202</td>\n",
       "      <td>0.634564</td>\n",
       "    </tr>\n",
       "  </tbody>\n",
       "</table>\n",
       "</div>"
      ],
      "text/plain": [
       "     filename  MOS_Rating  MOS_ZScore\n",
       "420   f68.png   61.416769   -0.149500\n",
       "421  f191.png   59.814871   -0.241829\n",
       "422  f278.png   66.696317    0.154798\n",
       "423   f62.png   72.154690    0.469404\n",
       "424  f164.png   75.020202    0.634564"
      ]
     },
     "execution_count": 5,
     "metadata": {},
     "output_type": "execute_result"
    }
   ],
   "source": [
    "val_df.head()\n"
   ]
  },
  {
   "cell_type": "code",
   "execution_count": 6,
   "metadata": {},
   "outputs": [
    {
     "data": {
      "text/html": [
       "<div>\n",
       "<style scoped>\n",
       "    .dataframe tbody tr th:only-of-type {\n",
       "        vertical-align: middle;\n",
       "    }\n",
       "\n",
       "    .dataframe tbody tr th {\n",
       "        vertical-align: top;\n",
       "    }\n",
       "\n",
       "    .dataframe thead th {\n",
       "        text-align: right;\n",
       "    }\n",
       "</style>\n",
       "<table border=\"1\" class=\"dataframe\">\n",
       "  <thead>\n",
       "    <tr style=\"text-align: right;\">\n",
       "      <th></th>\n",
       "      <th>filename</th>\n",
       "      <th>MOS_Rating</th>\n",
       "      <th>MOS_ZScore</th>\n",
       "    </tr>\n",
       "  </thead>\n",
       "  <tbody>\n",
       "    <tr>\n",
       "      <th>0</th>\n",
       "      <td>f244.png</td>\n",
       "      <td>75.843124</td>\n",
       "      <td>0.681995</td>\n",
       "    </tr>\n",
       "    <tr>\n",
       "      <th>1</th>\n",
       "      <td>f126.png</td>\n",
       "      <td>76.323762</td>\n",
       "      <td>0.709697</td>\n",
       "    </tr>\n",
       "    <tr>\n",
       "      <th>2</th>\n",
       "      <td>r3.png</td>\n",
       "      <td>85.236324</td>\n",
       "      <td>1.223393</td>\n",
       "    </tr>\n",
       "    <tr>\n",
       "      <th>3</th>\n",
       "      <td>f145.png</td>\n",
       "      <td>42.999260</td>\n",
       "      <td>-1.211034</td>\n",
       "    </tr>\n",
       "    <tr>\n",
       "      <th>4</th>\n",
       "      <td>f170.png</td>\n",
       "      <td>51.925539</td>\n",
       "      <td>-0.696548</td>\n",
       "    </tr>\n",
       "  </tbody>\n",
       "</table>\n",
       "</div>"
      ],
      "text/plain": [
       "   filename  MOS_Rating  MOS_ZScore\n",
       "0  f244.png   75.843124    0.681995\n",
       "1  f126.png   76.323762    0.709697\n",
       "2    r3.png   85.236324    1.223393\n",
       "3  f145.png   42.999260   -1.211034\n",
       "4  f170.png   51.925539   -0.696548"
      ]
     },
     "execution_count": 6,
     "metadata": {},
     "output_type": "execute_result"
    }
   ],
   "source": [
    "test_df.head()\n"
   ]
  },
  {
   "cell_type": "code",
   "execution_count": 7,
   "metadata": {},
   "outputs": [
    {
     "name": "stdout",
     "output_type": "stream",
     "text": [
      "train_df.shape: (420, 3)\n",
      "val_df.shape: (90, 3)\n",
      "test_df.shape: (90, 3)\n"
     ]
    }
   ],
   "source": [
    "print(f\"train_df.shape: {train_df.shape}\")\n",
    "print(f\"val_df.shape: {val_df.shape}\")\n",
    "print(f\"test_df.shape: {test_df.shape}\")\n"
   ]
  },
  {
   "cell_type": "code",
   "execution_count": 8,
   "metadata": {},
   "outputs": [
    {
     "name": "stdout",
     "output_type": "stream",
     "text": [
      "Overlap between train and val: 0 file(s)\n",
      "Overlap between train and test: 0 file(s)\n",
      "Overlap between val and test: 0 file(s)\n"
     ]
    }
   ],
   "source": [
    "train_files = set(train_df['filename'])\n",
    "val_files   = set(val_df['filename'])\n",
    "test_files  = set(test_df['filename'])\n",
    "\n",
    "train_val_overlap   = train_files.intersection(val_files)\n",
    "train_test_overlap  = train_files.intersection(test_files)\n",
    "val_test_overlap    = val_files.intersection(test_files)\n",
    "\n",
    "# Print summary and details if any overlaps exist\n",
    "print(f\"Overlap between train and val: {len(train_val_overlap)} file(s)\")\n",
    "if train_val_overlap:\n",
    "    print(\"Files:\", train_val_overlap)\n",
    "\n",
    "print(f\"Overlap between train and test: {len(train_test_overlap)} file(s)\")\n",
    "if train_test_overlap:\n",
    "    print(\"Files:\", train_test_overlap)\n",
    "\n",
    "print(f\"Overlap between val and test: {len(val_test_overlap)} file(s)\")\n",
    "if val_test_overlap:\n",
    "    print(\"Files:\", val_test_overlap)\n"
   ]
  },
  {
   "cell_type": "code",
   "execution_count": 9,
   "metadata": {},
   "outputs": [],
   "source": [
    "X_train = list(train_df[\"filename\"])\n",
    "y_train = list(train_df[\"MOS_ZScore\"])\n",
    "\n",
    "X_valid = list(val_df[\"filename\"])\n",
    "y_valid = list(val_df[\"MOS_ZScore\"])\n",
    "\n",
    "X_test = list(test_df[\"filename\"])\n",
    "y_test = list(test_df[\"MOS_ZScore\"])\n"
   ]
  },
  {
   "cell_type": "markdown",
   "metadata": {},
   "source": [
    "## Defining `FeatureExtractor`:"
   ]
  },
  {
   "cell_type": "code",
   "execution_count": 10,
   "metadata": {},
   "outputs": [],
   "source": [
    "class FeatureExtractor:\n",
    "    def __init__(self, img_dir=\"\"):\n",
    "        self.img_dir = img_dir\n",
    "\n",
    "    def extract(self, image_name):\n",
    "        img = np.asarray(Image.open(self.img_dir + image_name))\n",
    "        gray = np.mean(img, axis=2)\n",
    "        h, w = gray.shape\n",
    "\n",
    "        feats = []\n",
    "\n",
    "\n",
    "        # — Color features\n",
    "        lab = rgb2lab(img)\n",
    "        hsv = rgb2hsv(img)\n",
    "        lab_a = lab[:, :, 1].astype(np.float32)/127\n",
    "        lab_b = lab[:, :, 2].astype(np.float32)/127\n",
    "        feats.extend([\n",
    "            np.std(lab_a), np.std(lab_b),\n",
    "            hsv[:,:,0].std(),\n",
    "            np.percentile(hsv[:,:,1],95),\n",
    "            np.mean(np.abs(lab_a)), np.mean(np.abs(lab_b)),\n",
    "            np.median(hsv[:,:,2]),\n",
    "            (hsv[:,:,2]>0.9).mean()\n",
    "        ])\n",
    "\n",
    "\n",
    "\n",
    "        # — Edge features\n",
    "        sx = ndimage.sobel(gray, axis=1)\n",
    "        sy = ndimage.sobel(gray, axis=0)\n",
    "        mag = np.hypot(sx,sy)\n",
    "        feats.extend([\n",
    "            mag.mean(), mag.std(),\n",
    "            np.percentile(mag,90),\n",
    "            (mag>0.2).mean(),\n",
    "            np.corrcoef(sx[::10].flatten(), sy[::10].flatten())[0,1],\n",
    "            np.std(np.arctan2(sy,sx)[mag>0.1]),\n",
    "            np.abs(sx - np.fliplr(sx)).mean(),\n",
    "            np.abs(sy - np.flipud(sy)).mean(),\n",
    "            np.mean(mag[mag>0.05]), mag.max()\n",
    "        ])\n",
    "\n",
    "\n",
    "        # — Texture (GLCM + HOG)\n",
    "        glcm = graycomatrix((gray*255).astype(np.uint8),\n",
    "                            distances=[1,3],\n",
    "                            angles=[0,np.pi/4],\n",
    "                            levels=256, symmetric=True)\n",
    "        for prop in [\"contrast\",\"dissimilarity\",\"homogeneity\",\"energy\",\"correlation\"]:\n",
    "            feats.extend(graycoprops(glcm, prop).flatten())\n",
    "        hogf = hog(gray, orientations=8,\n",
    "                   pixels_per_cell=(32,32),\n",
    "                   cells_per_block=(1,1),\n",
    "                   visualize=False)\n",
    "        feats.extend([hogf.mean(), hogf.std()])\n",
    "\n",
    "\n",
    "\n",
    "        # — Frequency (wavelets)\n",
    "        coeffs = pywt.wavedec2(gray, 'db2', level=3)\n",
    "        for cH,cV,cD in coeffs[1:]:\n",
    "            feats.extend([\n",
    "                np.abs(cH).mean(),\n",
    "                np.abs(cV).mean(),\n",
    "                np.abs(cD).mean(),\n",
    "                np.percentile(np.abs(cH), 90)\n",
    "            ])\n",
    "\n",
    "\n",
    "\n",
    "        # — Perceptual grouping\n",
    "        ce = ndimage.gaussian_filter(gray,1) - ndimage.gaussian_filter(gray,3)\n",
    "        feats.append(np.mean(ce**2))\n",
    "        sal = np.abs(ndimage.gaussian_gradient_magnitude(gray,2))\n",
    "        feats.extend([sal.mean(), sal.std()])\n",
    "\n",
    "        return np.array(feats)\n",
    "\n",
    "    def transform(self, image_list):\n",
    "        return np.vstack([self.extract(img) for img in image_list])\n"
   ]
  },
  {
   "cell_type": "markdown",
   "metadata": {},
   "source": [
    "### Extract features for train/val/test\n"
   ]
  },
  {
   "cell_type": "code",
   "execution_count": 11,
   "metadata": {},
   "outputs": [],
   "source": [
    "fe = FeatureExtractor(img_dir=\"../../dataset/images/train_images/\")\n",
    "X_train_feats = fe.transform(X_train)\n",
    "X_valid_feats = fe.transform(X_valid)\n",
    "\n"
   ]
  },
  {
   "cell_type": "code",
   "execution_count": 12,
   "metadata": {},
   "outputs": [],
   "source": [
    "fe = FeatureExtractor(img_dir=\"../../dataset/images/test_images/\")\n",
    "X_test_feats  = fe.transform(X_test)\n"
   ]
  },
  {
   "cell_type": "markdown",
   "metadata": {},
   "source": [
    "## Experiment with a suite of regressors\n"
   ]
  },
  {
   "cell_type": "markdown",
   "metadata": {},
   "source": [
    "### Train and Val"
   ]
  },
  {
   "cell_type": "code",
   "execution_count": 13,
   "metadata": {},
   "outputs": [
    {
     "name": "stdout",
     "output_type": "stream",
     "text": [
      "LinearRegression     → Spearman: 0.3428, Pearson: 0.3178\n",
      "Ridge                → Spearman: 0.3658, Pearson: 0.3824\n",
      "Lasso                → Spearman: 0.4628, Pearson: 0.4237\n",
      "ElasticNet           → Spearman: 0.4353, Pearson: 0.4007\n",
      "DecisionTree         → Spearman: 0.5331, Pearson: 0.4895\n"
     ]
    },
    {
     "name": "stderr",
     "output_type": "stream",
     "text": [
      "/Users/annimukh/miniconda3/envs/image_realness/lib/python3.10/site-packages/sklearn/linear_model/_coordinate_descent.py:695: ConvergenceWarning: Objective did not converge. You might want to increase the number of iterations, check the scale of the features or consider increasing regularisation. Duality gap: 5.157e-01, tolerance: 4.190e-02\n",
      "  model = cd_fast.enet_coordinate_descent(\n",
      "/Users/annimukh/miniconda3/envs/image_realness/lib/python3.10/site-packages/sklearn/linear_model/_coordinate_descent.py:695: ConvergenceWarning: Objective did not converge. You might want to increase the number of iterations, check the scale of the features or consider increasing regularisation. Duality gap: 1.246e+01, tolerance: 4.190e-02\n",
      "  model = cd_fast.enet_coordinate_descent(\n"
     ]
    },
    {
     "name": "stdout",
     "output_type": "stream",
     "text": [
      "RandomForest         → Spearman: 0.4660, Pearson: 0.4381\n",
      "ExtraTrees           → Spearman: 0.4168, Pearson: 0.3861\n",
      "HistGB               → Spearman: 0.4856, Pearson: 0.4062\n",
      "AdaBoost             → Spearman: 0.4397, Pearson: 0.3477\n",
      "Bagging              → Spearman: 0.5090, Pearson: 0.4462\n",
      "SVR                  → Spearman: 0.2796, Pearson: 0.3081\n",
      "KNN                  → Spearman: 0.3574, Pearson: 0.3701\n",
      "MLP                  → Spearman: -0.0848, Pearson: 0.0615\n",
      "GBR                  → Spearman: 0.4901, Pearson: 0.4622\n",
      "\n",
      "Best on val → DecisionTree (Spearman 0.5331)\n"
     ]
    }
   ],
   "source": [
    "models = {\n",
    "    \"LinearRegression\":      LinearRegression(),\n",
    "    \"Ridge\":                 Ridge(alpha=1.0, random_state=SEED),\n",
    "    \"Lasso\":                 Lasso(alpha=0.1, random_state=SEED),\n",
    "    \"ElasticNet\":            ElasticNet(alpha=0.1, l1_ratio=0.5, random_state=SEED),\n",
    "    \"DecisionTree\":          DecisionTreeRegressor(max_depth=5, random_state=SEED),\n",
    "    \"RandomForest\":          RandomForestRegressor(n_estimators=100, random_state=SEED),\n",
    "    \"ExtraTrees\":            ExtraTreesRegressor(n_estimators=100, random_state=SEED),\n",
    "    \"HistGB\":                HistGradientBoostingRegressor(max_iter=100, random_state=SEED),\n",
    "    # \"AdaBoost\":              AdaBoostRegressor(n_estimators=100, random_state=SEED),\n",
    "    \"AdaBoost\": AdaBoostRegressor(\n",
    "    estimator=DecisionTreeRegressor(random_state=SEED), \n",
    "    n_estimators=100, \n",
    "    random_state=SEED\n",
    "    ),\n",
    "    # \"Bagging\":               BaggingRegressor(n_estimators=50, random_state=SEED),    \n",
    "    \"Bagging\": BaggingRegressor(\n",
    "    estimator=DecisionTreeRegressor(random_state=SEED), \n",
    "    n_estimators=50, \n",
    "    random_state=SEED\n",
    "    ),\n",
    "    \n",
    "    \"SVR\":                   SVR(kernel=\"rbf\", C=1.0, epsilon=0.1),\n",
    "    \"KNN\":                   KNeighborsRegressor(n_neighbors=5),\n",
    "    \"MLP\":                   MLPRegressor(hidden_layer_sizes=(100,50), max_iter=200, random_state=SEED),\n",
    "    \"GBR\":                   GradientBoostingRegressor(n_estimators=300, learning_rate=0.1,\n",
    "                                                        max_depth=5, random_state=SEED),\n",
    "}\n",
    "\n",
    "\n",
    "\n",
    "\n",
    "\n",
    "\n",
    "\n",
    "# -------------------------------------------------------------------\n",
    "#  4) Experiment: train on train, validate on val, pick best, test on test\n",
    "# -------------------------------------------------------------------\n",
    "best_name    = None\n",
    "best_spearman = -np.inf\n",
    "best_model   = None\n",
    "results = {}\n",
    "\n",
    "for name, model in models.items():\n",
    "    # 1) fit on train\n",
    "    model.fit(X_train_feats, y_train)\n",
    "\n",
    "    # 2) score on val\n",
    "    preds_val = model.predict(X_valid_feats)\n",
    "    spearman_val, _ = spearmanr(preds_val, y_valid)\n",
    "    pearson_val,  _ = pearsonr(preds_val, y_valid)\n",
    "\n",
    "    results[name] = {\"spearman\": spearman_val, \"pearson\": pearson_val}\n",
    "    print(f\"{name:20s} → Spearman: {spearman_val:.4f}, Pearson: {pearson_val:.4f}\")\n",
    "\n",
    "    # 3) track best by Spearman on val\n",
    "    if spearman_val > best_spearman:\n",
    "        best_spearman = spearman_val\n",
    "        best_name     = name\n",
    "        best_model    = model\n",
    "\n",
    "print(f\"\\nBest on val → {best_name} (Spearman {best_spearman:.4f})\")\n"
   ]
  },
  {
   "cell_type": "markdown",
   "metadata": {},
   "source": [
    "### Test"
   ]
  },
  {
   "cell_type": "code",
   "execution_count": 14,
   "metadata": {},
   "outputs": [
    {
     "name": "stdout",
     "output_type": "stream",
     "text": [
      "Test performance of DecisionTree:\n",
      "  Spearman: 0.5033\n",
      "  Pearson : 0.4339\n"
     ]
    }
   ],
   "source": [
    "# -------------------------------------------------------------------\n",
    "#  5) Evaluate the selected best model on test set\n",
    "# -------------------------------------------------------------------\n",
    "preds_test = best_model.predict(X_test_feats)\n",
    "spearman_test, _ = spearmanr(preds_test, y_test)\n",
    "pearson_test,  _ = pearsonr(preds_test, y_test)\n",
    "\n",
    "print(f\"Test performance of {best_name}:\")\n",
    "print(f\"  Spearman: {spearman_test:.4f}\")\n",
    "print(f\"  Pearson : {pearson_test:.4f}\")\n"
   ]
  },
  {
   "cell_type": "code",
   "execution_count": null,
   "metadata": {},
   "outputs": [],
   "source": []
  }
 ],
 "metadata": {
  "kernelspec": {
   "display_name": "image_realness",
   "language": "python",
   "name": "python3"
  },
  "language_info": {
   "codemirror_mode": {
    "name": "ipython",
    "version": 3
   },
   "file_extension": ".py",
   "mimetype": "text/x-python",
   "name": "python",
   "nbconvert_exporter": "python",
   "pygments_lexer": "ipython3",
   "version": "3.10.15"
  }
 },
 "nbformat": 4,
 "nbformat_minor": 4
}
