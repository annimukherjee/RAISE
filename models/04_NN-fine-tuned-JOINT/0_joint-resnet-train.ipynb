{
 "cells": [
  {
   "cell_type": "markdown",
   "metadata": {},
   "source": [
    "#### 1) Imports and Random Seed"
   ]
  },
  {
   "cell_type": "code",
   "execution_count": 29,
   "metadata": {
    "_cell_guid": "42a8d880-6726-477b-81c5-ae5d67c44f81",
    "_uuid": "9b172d4b-a060-4da3-8fc6-399fc38d7903",
    "collapsed": false,
    "execution": {
     "iopub.execute_input": "2025-05-25T17:57:20.886256Z",
     "iopub.status.busy": "2025-05-25T17:57:20.885926Z",
     "iopub.status.idle": "2025-05-25T17:57:20.890991Z",
     "shell.execute_reply": "2025-05-25T17:57:20.890170Z",
     "shell.execute_reply.started": "2025-05-25T17:57:20.886239Z"
    },
    "jupyter": {
     "outputs_hidden": false
    },
    "papermill": {
     "duration": 11.404132,
     "end_time": "2025-04-28T12:58:40.297173",
     "exception": false,
     "start_time": "2025-04-28T12:58:28.893041",
     "status": "completed"
    },
    "tags": [],
    "trusted": true
   },
   "outputs": [],
   "source": [
    "import pandas as pd\n",
    "from sklearn.model_selection import train_test_split\n",
    "from torch.utils.data import Dataset, DataLoader\n",
    "from torchvision import transforms\n",
    "from PIL import Image\n",
    "import torch\n",
    "import numpy as np\n",
    "import torch.nn as nn\n",
    "import torch.optim as optim\n",
    "import torch.nn.functional as F\n",
    "from sklearn.metrics import mean_squared_error\n",
    "from scipy.stats import spearmanr, pearsonr\n",
    "import matplotlib.pyplot as plt\n",
    "import torchvision.models as models\n",
    "import copy\n",
    "import matplotlib.pyplot as plt\n",
    "import torch\n",
    "import torch.nn as nn\n",
    "import os\n",
    "import sys\n",
    "import random; import numpy as np; import torch\n",
    "\n",
    "\n",
    "SEED = 78\n",
    "random.seed(SEED)\n",
    "np.random.seed(SEED)\n",
    "torch.manual_seed(SEED)\n",
    "torch.cuda.manual_seed_all(SEED)\n"
   ]
  },
  {
   "cell_type": "code",
   "execution_count": 30,
   "metadata": {
    "_cell_guid": "e604d6e5-da9c-4d35-9a7c-512b02082701",
    "_uuid": "52985e6c-3922-4ecf-8339-18d9af509916",
    "collapsed": false,
    "execution": {
     "iopub.execute_input": "2025-05-25T17:57:21.091513Z",
     "iopub.status.busy": "2025-05-25T17:57:21.091269Z",
     "iopub.status.idle": "2025-05-25T17:57:24.026029Z",
     "shell.execute_reply": "2025-05-25T17:57:24.025059Z",
     "shell.execute_reply.started": "2025-05-25T17:57:21.091497Z"
    },
    "jupyter": {
     "outputs_hidden": false
    },
    "trusted": true
   },
   "outputs": [
    {
     "name": "stdout",
     "output_type": "stream",
     "text": [
      "Requirement already satisfied: pot in /usr/local/lib/python3.11/dist-packages (0.9.5)\n",
      "Requirement already satisfied: numpy>=1.16 in /usr/local/lib/python3.11/dist-packages (from pot) (1.26.4)\n",
      "Requirement already satisfied: scipy>=1.6 in /usr/local/lib/python3.11/dist-packages (from pot) (1.15.2)\n",
      "Requirement already satisfied: mkl_fft in /usr/local/lib/python3.11/dist-packages (from numpy>=1.16->pot) (1.3.8)\n",
      "Requirement already satisfied: mkl_random in /usr/local/lib/python3.11/dist-packages (from numpy>=1.16->pot) (1.2.4)\n",
      "Requirement already satisfied: mkl_umath in /usr/local/lib/python3.11/dist-packages (from numpy>=1.16->pot) (0.1.1)\n",
      "Requirement already satisfied: mkl in /usr/local/lib/python3.11/dist-packages (from numpy>=1.16->pot) (2025.1.0)\n",
      "Requirement already satisfied: tbb4py in /usr/local/lib/python3.11/dist-packages (from numpy>=1.16->pot) (2022.1.0)\n",
      "Requirement already satisfied: mkl-service in /usr/local/lib/python3.11/dist-packages (from numpy>=1.16->pot) (2.4.1)\n",
      "Requirement already satisfied: intel-openmp<2026,>=2024 in /usr/local/lib/python3.11/dist-packages (from mkl->numpy>=1.16->pot) (2024.2.0)\n",
      "Requirement already satisfied: tbb==2022.* in /usr/local/lib/python3.11/dist-packages (from mkl->numpy>=1.16->pot) (2022.1.0)\n",
      "Requirement already satisfied: tcmlib==1.* in /usr/local/lib/python3.11/dist-packages (from tbb==2022.*->mkl->numpy>=1.16->pot) (1.2.0)\n",
      "Requirement already satisfied: intel-cmplr-lib-rt in /usr/local/lib/python3.11/dist-packages (from mkl_umath->numpy>=1.16->pot) (2024.2.0)\n",
      "Requirement already satisfied: intel-cmplr-lib-ur==2024.2.0 in /usr/local/lib/python3.11/dist-packages (from intel-openmp<2026,>=2024->mkl->numpy>=1.16->pot) (2024.2.0)\n"
     ]
    }
   ],
   "source": [
    "!pip install pot\n"
   ]
  },
  {
   "cell_type": "code",
   "execution_count": 31,
   "metadata": {
    "_cell_guid": "f6b59572-2436-4e65-bc11-0400b50129bc",
    "_uuid": "6f06145c-0bbd-42f0-8665-c33ff9c5453d",
    "collapsed": false,
    "execution": {
     "iopub.execute_input": "2025-05-25T17:57:24.027929Z",
     "iopub.status.busy": "2025-05-25T17:57:24.027641Z",
     "iopub.status.idle": "2025-05-25T17:57:24.034172Z",
     "shell.execute_reply": "2025-05-25T17:57:24.033458Z",
     "shell.execute_reply.started": "2025-05-25T17:57:24.027889Z"
    },
    "jupyter": {
     "outputs_hidden": false
    },
    "trusted": true
   },
   "outputs": [
    {
     "data": {
      "text/plain": [
       "['realness-dataset', 'joint_checkpoint', 'raise-final-dataset-paper', 'joint']"
      ]
     },
     "execution_count": 31,
     "metadata": {},
     "output_type": "execute_result"
    }
   ],
   "source": [
    "os.chdir(\"/kaggle/input\")\n",
    "os.listdir()\n"
   ]
  },
  {
   "cell_type": "code",
   "execution_count": null,
   "metadata": {},
   "outputs": [],
   "source": [
    "# Make sure to put https://github.com/zijianchen98/AGIN/blob/main/JOINT/models/JOINT.py in the same directory as this notebook\n"
   ]
  },
  {
   "cell_type": "code",
   "execution_count": 32,
   "metadata": {
    "_cell_guid": "c604ead4-d6e1-41b0-9e87-4d7e483a9e81",
    "_uuid": "3984c4bc-0a76-40ce-b3ef-abde726ac310",
    "collapsed": false,
    "execution": {
     "iopub.execute_input": "2025-05-25T17:57:24.035133Z",
     "iopub.status.busy": "2025-05-25T17:57:24.034957Z",
     "iopub.status.idle": "2025-05-25T17:57:24.044006Z",
     "shell.execute_reply": "2025-05-25T17:57:24.043433Z",
     "shell.execute_reply.started": "2025-05-25T17:57:24.035121Z"
    },
    "jupyter": {
     "outputs_hidden": false
    },
    "trusted": true
   },
   "outputs": [],
   "source": [
    "sys.path.insert(1, '/kaggle/input/joint/pytorch/default/1/')\n",
    "import JOINT\n"
   ]
  },
  {
   "cell_type": "markdown",
   "metadata": {},
   "source": [
    "#### 2) Dataset and Dataloader"
   ]
  },
  {
   "cell_type": "code",
   "execution_count": 35,
   "metadata": {
    "_cell_guid": "27e84583-c873-4b8d-acbb-b7d1f2fcb28f",
    "_uuid": "125fb964-8559-4ba7-9633-5fe29bd49db7",
    "collapsed": false,
    "execution": {
     "iopub.execute_input": "2025-05-25T17:57:46.753037Z",
     "iopub.status.busy": "2025-05-25T17:57:46.752355Z",
     "iopub.status.idle": "2025-05-25T17:57:46.759954Z",
     "shell.execute_reply": "2025-05-25T17:57:46.759251Z",
     "shell.execute_reply.started": "2025-05-25T17:57:46.753014Z"
    },
    "jupyter": {
     "outputs_hidden": false
    },
    "papermill": {
     "duration": 0.073625,
     "end_time": "2025-04-28T13:01:32.495089",
     "exception": false,
     "start_time": "2025-04-28T13:01:32.421464",
     "status": "completed"
    },
    "tags": [],
    "trusted": true
   },
   "outputs": [],
   "source": [
    "class ImageRatingDataset(Dataset):\n",
    "    \n",
    "    def __init__(self, dataframe, transform=None, augment=False, phase=''):\n",
    "        self.dataframe = dataframe.reset_index(drop=True)\n",
    "        self.transform = transforms.Compose([transforms.ToTensor(), transforms.Normalize(mean=[0.485, 0.456, 0.406],\n",
    "                     std=[0.229, 0.224, 0.225])])\n",
    "        self.augment = augment\n",
    "        self.phase=phase\n",
    "\n",
    "        # Define augmentations\n",
    "        self.augmentation = transforms.Compose([\n",
    "            transforms.RandomHorizontalFlip(p=0.5),\n",
    "            transforms.RandomRotation(degrees=10),  # small rotations\n",
    "            transforms.RandomResizedCrop(size=(384, 512), scale=(0.9, 1.0), ratio=(1.25, 1.35)),\n",
    "            transforms.ColorJitter(brightness=0.1, contrast=0.1),  # light changes\n",
    "        ])\n",
    "\n",
    "\n",
    "    def __len__(self):\n",
    "        return len(self.dataframe)\n",
    "\n",
    "    def __getitem__(self, idx):\n",
    "        img_path = self.dataframe.loc[idx, 'filename']\n",
    "        rating = self.dataframe.loc[idx, 'MOS']\n",
    "        \n",
    "        if self.phase == 'train':\n",
    "            image = Image.open(\"/kaggle/input/raise-final-dataset-paper/dataset/images/train_images/\" + img_path).convert('RGB')\n",
    "        elif self.phase == 'test':\n",
    "            image = Image.open(\"/kaggle/input/raise-final-dataset-paper/dataset/images/test_images/\" + img_path).convert('RGB')\n",
    "\n",
    "        if self.augment == True:\n",
    "            image = self.augmentation(image)\n",
    "        if self.transform:\n",
    "            image = self.transform(image)\n",
    "\n",
    "        return image, torch.tensor(rating, dtype=torch.float32)\n"
   ]
  },
  {
   "cell_type": "markdown",
   "metadata": {},
   "source": [
    "#### 3) Create Model"
   ]
  },
  {
   "cell_type": "code",
   "execution_count": 36,
   "metadata": {
    "_cell_guid": "d2ba734b-025b-47bf-947d-2b31b41db162",
    "_uuid": "03adcde5-1202-4024-8285-a737c7eafcbc",
    "collapsed": false,
    "execution": {
     "iopub.execute_input": "2025-05-25T17:57:49.373520Z",
     "iopub.status.busy": "2025-05-25T17:57:49.373225Z",
     "iopub.status.idle": "2025-05-25T17:57:49.380307Z",
     "shell.execute_reply": "2025-05-25T17:57:49.379509Z",
     "shell.execute_reply.started": "2025-05-25T17:57:49.373498Z"
    },
    "jupyter": {
     "outputs_hidden": false
    },
    "trusted": true
   },
   "outputs": [],
   "source": [
    "class ResNetRegressor(nn.Module):\n",
    "    def __init__(self):\n",
    "        super(ResNetRegressor, self).__init__()\n",
    "\n",
    "        self.model = JOINT.JOINT_Model()\n",
    "        self.model.load_state_dict(torch.load('/kaggle/input/joint_checkpoint/pytorch/default/1/JOINT_2024.pth'))\n",
    "      \n",
    "\n",
    "        # # Remove the final classification layer\n",
    "        # self.features = nn.Sequential(*list(base_model.children())[:-1])  # Excludes fc layer\n",
    "\n",
    "        self.features = nn.Sequential(*list(self.model.rationality_feature_extraction.children()))[:-1]\n",
    "\n",
    "        # # Freeze base layers\n",
    "        # for param in self.features.parameters():\n",
    "        #     param.requires_grad = False\n",
    "\n",
    "        # for param in self.features.parameters():\n",
    "        #     param.requires_grad = False\n",
    "\n",
    "        for layer in self.features[:-2]:\n",
    "            for param in layer.parameters():\n",
    "                param.requires_grad = False\n",
    "            layer.eval()  \n",
    "        \n",
    "        # Unfreeze last 2 blocks (keep in train mode)\n",
    "        for param in self.features[-2:].parameters():\n",
    "            param.requires_grad = True\n",
    "\n",
    "     \n",
    "        # Add a custom regression head\n",
    "        self.regressor = nn.Sequential(\n",
    "            nn.Linear(2048, 1024),\n",
    "            nn.ReLU(),\n",
    "            nn.Dropout(0.4),\n",
    "            nn.Linear(1024, 512),\n",
    "            nn.ReLU(),\n",
    "            nn.Dropout(0.4),\n",
    "            nn.Linear(512, 256),\n",
    "            nn.ReLU(),\n",
    "            nn.Dropout(0.4),\n",
    "            nn.Linear(256, 128),\n",
    "            nn.ReLU(),\n",
    "            nn.Dropout(0.4),\n",
    "            nn.Linear(128, 1),\n",
    "        )\n",
    "\n",
    "    def forward(self, x):\n",
    "        x = self.features(x)  # Output shape: (batch_size, 512, 1, 1)\n",
    "        x = x.view(x.size(0), -1)        # Flatten to (batch_size, 512)\n",
    "        x = self.regressor(x)\n",
    "        x = x.view(x.size(0), -1)\n",
    "        return x\n"
   ]
  },
  {
   "cell_type": "markdown",
   "metadata": {},
   "source": [
    "#### 4) Training of model"
   ]
  },
  {
   "cell_type": "code",
   "execution_count": 43,
   "metadata": {
    "_cell_guid": "fa0cedf2-b28a-4490-8483-c0c43f4b60ea",
    "_uuid": "1a604b12-79ea-4c6e-9bf9-f0e41978c0bb",
    "collapsed": false,
    "execution": {
     "iopub.execute_input": "2025-05-25T17:59:06.400613Z",
     "iopub.status.busy": "2025-05-25T17:59:06.399874Z",
     "iopub.status.idle": "2025-05-25T17:59:06.408565Z",
     "shell.execute_reply": "2025-05-25T17:59:06.407815Z",
     "shell.execute_reply.started": "2025-05-25T17:59:06.400591Z"
    },
    "jupyter": {
     "outputs_hidden": false
    },
    "papermill": {
     "duration": 0.029453,
     "end_time": "2025-04-28T13:01:32.644193",
     "exception": false,
     "start_time": "2025-04-28T13:01:32.61474",
     "status": "completed"
    },
    "tags": [],
    "trusted": true
   },
   "outputs": [],
   "source": [
    "def train_model(model, train_loader, val_loader, num_epochs, lr=0.0001, λ=1):\n",
    "    # Set up optimizer and losses\n",
    "\n",
    "    device = torch.device('cuda' if torch.cuda.is_available() else 'cpu')\n",
    "    optimizer = optim.Adam(model.parameters(), lr=1e-4, eps=1e-8, weight_decay=0)\n",
    "    \n",
    "    mse_loss = nn.MSELoss()\n",
    "    \n",
    "    train_losses = []\n",
    "    val_losses = []\n",
    "    srocc_scores = []\n",
    "    \n",
    "    # Track best model\n",
    "    best_val_loss = float('inf')\n",
    "    best_model_wts = copy.deepcopy(model.state_dict())\n",
    "    \n",
    "    model.to(device)\n",
    "    for epoch in range(num_epochs):\n",
    "        # --- Training phase ---\n",
    "        model.train()\n",
    "        running_loss = 0.0\n",
    "        for images, ratings in train_loader:\n",
    "            images, ratings = images.to(device), ratings.to(device)\n",
    "            optimizer.zero_grad()\n",
    "            outputs = model(images).squeeze(1)\n",
    "            \n",
    "            loss = mse_loss(outputs, ratings)\n",
    "            loss.backward()\n",
    "            optimizer.step()\n",
    "            \n",
    "            running_loss += loss.item() * images.size(0)\n",
    "        \n",
    "        avg_train_loss = running_loss / len(train_loader.dataset)\n",
    "        train_losses.append(avg_train_loss)\n",
    "        \n",
    "        # --- Validation phase ---\n",
    "        val_loss, srocc = validate_model(model, val_loader, device=device)\n",
    "        val_losses.append(val_loss)\n",
    "        srocc_scores.append(srocc)\n",
    "        \n",
    "        print(f\"Epoch {epoch+1}/{num_epochs} — \"\n",
    "              f\"Train: {avg_train_loss:.4f}  Val: {val_loss:.4f}  SROCC: {srocc:.4f}\")\n",
    "        \n",
    "        # --- Check for new best ---\n",
    "        if val_loss < best_val_loss:\n",
    "            best_val_loss = val_loss\n",
    "            best_model_wts = copy.deepcopy(model.state_dict())\n",
    "    \n",
    "    # --- Load best weights back into model ---\n",
    "    model.load_state_dict(best_model_wts)\n",
    "    print(f\"Loaded best model weights with val_loss={best_val_loss:.4f}\")\n",
    "    \n",
    "    # --- Plot curves ---\n",
    "    plt.figure(figsize=(10,5))\n",
    "    plt.plot(range(1, num_epochs+1), train_losses, label=\"Training Loss\")\n",
    "    plt.plot(range(1, num_epochs+1), val_losses,   label=\"Validation Loss\")\n",
    "    plt.xlabel(\"Epoch\")\n",
    "    plt.ylabel(\"Loss\")\n",
    "    plt.legend()\n",
    "    plt.grid(True)\n",
    "    # plt.savefig(\"loss_curve.png\")\n",
    "    plt.show()\n",
    "    \n",
    "    return model, train_losses, val_losses, srocc_scores \n"
   ]
  },
  {
   "cell_type": "code",
   "execution_count": 44,
   "metadata": {
    "_cell_guid": "9119e08c-7997-4f8e-9430-8ea645d046d9",
    "_uuid": "d6eeeeff-8ad6-4520-aa9a-d38f9ec088e8",
    "collapsed": false,
    "execution": {
     "iopub.execute_input": "2025-05-25T17:59:06.600053Z",
     "iopub.status.busy": "2025-05-25T17:59:06.599324Z",
     "iopub.status.idle": "2025-05-25T17:59:06.604880Z",
     "shell.execute_reply": "2025-05-25T17:59:06.604279Z",
     "shell.execute_reply.started": "2025-05-25T17:59:06.600023Z"
    },
    "jupyter": {
     "outputs_hidden": false
    },
    "papermill": {
     "duration": 0.026663,
     "end_time": "2025-04-28T13:01:32.691121",
     "exception": false,
     "start_time": "2025-04-28T13:01:32.664458",
     "status": "completed"
    },
    "tags": [],
    "trusted": true
   },
   "outputs": [],
   "source": [
    "def validate_model(model, val_loader, device):\n",
    "    model.eval()\n",
    "    val_predictions = []\n",
    "    val_ground_truth = []\n",
    "    # srocc_loss = ApproximateSROCCLoss()\n",
    "    \n",
    "    with torch.no_grad():\n",
    "        for images, ratings in val_loader:\n",
    "            images = images.to(device)\n",
    "            ratings = ratings.to(device)\n",
    "\n",
    "            outputs = model(images).squeeze(1)  # Remove extra dimension\n",
    "\n",
    "            val_predictions.extend(outputs.cpu().numpy())\n",
    "            val_ground_truth.extend(ratings.cpu().numpy())\n",
    "\n",
    "    # Compute SROCC\n",
    "    srocc, _ = spearmanr(val_predictions, val_ground_truth)\n",
    "\n",
    "    # Compute mean squared error for validation loss\n",
    "    val_loss = mean_squared_error(val_ground_truth, val_predictions) \n",
    "\n",
    "    return val_loss, srocc\n"
   ]
  },
  {
   "cell_type": "code",
   "execution_count": 45,
   "metadata": {
    "_cell_guid": "4e902e83-d9bb-452e-872c-3c76450da8bb",
    "_uuid": "1c1a330f-d67b-4755-8c15-bb1b52ecd6c3",
    "collapsed": false,
    "execution": {
     "iopub.execute_input": "2025-05-25T17:59:08.283741Z",
     "iopub.status.busy": "2025-05-25T17:59:08.283199Z",
     "iopub.status.idle": "2025-05-25T17:59:09.636726Z",
     "shell.execute_reply": "2025-05-25T17:59:09.636169Z",
     "shell.execute_reply.started": "2025-05-25T17:59:08.283716Z"
    },
    "jupyter": {
     "outputs_hidden": false
    },
    "papermill": {
     "duration": 3.023618,
     "end_time": "2025-04-28T13:01:35.735374",
     "exception": false,
     "start_time": "2025-04-28T13:01:32.711756",
     "status": "completed"
    },
    "tags": [],
    "trusted": true
   },
   "outputs": [
    {
     "name": "stderr",
     "output_type": "stream",
     "text": [
      "/tmp/ipykernel_31/3989269857.py:6: FutureWarning: You are using `torch.load` with `weights_only=False` (the current default value), which uses the default pickle module implicitly. It is possible to construct malicious pickle data which will execute arbitrary code during unpickling (See https://github.com/pytorch/pytorch/blob/main/SECURITY.md#untrusted-models for more details). In a future release, the default value for `weights_only` will be flipped to `True`. This limits the functions that could be executed during unpickling. Arbitrary objects will no longer be allowed to be loaded via this mode unless they are explicitly allowlisted by the user via `torch.serialization.add_safe_globals`. We recommend you start setting `weights_only=True` for any use case where you don't have full control of the loaded file. Please open an issue on GitHub for any issues related to this experimental feature.\n",
      "  self.model.load_state_dict(torch.load('/kaggle/input/joint_checkpoint/pytorch/default/1/JOINT_2024.pth'))\n"
     ]
    }
   ],
   "source": [
    "device = torch.device('cuda' if torch.cuda.is_available() else 'cpu')\n",
    "model = ResNetRegressor().to(device)\n"
   ]
  },
  {
   "cell_type": "code",
   "execution_count": null,
   "metadata": {
    "execution": {
     "iopub.execute_input": "2025-05-25T17:59:09.638287Z",
     "iopub.status.busy": "2025-05-25T17:59:09.637787Z",
     "iopub.status.idle": "2025-05-25T17:59:09.643607Z",
     "shell.execute_reply": "2025-05-25T17:59:09.642785Z",
     "shell.execute_reply.started": "2025-05-25T17:59:09.638269Z"
    },
    "trusted": true
   },
   "outputs": [
    {
     "name": "stdout",
     "output_type": "stream",
     "text": [
      "Total number of trainable parameters: 47,547,237\n"
     ]
    }
   ],
   "source": [
    "def count_parameters(model):\n",
    "    return sum(p.numel() for p in model.parameters() if p.requires_grad)\n",
    "\n",
    "num_params = count_parameters(model)\n",
    "print(f\"Total number of trainable parameters: {num_params:,}\")\n"
   ]
  },
  {
   "cell_type": "markdown",
   "metadata": {},
   "source": [
    "#### 5) Load CSV and stratified split data, training loop"
   ]
  },
  {
   "cell_type": "code",
   "execution_count": null,
   "metadata": {
    "execution": {
     "iopub.execute_input": "2025-05-25T17:59:10.469890Z",
     "iopub.status.busy": "2025-05-25T17:59:10.469191Z",
     "iopub.status.idle": "2025-05-25T17:59:10.480498Z",
     "shell.execute_reply": "2025-05-25T17:59:10.479893Z",
     "shell.execute_reply.started": "2025-05-25T17:59:10.469865Z"
    },
    "trusted": true
   },
   "outputs": [
    {
     "name": "stdout",
     "output_type": "stream",
     "text": [
      "(420, 2) (90, 2) (90, 2)\n"
     ]
    }
   ],
   "source": [
    "# train_df = pd.read_csv(\"/kaggle/input/raise-final-dataset-paper/dataset/ratings/train.csv\")\n",
    "# test_df = pd.read_csv(\"/kaggle/input/raise-final-dataset-paper/dataset/ratings/test.csv\")\n",
    "\n",
    "train_df = pd.read_csv(\"../../dataset/ratings/train.csv\")\n",
    "test_df = pd.read_csv(\"../../dataset/ratings/test.csv\")\n",
    "\n",
    "val_df = train_df.iloc[-90:].copy()\n",
    "train_df = train_df.iloc[:-90].copy()\n",
    "\n",
    "print(train_df.shape, val_df.shape, test_df.shape)\n"
   ]
  },
  {
   "cell_type": "code",
   "execution_count": 48,
   "metadata": {
    "_cell_guid": "38ef4ede-ef44-4925-8c57-44abab1344a4",
    "_uuid": "8cec7855-af18-426e-88f6-843696e570ed",
    "collapsed": false,
    "execution": {
     "iopub.execute_input": "2025-05-25T17:59:11.734893Z",
     "iopub.status.busy": "2025-05-25T17:59:11.734231Z",
     "iopub.status.idle": "2025-05-25T18:14:32.189048Z",
     "shell.execute_reply": "2025-05-25T18:14:32.188335Z",
     "shell.execute_reply.started": "2025-05-25T17:59:11.734871Z"
    },
    "jupyter": {
     "outputs_hidden": false
    },
    "trusted": true
   },
   "outputs": [
    {
     "name": "stdout",
     "output_type": "stream",
     "text": [
      "Epoch 1/75 — Train: 0.9931  Val: 0.9776  SROCC: 0.5817\n",
      "Epoch 2/75 — Train: 0.9498  Val: 0.8419  SROCC: 0.6550\n",
      "Epoch 3/75 — Train: 0.7483  Val: 0.5701  SROCC: 0.6190\n",
      "Epoch 4/75 — Train: 0.5258  Val: 0.4781  SROCC: 0.6562\n",
      "Epoch 5/75 — Train: 0.3676  Val: 0.4695  SROCC: 0.6929\n",
      "Epoch 6/75 — Train: 0.4436  Val: 0.4325  SROCC: 0.6731\n",
      "Epoch 7/75 — Train: 0.3067  Val: 0.4702  SROCC: 0.6745\n",
      "Epoch 8/75 — Train: 0.2615  Val: 0.4654  SROCC: 0.6286\n",
      "Epoch 9/75 — Train: 0.2207  Val: 0.4493  SROCC: 0.6464\n",
      "Epoch 10/75 — Train: 0.1801  Val: 0.4384  SROCC: 0.6801\n",
      "Epoch 11/75 — Train: 0.1885  Val: 0.4459  SROCC: 0.6475\n",
      "Epoch 12/75 — Train: 0.1872  Val: 0.5440  SROCC: 0.6105\n",
      "Epoch 13/75 — Train: 0.1783  Val: 0.4478  SROCC: 0.6499\n",
      "Epoch 14/75 — Train: 0.1629  Val: 0.5087  SROCC: 0.6544\n",
      "Epoch 15/75 — Train: 0.1866  Val: 0.5163  SROCC: 0.6264\n",
      "Epoch 16/75 — Train: 0.1991  Val: 0.5185  SROCC: 0.6225\n",
      "Epoch 17/75 — Train: 0.2165  Val: 0.4826  SROCC: 0.6573\n",
      "Epoch 18/75 — Train: 0.1837  Val: 0.4199  SROCC: 0.7033\n",
      "Epoch 19/75 — Train: 0.1668  Val: 0.4960  SROCC: 0.7025\n",
      "Epoch 20/75 — Train: 0.1898  Val: 0.4960  SROCC: 0.6425\n",
      "Epoch 21/75 — Train: 0.2425  Val: 0.4706  SROCC: 0.6420\n",
      "Epoch 22/75 — Train: 0.1618  Val: 0.4966  SROCC: 0.6389\n",
      "Epoch 23/75 — Train: 0.1931  Val: 0.5526  SROCC: 0.6234\n",
      "Epoch 24/75 — Train: 0.1814  Val: 0.5011  SROCC: 0.6342\n",
      "Epoch 25/75 — Train: 0.1945  Val: 0.6494  SROCC: 0.6178\n",
      "Epoch 26/75 — Train: 0.1635  Val: 0.6214  SROCC: 0.6189\n",
      "Epoch 27/75 — Train: 0.1550  Val: 0.5214  SROCC: 0.6291\n",
      "Epoch 28/75 — Train: 0.1874  Val: 0.5492  SROCC: 0.6170\n",
      "Epoch 29/75 — Train: 0.1622  Val: 0.5503  SROCC: 0.6177\n",
      "Epoch 30/75 — Train: 0.1408  Val: 0.5052  SROCC: 0.6343\n",
      "Epoch 31/75 — Train: 0.1391  Val: 0.5024  SROCC: 0.6309\n",
      "Epoch 32/75 — Train: 0.1276  Val: 0.5869  SROCC: 0.6197\n",
      "Epoch 33/75 — Train: 0.1659  Val: 0.5368  SROCC: 0.6146\n",
      "Epoch 34/75 — Train: 0.1545  Val: 0.5069  SROCC: 0.6215\n",
      "Epoch 35/75 — Train: 0.1310  Val: 0.5165  SROCC: 0.6161\n",
      "Epoch 36/75 — Train: 0.1696  Val: 0.5187  SROCC: 0.6161\n",
      "Epoch 37/75 — Train: 0.1349  Val: 0.5339  SROCC: 0.6284\n",
      "Epoch 38/75 — Train: 0.1153  Val: 0.4524  SROCC: 0.6621\n",
      "Epoch 39/75 — Train: 0.1669  Val: 0.5348  SROCC: 0.6473\n",
      "Epoch 40/75 — Train: 0.1430  Val: 0.5169  SROCC: 0.6359\n",
      "Epoch 41/75 — Train: 0.0955  Val: 0.5835  SROCC: 0.6406\n",
      "Epoch 42/75 — Train: 0.1304  Val: 0.4692  SROCC: 0.6489\n",
      "Epoch 43/75 — Train: 0.1522  Val: 0.5668  SROCC: 0.5980\n",
      "Epoch 44/75 — Train: 0.1446  Val: 0.5251  SROCC: 0.6291\n",
      "Epoch 45/75 — Train: 0.1209  Val: 0.6315  SROCC: 0.6030\n",
      "Epoch 46/75 — Train: 0.1146  Val: 0.4925  SROCC: 0.6432\n",
      "Epoch 47/75 — Train: 0.1479  Val: 0.4395  SROCC: 0.6476\n",
      "Epoch 48/75 — Train: 0.0928  Val: 0.5039  SROCC: 0.6427\n",
      "Epoch 49/75 — Train: 0.1080  Val: 0.5624  SROCC: 0.6023\n",
      "Epoch 50/75 — Train: 0.1541  Val: 0.5259  SROCC: 0.6479\n",
      "Epoch 51/75 — Train: 0.1353  Val: 0.4910  SROCC: 0.6625\n",
      "Epoch 52/75 — Train: 0.1091  Val: 0.5350  SROCC: 0.6304\n",
      "Epoch 53/75 — Train: 0.1065  Val: 0.5697  SROCC: 0.6158\n",
      "Epoch 54/75 — Train: 0.0974  Val: 0.5181  SROCC: 0.6290\n",
      "Epoch 55/75 — Train: 0.0872  Val: 0.5073  SROCC: 0.6389\n",
      "Epoch 56/75 — Train: 0.0827  Val: 0.4793  SROCC: 0.6770\n",
      "Epoch 57/75 — Train: 0.0739  Val: 0.5108  SROCC: 0.6447\n",
      "Epoch 58/75 — Train: 0.1367  Val: 0.4995  SROCC: 0.6230\n",
      "Epoch 59/75 — Train: 0.1001  Val: 0.4924  SROCC: 0.6302\n",
      "Epoch 60/75 — Train: 0.1025  Val: 0.5257  SROCC: 0.6626\n",
      "Epoch 61/75 — Train: 0.1018  Val: 0.5020  SROCC: 0.6458\n",
      "Epoch 62/75 — Train: 0.1039  Val: 0.5555  SROCC: 0.6550\n",
      "Epoch 63/75 — Train: 0.0904  Val: 0.5062  SROCC: 0.6470\n",
      "Epoch 64/75 — Train: 0.0785  Val: 0.4896  SROCC: 0.6369\n",
      "Epoch 65/75 — Train: 0.1256  Val: 0.5829  SROCC: 0.5851\n",
      "Epoch 66/75 — Train: 0.1172  Val: 0.5384  SROCC: 0.6104\n",
      "Epoch 67/75 — Train: 0.1062  Val: 0.5622  SROCC: 0.6385\n",
      "Epoch 68/75 — Train: 0.1096  Val: 0.5554  SROCC: 0.6282\n",
      "Epoch 69/75 — Train: 0.1040  Val: 0.5635  SROCC: 0.6148\n",
      "Epoch 70/75 — Train: 0.1042  Val: 0.6027  SROCC: 0.6054\n",
      "Epoch 71/75 — Train: 0.0957  Val: 0.5415  SROCC: 0.6087\n",
      "Epoch 72/75 — Train: 0.1111  Val: 0.5840  SROCC: 0.5537\n",
      "Epoch 73/75 — Train: 0.0929  Val: 0.6015  SROCC: 0.5521\n",
      "Epoch 74/75 — Train: 0.0956  Val: 0.5575  SROCC: 0.5695\n",
      "Epoch 75/75 — Train: 0.1043  Val: 0.6288  SROCC: 0.5867\n",
      "Loaded best model weights with val_loss=0.4199\n"
     ]
    },
    {
     "data": {
      "image/png": "[encoded data removed]",
      "text/plain": [
       "<Figure size 1000x500 with 1 Axes>"
      ]
     },
     "metadata": {},
     "output_type": "display_data"
    }
   ],
   "source": [
    "# Create dataset partitions\n",
    "train_dataset = ImageRatingDataset(train_df, augment=True, phase='train')\n",
    "val_dataset = ImageRatingDataset(val_df, phase='train')\n",
    "test_dataset = ImageRatingDataset(test_df, phase='test')\n",
    "\n",
    "\n",
    "# Create dataloaders\n",
    "train_loader = DataLoader(train_dataset, batch_size=32, shuffle=True)\n",
    "val_loader = DataLoader(val_dataset, batch_size=32)\n",
    "test_loader = DataLoader(test_dataset, batch_size=32)\n",
    "\n",
    "\n",
    "# Start training\n",
    "model, train_losses, val_losses, srocc_scores = train_model(\n",
    "    model, train_loader, val_loader, num_epochs=75\n",
    ")\n"
   ]
  },
  {
   "cell_type": "markdown",
   "metadata": {},
   "source": [
    "#### 6) Model Evaluation"
   ]
  },
  {
   "cell_type": "code",
   "execution_count": 49,
   "metadata": {
    "_cell_guid": "fca9a9a7-037b-44ae-9e5b-a39f5e37bd25",
    "_uuid": "5505dca9-0b8e-4ab4-a980-414399f3d5b7",
    "collapsed": false,
    "execution": {
     "iopub.execute_input": "2025-05-25T18:32:15.625269Z",
     "iopub.status.busy": "2025-05-25T18:32:15.624933Z",
     "iopub.status.idle": "2025-05-25T18:32:17.130479Z",
     "shell.execute_reply": "2025-05-25T18:32:17.129688Z",
     "shell.execute_reply.started": "2025-05-25T18:32:15.625249Z"
    },
    "jupyter": {
     "outputs_hidden": false
    },
    "trusted": true
   },
   "outputs": [
    {
     "name": "stdout",
     "output_type": "stream",
     "text": [
      "0.7033378606412314 0.7626243\n"
     ]
    }
   ],
   "source": [
    "model.eval()\n",
    "\n",
    "# model.load_state_dict(torch.load(\"/kaggle/working/best_model.pth\"))\n",
    "\n",
    "all_preds = []\n",
    "all_labels = []\n",
    "with torch.no_grad():\n",
    "    for images, labels in val_loader:\n",
    "        images = images.to(device)\n",
    "        outputs = model(images)\n",
    "        # Detach and move to CPU; flatten the predictions.\n",
    "        preds = outputs.cpu().numpy().flatten()\n",
    "        all_preds.extend(preds)\n",
    "        all_labels.extend(labels.numpy())\n",
    "\n",
    "all_preds = np.array(all_preds)\n",
    "all_labels = np.array(all_labels)\n",
    "\n",
    "# Compute Spearman's rank correlation coefficient (SROCC)\n",
    "spearman_corr, _ = spearmanr(all_labels, all_preds)\n",
    "pearson_corr, _ = pearsonr(all_labels, all_preds)\n",
    "\n",
    "print(spearman_corr, pearson_corr)\n"
   ]
  },
  {
   "cell_type": "code",
   "execution_count": 51,
   "metadata": {
    "_cell_guid": "31178a24-7563-4f15-9492-9fb07585af5c",
    "_uuid": "5f309104-54c0-422c-8fa7-f455c254f4cf",
    "collapsed": false,
    "execution": {
     "iopub.execute_input": "2025-05-25T18:32:38.622663Z",
     "iopub.status.busy": "2025-05-25T18:32:38.622065Z",
     "iopub.status.idle": "2025-05-25T18:32:40.187866Z",
     "shell.execute_reply": "2025-05-25T18:32:40.187223Z",
     "shell.execute_reply.started": "2025-05-25T18:32:38.622641Z"
    },
    "jupyter": {
     "outputs_hidden": false
    },
    "papermill": {
     "duration": null,
     "end_time": null,
     "exception": null,
     "start_time": null,
     "status": "completed"
    },
    "tags": [],
    "trusted": true
   },
   "outputs": [
    {
     "data": {
      "image/png": "[encoded data removed]",
      "text/plain": [
       "<Figure size 800x600 with 1 Axes>"
      ]
     },
     "metadata": {},
     "output_type": "display_data"
    },
    {
     "name": "stdout",
     "output_type": "stream",
     "text": [
      "0.6386714409186319 0.72399336\n"
     ]
    }
   ],
   "source": [
    "predictions = []\n",
    "ground_truths = []\n",
    "\n",
    "# Iterate over the validation dataset\n",
    "\n",
    "with torch.no_grad():\n",
    "    for images, ratings in test_loader:\n",
    "        images = images.to(device)  # Move to device (GPU or CPU)\n",
    "        ratings = ratings.to(device)\n",
    "\n",
    "        # Get predictions from the model\n",
    "        predicted_ratings = model(images)\n",
    "\n",
    "        # Append predicted and ground truth values to the lists\n",
    "        predictions.extend(predicted_ratings.cpu().numpy())  # move to CPU and convert to numpy\n",
    "        ground_truths.extend(ratings.cpu().numpy())  # move to CPU and convert to numpy\n",
    "\n",
    "# Convert lists to numpy arrays\n",
    "predictions = np.array(predictions).flatten()\n",
    "ground_truths = np.array(ground_truths).flatten()\n",
    "\n",
    "# # # denormalize\n",
    "# predictions = predictions*mos_std + mos_mean\n",
    "# ground_truths = ground_truths*mos_std + mos_mean \n",
    "\n",
    "# Plot the scatter plot\n",
    "plt.figure(figsize=(8, 6))\n",
    "plt.scatter(ground_truths, predictions, alpha=0.5, c='blue')\n",
    "plt.title('Prediction vs Ground Truth', fontsize=16)\n",
    "plt.xlabel('Ground Truth Ratings', fontsize=14)\n",
    "plt.ylabel('Predicted Ratings', fontsize=14)\n",
    "plt.grid(True)\n",
    "plt.show()\n",
    "\n",
    "# Compute Spearman's rank correlation coefficient (SROCC)\n",
    "spearman_corr, _ = spearmanr(ground_truths, predictions)\n",
    "pearson_corr, _ = pearsonr(ground_truths, predictions)\n",
    "\n",
    "print(spearman_corr, pearson_corr)\n"
   ]
  },
  {
   "cell_type": "code",
   "execution_count": null,
   "metadata": {
    "execution": {
     "iopub.execute_input": "2025-05-25T18:33:01.001096Z",
     "iopub.status.busy": "2025-05-25T18:33:01.000452Z",
     "iopub.status.idle": "2025-05-25T18:33:01.340293Z",
     "shell.execute_reply": "2025-05-25T18:33:01.339484Z",
     "shell.execute_reply.started": "2025-05-25T18:33:01.001072Z"
    },
    "trusted": true
   },
   "outputs": [
    {
     "name": "stdout",
     "output_type": "stream",
     "text": [
      "✔️  Weights written to /kaggle/working/resnet50_joint-weights.pth\n"
     ]
    }
   ],
   "source": [
    "import torch, os\n",
    "\n",
    "#TODO: Change this directory path based on where you want to save the weights.\n",
    "\n",
    "SAVE_DIR = \"/kaggle/working\"            # this is the only writable spot\n",
    "WEIGHT_FILE = \"resnet50_joint-weights.pth\"\n",
    "\n",
    "os.makedirs(SAVE_DIR, exist_ok=True)\n",
    "torch.save(model.state_dict(), f\"{SAVE_DIR}/{WEIGHT_FILE}\")\n",
    "print(\"✔️  Weights written to\", f\"{SAVE_DIR}/{WEIGHT_FILE}\")\n"
   ]
  },
  {
   "cell_type": "code",
   "execution_count": null,
   "metadata": {
    "trusted": true
   },
   "outputs": [],
   "source": []
  }
 ],
 "metadata": {
  "kaggle": {
   "accelerator": "gpu",
   "dataSources": [
    {
     "datasetId": 7259059,
     "sourceId": 11577853,
     "sourceType": "datasetVersion"
    },
    {
     "datasetId": 7512054,
     "sourceId": 11948935,
     "sourceType": "datasetVersion"
    },
    {
     "modelId": 327304,
     "modelInstanceId": 306818,
     "sourceId": 370631,
     "sourceType": "modelInstanceVersion"
    },
    {
     "modelId": 327342,
     "modelInstanceId": 306857,
     "sourceId": 370684,
     "sourceType": "modelInstanceVersion"
    }
   ],
   "dockerImageVersionId": 31011,
   "isGpuEnabled": true,
   "isInternetEnabled": true,
   "language": "python",
   "sourceType": "notebook"
  },
  "kernelspec": {
   "display_name": "Python 3",
   "language": "python",
   "name": "python3"
  },
  "language_info": {
   "codemirror_mode": {
    "name": "ipython",
    "version": 3
   },
   "file_extension": ".py",
   "mimetype": "text/x-python",
   "name": "python",
   "nbconvert_exporter": "python",
   "pygments_lexer": "ipython3",
   "version": "3.11.11"
  },
  "papermill": {
   "default_parameters": {},
   "duration": 191.089176,
   "end_time": "2025-04-28T13:01:35.758895",
   "environment_variables": {},
   "exception": null,
   "input_path": "__notebook__.ipynb",
   "output_path": "__notebook__.ipynb",
   "parameters": {},
   "start_time": "2025-04-28T12:58:24.669719",
   "version": "2.6.0"
  }
 },
 "nbformat": 4,
 "nbformat_minor": 4
}
