{
 "cells": [
  {
   "cell_type": "markdown",
   "metadata": {},
   "source": [
    "#### 1) Imports and Random Seed\n"
   ]
  },
  {
   "cell_type": "code",
   "execution_count": 1,
   "metadata": {
    "_cell_guid": "42a8d880-6726-477b-81c5-ae5d67c44f81",
    "_uuid": "9b172d4b-a060-4da3-8fc6-399fc38d7903",
    "collapsed": false,
    "execution": {
     "iopub.execute_input": "2025-07-05T08:53:14.991737Z",
     "iopub.status.busy": "2025-07-05T08:53:14.991495Z",
     "iopub.status.idle": "2025-07-05T08:53:25.309271Z",
     "shell.execute_reply": "2025-07-05T08:53:25.308717Z",
     "shell.execute_reply.started": "2025-07-05T08:53:14.991709Z"
    },
    "jupyter": {
     "outputs_hidden": false
    },
    "papermill": {
     "duration": 11.404132,
     "end_time": "2025-04-28T12:58:40.297173",
     "exception": false,
     "start_time": "2025-04-28T12:58:28.893041",
     "status": "completed"
    },
    "tags": [],
    "trusted": true
   },
   "outputs": [],
   "source": [
    "import pandas as pd\n",
    "from sklearn.model_selection import train_test_split\n",
    "from torch.utils.data import Dataset, DataLoader\n",
    "from torchvision import transforms\n",
    "from PIL import Image\n",
    "import torch\n",
    "import numpy as np\n",
    "import torch.nn as nn\n",
    "import torch.optim as optim\n",
    "import torch.nn.functional as F\n",
    "from sklearn.metrics import mean_squared_error\n",
    "from scipy.stats import spearmanr, pearsonr\n",
    "import matplotlib.pyplot as plt\n",
    "import torchvision.models as models\n",
    "import copy\n",
    "import matplotlib.pyplot as plt\n",
    "import torch\n",
    "import torch.nn as nn\n",
    "\n",
    "\n",
    "import random; import numpy as np; import torch\n",
    "SEED = 78\n",
    "random.seed(SEED)\n",
    "np.random.seed(SEED)\n",
    "torch.manual_seed(SEED)\n",
    "torch.cuda.manual_seed_all(SEED)\n"
   ]
  },
  {
   "cell_type": "code",
   "execution_count": 2,
   "metadata": {
    "_cell_guid": "e604d6e5-da9c-4d35-9a7c-512b02082701",
    "_uuid": "52985e6c-3922-4ecf-8339-18d9af509916",
    "collapsed": false,
    "execution": {
     "iopub.execute_input": "2025-07-05T08:53:25.310209Z",
     "iopub.status.busy": "2025-07-05T08:53:25.309897Z",
     "iopub.status.idle": "2025-07-05T08:53:29.568652Z",
     "shell.execute_reply": "2025-07-05T08:53:29.567717Z",
     "shell.execute_reply.started": "2025-07-05T08:53:25.310192Z"
    },
    "jupyter": {
     "outputs_hidden": false
    },
    "trusted": true
   },
   "outputs": [
    {
     "name": "stdout",
     "output_type": "stream",
     "text": [
      "Requirement already satisfied: pot in /Users/annimukh/miniconda3/envs/image_realness/lib/python3.10/site-packages (0.9.5)\n",
      "Requirement already satisfied: numpy>=1.16 in /Users/annimukh/miniconda3/envs/image_realness/lib/python3.10/site-packages (from pot) (1.26.4)\n",
      "Requirement already satisfied: scipy>=1.6 in /Users/annimukh/miniconda3/envs/image_realness/lib/python3.10/site-packages (from pot) (1.14.1)\n"
     ]
    }
   ],
   "source": [
    "!pip install pot\n"
   ]
  },
  {
   "cell_type": "markdown",
   "metadata": {},
   "source": [
    "Make sure to put https://github.com/zijianchen98/AGIN/blob/main/JOINT/models/JOINT.py in the same directory as this notebook\n"
   ]
  },
  {
   "cell_type": "code",
   "execution_count": 3,
   "metadata": {},
   "outputs": [],
   "source": [
    "import sys\n",
    "import JOINT\n"
   ]
  },
  {
   "cell_type": "markdown",
   "metadata": {},
   "source": [
    "#### 2) Dataset and Dataloader\n"
   ]
  },
  {
   "cell_type": "code",
   "execution_count": 4,
   "metadata": {},
   "outputs": [],
   "source": [
    "class ImageRatingDataset(Dataset):\n",
    "\n",
    "    def __init__(self, dataframe, transform=None, augment=False, phase=\"\"):\n",
    "        self.dataframe = dataframe.reset_index(drop=True)\n",
    "        self.transform = transforms.Compose(\n",
    "            [\n",
    "                transforms.ToTensor(),\n",
    "                transforms.Normalize(\n",
    "                    mean=[0.485, 0.456, 0.406], std=[0.229, 0.224, 0.225]\n",
    "                ),\n",
    "            ]\n",
    "        )  # IMAGENET NORMALIZATION\n",
    "        self.augment = augment\n",
    "        self.phase = phase\n",
    "\n",
    "        # Define augmentations\n",
    "        self.augmentation = transforms.Compose(\n",
    "            [\n",
    "                transforms.RandomHorizontalFlip(p=0.5),\n",
    "                transforms.RandomRotation(degrees=10),  # small rotations\n",
    "                transforms.RandomResizedCrop(\n",
    "                    size=(384, 512), scale=(0.9, 1.0), ratio=(1.25, 1.35)\n",
    "                ),\n",
    "                transforms.ColorJitter(brightness=0.1, contrast=0.1),  # light changes\n",
    "            ]\n",
    "        )\n",
    "\n",
    "    def __len__(self):\n",
    "        return len(self.dataframe)\n",
    "\n",
    "    def __getitem__(self, idx):\n",
    "        img_path = self.dataframe.loc[idx, \"filename\"]\n",
    "        rating = self.dataframe.loc[idx, \"MOS_ZScore\"]\n",
    "\n",
    "        if self.phase == \"train\":\n",
    "            image = Image.open(\"../../dataset/images/train_images/\" + img_path).convert(\n",
    "                \"RGB\"\n",
    "            )\n",
    "        elif self.phase == \"test\":\n",
    "            image = Image.open(\"../../dataset/images/test_images/\" + img_path).convert(\n",
    "                \"RGB\"\n",
    "            )\n",
    "\n",
    "        if self.augment == True:\n",
    "            image = self.augmentation(image)\n",
    "        if self.transform:\n",
    "            image = self.transform(image)\n",
    "\n",
    "        return image, torch.tensor(rating, dtype=torch.float32)\n"
   ]
  },
  {
   "cell_type": "markdown",
   "metadata": {},
   "source": [
    "#### 3) Create Model\n"
   ]
  },
  {
   "cell_type": "code",
   "execution_count": 5,
   "metadata": {
    "_cell_guid": "d2ba734b-025b-47bf-947d-2b31b41db162",
    "_uuid": "03adcde5-1202-4024-8285-a737c7eafcbc",
    "collapsed": false,
    "execution": {
     "iopub.execute_input": "2025-07-05T08:54:29.279202Z",
     "iopub.status.busy": "2025-07-05T08:54:29.278889Z",
     "iopub.status.idle": "2025-07-05T08:54:29.286339Z",
     "shell.execute_reply": "2025-07-05T08:54:29.285542Z",
     "shell.execute_reply.started": "2025-07-05T08:54:29.279179Z"
    },
    "jupyter": {
     "outputs_hidden": false
    },
    "trusted": true
   },
   "outputs": [],
   "source": [
    "class ResNetRegressor(nn.Module):\n",
    "    def __init__(self):\n",
    "        super(ResNetRegressor, self).__init__()\n",
    "\n",
    "        self.model = JOINT.JOINT_Model()\n",
    "\n",
    "        # TODO: Get the checkpoint from the AGIN repo (it's in the README)\n",
    "\n",
    "        # Here's the direct link to their weights:\n",
    "        # https://onedrive.live.com/?redeem=aHR0cHM6Ly8xZHJ2Lm1zL3UvYy8wYzIxOTFjYjAxY2JmMDAyL0VjX2xuY0N4R1paQ25qb2NUNDAtc24wQjVTcmcwekZuNkgtOTVFb3B2eEpJelE%5FZT10YWlUOVI&cid=0C2191CB01CBF002&id=C2191CB01CBF002%21sc09de5cf19b142969e3a1c4f8d3eb27d&parId=C2191CB01CBF002%21s10403dccf95e47979e25d26520e84d7b&o=OneUp\n",
    "\n",
    "        # Create a directory called `jointweights` and save the .pth file there.\n",
    "        if torch.cuda.is_available():\n",
    "            self.model.load_state_dict(torch.load(\"./jointweights/JOINT_2024.pth\"))\n",
    "        else:\n",
    "            self.model.load_state_dict(\n",
    "                torch.load(\n",
    "                    \"./jointweights/JOINT_2024.pth\", map_location=torch.device(\"cpu\")\n",
    "                )\n",
    "            )\n",
    "            \n",
    "        \n",
    "        self.features = nn.Sequential(*list(self.model.rationality_feature_extraction.children()))[:-1]\n",
    "\n",
    "\n",
    "        # # Get the feature extractor\n",
    "        # self.features = nn.Sequential(\n",
    "        #     *list(self.model.rationality_feature_extraction.children())\n",
    "        # )[:-1]\n",
    "\n",
    "        # # Freeze base layers\n",
    "        # for param in self.features.parameters():\n",
    "        #     param.requires_grad = False\n",
    "        \n",
    "        for layer in self.features[:-2]:\n",
    "            for param in layer.parameters():\n",
    "                param.requires_grad = False\n",
    "            layer.eval()  \n",
    "        \n",
    "        # Unfreeze last 2 blocks (keep in train mode)\n",
    "        for param in self.features[-2:].parameters():\n",
    "            param.requires_grad = True\n",
    "\n",
    "        # Add a custom regression head\n",
    "        self.regressor = nn.Sequential(\n",
    "            nn.Linear(2048, 1024),\n",
    "            nn.ReLU(),\n",
    "            nn.Dropout(0.4),\n",
    "            nn.Linear(1024, 512),\n",
    "            nn.ReLU(),\n",
    "            nn.Dropout(0.4),\n",
    "            nn.Linear(512, 256),\n",
    "            nn.ReLU(),\n",
    "            nn.Dropout(0.4),\n",
    "            nn.Linear(256, 128),\n",
    "            nn.ReLU(),\n",
    "            nn.Dropout(0.4),\n",
    "            nn.Linear(128, 1),\n",
    "        )\n",
    "\n",
    "    def forward(self, x):\n",
    "        x = self.features(x)  # Output shape: (batch_size, 512, 1, 1)\n",
    "        x = x.view(x.size(0), -1)  # Flatten to (batch_size, 512)\n",
    "        x = self.regressor(x)\n",
    "        x = x.view(x.size(0), -1)\n",
    "        return x\n"
   ]
  },
  {
   "cell_type": "markdown",
   "metadata": {},
   "source": [
    "#### 4) Training of model\n"
   ]
  },
  {
   "cell_type": "code",
   "execution_count": 6,
   "metadata": {
    "_cell_guid": "fa0cedf2-b28a-4490-8483-c0c43f4b60ea",
    "_uuid": "1a604b12-79ea-4c6e-9bf9-f0e41978c0bb",
    "collapsed": false,
    "execution": {
     "iopub.execute_input": "2025-07-05T08:54:42.102535Z",
     "iopub.status.busy": "2025-07-05T08:54:42.102247Z",
     "iopub.status.idle": "2025-07-05T08:54:42.111269Z",
     "shell.execute_reply": "2025-07-05T08:54:42.110624Z",
     "shell.execute_reply.started": "2025-07-05T08:54:42.102514Z"
    },
    "jupyter": {
     "outputs_hidden": false
    },
    "papermill": {
     "duration": 0.029453,
     "end_time": "2025-04-28T13:01:32.644193",
     "exception": false,
     "start_time": "2025-04-28T13:01:32.61474",
     "status": "completed"
    },
    "tags": [],
    "trusted": true
   },
   "outputs": [],
   "source": [
    "def train_model(model, train_loader, val_loader, num_epochs, lr=0.0001, λ=1):\n",
    "\n",
    "    device = torch.device(\"mps\" if torch.mps.is_available() else \"cpu\")\n",
    "    print(device)\n",
    "    optimizer = optim.Adam(model.parameters(), lr=1e-4, eps=1e-8, weight_decay=0)\n",
    "\n",
    "    mse_loss = nn.MSELoss()\n",
    "\n",
    "    train_losses = []\n",
    "    val_losses = []\n",
    "    srocc_scores = []\n",
    "\n",
    "    # Track best model\n",
    "    best_val_loss = float(\"inf\")\n",
    "    best_model_wts = copy.deepcopy(model.state_dict())\n",
    "\n",
    "    model.to(device)\n",
    "    for epoch in range(num_epochs):\n",
    "        # --- Training phase ---\n",
    "        model.train()\n",
    "        running_loss = 0.0\n",
    "        for images, ratings in train_loader:\n",
    "            images, ratings = images.to(device), ratings.to(device)\n",
    "            optimizer.zero_grad()\n",
    "            outputs = model(images).squeeze(1)\n",
    "\n",
    "            loss = mse_loss(outputs, ratings)\n",
    "            loss.backward()\n",
    "            optimizer.step()\n",
    "\n",
    "            running_loss += loss.item() * images.size(0)\n",
    "\n",
    "        avg_train_loss = running_loss / len(train_loader.dataset)\n",
    "        train_losses.append(avg_train_loss)\n",
    "\n",
    "        # --- Validation phase ---\n",
    "        val_loss, srocc = validate_model(model, val_loader, device=device)\n",
    "        val_losses.append(val_loss)\n",
    "        srocc_scores.append(srocc)\n",
    "\n",
    "        print(\n",
    "            f\"Epoch {epoch+1}/{num_epochs} — \"\n",
    "            f\"Train: {avg_train_loss:.4f}  Val: {val_loss:.4f}  SROCC: {srocc:.4f}\"\n",
    "        )\n",
    "\n",
    "        # --- Check for new best ---\n",
    "        if val_loss < best_val_loss:\n",
    "            best_val_loss = val_loss\n",
    "            best_model_wts = copy.deepcopy(model.state_dict())\n",
    "\n",
    "    # --- Load best weights back into model ---\n",
    "    model.load_state_dict(best_model_wts)\n",
    "    print(f\"Loaded best model weights with val_loss={best_val_loss:.4f}\")\n",
    "\n",
    "    # --- Plot curves ---\n",
    "    plt.figure(figsize=(10, 5))\n",
    "    plt.plot(range(1, num_epochs + 1), train_losses, label=\"Training Loss\")\n",
    "    plt.plot(range(1, num_epochs + 1), val_losses, label=\"Validation Loss\")\n",
    "    plt.xlabel(\"Epoch\")\n",
    "    plt.ylabel(\"Loss\")\n",
    "    plt.legend()\n",
    "    plt.grid(True)\n",
    "    # plt.savefig(\"loss_curve.png\")\n",
    "    plt.show()\n",
    "\n",
    "    return model, train_losses, val_losses, srocc_scores\n"
   ]
  },
  {
   "cell_type": "code",
   "execution_count": 7,
   "metadata": {
    "_cell_guid": "9119e08c-7997-4f8e-9430-8ea645d046d9",
    "_uuid": "d6eeeeff-8ad6-4520-aa9a-d38f9ec088e8",
    "collapsed": false,
    "execution": {
     "iopub.execute_input": "2025-07-05T08:54:42.347824Z",
     "iopub.status.busy": "2025-07-05T08:54:42.347254Z",
     "iopub.status.idle": "2025-07-05T08:54:42.352387Z",
     "shell.execute_reply": "2025-07-05T08:54:42.351835Z",
     "shell.execute_reply.started": "2025-07-05T08:54:42.347802Z"
    },
    "jupyter": {
     "outputs_hidden": false
    },
    "papermill": {
     "duration": 0.026663,
     "end_time": "2025-04-28T13:01:32.691121",
     "exception": false,
     "start_time": "2025-04-28T13:01:32.664458",
     "status": "completed"
    },
    "tags": [],
    "trusted": true
   },
   "outputs": [],
   "source": [
    "def validate_model(model, val_loader, device):\n",
    "    model.eval()\n",
    "    val_predictions = []\n",
    "    val_ground_truth = []\n",
    "\n",
    "    with torch.no_grad():\n",
    "        for images, ratings in val_loader:\n",
    "            images = images.to(device)\n",
    "            ratings = ratings.to(device)\n",
    "\n",
    "            outputs = model(images).squeeze(1)  # Remove extra dimension\n",
    "\n",
    "            val_predictions.extend(outputs.cpu().numpy())\n",
    "            val_ground_truth.extend(ratings.cpu().numpy())\n",
    "\n",
    "    # Compute SROCC\n",
    "    srocc, _ = spearmanr(val_predictions, val_ground_truth)\n",
    "\n",
    "    # Compute mean squared error for validation loss\n",
    "    val_loss = mean_squared_error(val_ground_truth, val_predictions)\n",
    "\n",
    "    return val_loss, srocc\n"
   ]
  },
  {
   "cell_type": "code",
   "execution_count": 8,
   "metadata": {
    "_cell_guid": "4e902e83-d9bb-452e-872c-3c76450da8bb",
    "_uuid": "1c1a330f-d67b-4755-8c15-bb1b52ecd6c3",
    "collapsed": false,
    "execution": {
     "iopub.execute_input": "2025-07-05T08:54:45.482221Z",
     "iopub.status.busy": "2025-07-05T08:54:45.481946Z",
     "iopub.status.idle": "2025-07-05T08:54:50.904015Z",
     "shell.execute_reply": "2025-07-05T08:54:50.903423Z",
     "shell.execute_reply.started": "2025-07-05T08:54:45.482202Z"
    },
    "jupyter": {
     "outputs_hidden": false
    },
    "papermill": {
     "duration": 3.023618,
     "end_time": "2025-04-28T13:01:35.735374",
     "exception": false,
     "start_time": "2025-04-28T13:01:32.711756",
     "status": "completed"
    },
    "tags": [],
    "trusted": true
   },
   "outputs": [
    {
     "name": "stdout",
     "output_type": "stream",
     "text": [
      "mps\n"
     ]
    },
    {
     "name": "stderr",
     "output_type": "stream",
     "text": [
      "/var/folders/l4/8h7869116bj2w59cq06rwl8c0000gn/T/ipykernel_34742/726812550.py:17: FutureWarning: You are using `torch.load` with `weights_only=False` (the current default value), which uses the default pickle module implicitly. It is possible to construct malicious pickle data which will execute arbitrary code during unpickling (See https://github.com/pytorch/pytorch/blob/main/SECURITY.md#untrusted-models for more details). In a future release, the default value for `weights_only` will be flipped to `True`. This limits the functions that could be executed during unpickling. Arbitrary objects will no longer be allowed to be loaded via this mode unless they are explicitly allowlisted by the user via `torch.serialization.add_safe_globals`. We recommend you start setting `weights_only=True` for any use case where you don't have full control of the loaded file. Please open an issue on GitHub for any issues related to this experimental feature.\n",
      "  torch.load(\n"
     ]
    }
   ],
   "source": [
    "device = torch.device(\"mps\" if torch.mps.is_available() else \"cpu\")\n",
    "print(device)\n",
    "model = ResNetRegressor().to(device)\n"
   ]
  },
  {
   "cell_type": "code",
   "execution_count": 9,
   "metadata": {
    "execution": {
     "iopub.execute_input": "2025-07-05T08:54:50.905332Z",
     "iopub.status.busy": "2025-07-05T08:54:50.905056Z",
     "iopub.status.idle": "2025-07-05T08:54:50.910672Z",
     "shell.execute_reply": "2025-07-05T08:54:50.910054Z",
     "shell.execute_reply.started": "2025-07-05T08:54:50.905309Z"
    },
    "trusted": true
   },
   "outputs": [
    {
     "name": "stdout",
     "output_type": "stream",
     "text": [
      "Total number of trainable parameters: 47,547,237\n"
     ]
    }
   ],
   "source": [
    "def count_parameters(model):\n",
    "    return sum(p.numel() for p in model.parameters() if p.requires_grad)\n",
    "\n",
    "\n",
    "num_params = count_parameters(model)\n",
    "print(f\"Total number of trainable parameters: {num_params:,}\")\n"
   ]
  },
  {
   "cell_type": "markdown",
   "metadata": {},
   "source": [
    "#### 5) Load CSV and stratified split data, training loop\n"
   ]
  },
  {
   "cell_type": "code",
   "execution_count": 10,
   "metadata": {
    "_cell_guid": "4e902e83-d9bb-452e-872c-3c76450da8bb",
    "_uuid": "1c1a330f-d67b-4755-8c15-bb1b52ecd6c3",
    "collapsed": false,
    "execution": {
     "iopub.execute_input": "2025-07-05T08:54:59.796720Z",
     "iopub.status.busy": "2025-07-05T08:54:59.796146Z",
     "iopub.status.idle": "2025-07-05T08:54:59.865303Z",
     "shell.execute_reply": "2025-07-05T08:54:59.864507Z",
     "shell.execute_reply.started": "2025-07-05T08:54:59.796698Z"
    },
    "jupyter": {
     "outputs_hidden": false
    },
    "papermill": {
     "duration": 3.023618,
     "end_time": "2025-04-28T13:01:35.735374",
     "exception": false,
     "start_time": "2025-04-28T13:01:32.711756",
     "status": "completed"
    },
    "tags": [],
    "trusted": true
   },
   "outputs": [
    {
     "name": "stdout",
     "output_type": "stream",
     "text": [
      "(420, 3) (90, 3) (90, 3)\n"
     ]
    }
   ],
   "source": [
    "train_df = pd.read_csv(\"../../dataset/ratings/train.csv\")\n",
    "test_df = pd.read_csv(\"../../dataset/ratings/test.csv\")\n",
    "\n",
    "val_df = train_df.iloc[-90:].copy()\n",
    "train_df = train_df.iloc[:-90].copy()\n",
    "\n",
    "print(train_df.shape, val_df.shape, test_df.shape)\n"
   ]
  },
  {
   "cell_type": "code",
   "execution_count": 11,
   "metadata": {
    "_cell_guid": "38ef4ede-ef44-4925-8c57-44abab1344a4",
    "_uuid": "8cec7855-af18-426e-88f6-843696e570ed",
    "collapsed": false,
    "execution": {
     "iopub.execute_input": "2025-05-07T06:17:41.776015Z",
     "iopub.status.busy": "2025-05-07T06:17:41.775764Z",
     "iopub.status.idle": "2025-05-07T06:31:39.984105Z",
     "shell.execute_reply": "2025-05-07T06:31:39.983484Z",
     "shell.execute_reply.started": "2025-05-07T06:17:41.775990Z"
    },
    "jupyter": {
     "outputs_hidden": false
    },
    "trusted": true
   },
   "outputs": [
    {
     "name": "stdout",
     "output_type": "stream",
     "text": [
      "mps\n",
      "Epoch 1/75 — Train: 0.9930  Val: 0.9815  SROCC: 0.6490\n",
      "Epoch 2/75 — Train: 0.9861  Val: 0.9393  SROCC: 0.6624\n",
      "Epoch 3/75 — Train: 0.8903  Val: 0.7684  SROCC: 0.6892\n",
      "Epoch 4/75 — Train: 0.6070  Val: 0.5079  SROCC: 0.7028\n",
      "Epoch 5/75 — Train: 0.4542  Val: 0.5191  SROCC: 0.6942\n",
      "Epoch 6/75 — Train: 0.4043  Val: 0.4940  SROCC: 0.6740\n",
      "Epoch 7/75 — Train: 0.2944  Val: 0.5579  SROCC: 0.6621\n",
      "Epoch 8/75 — Train: 0.2492  Val: 0.6760  SROCC: 0.6422\n",
      "Epoch 9/75 — Train: 0.2498  Val: 0.5247  SROCC: 0.6253\n",
      "Epoch 10/75 — Train: 0.2169  Val: 0.4954  SROCC: 0.6025\n",
      "Epoch 11/75 — Train: 0.2119  Val: 0.5186  SROCC: 0.6330\n",
      "Epoch 12/75 — Train: 0.2145  Val: 0.6034  SROCC: 0.6146\n",
      "Epoch 13/75 — Train: 0.1829  Val: 0.5173  SROCC: 0.6284\n",
      "Epoch 14/75 — Train: 0.1955  Val: 0.5257  SROCC: 0.6241\n",
      "Epoch 15/75 — Train: 0.1458  Val: 0.4845  SROCC: 0.6226\n",
      "Epoch 16/75 — Train: 0.1922  Val: 0.4827  SROCC: 0.6395\n",
      "Epoch 17/75 — Train: 0.1664  Val: 0.5303  SROCC: 0.6650\n",
      "Epoch 18/75 — Train: 0.2204  Val: 0.6451  SROCC: 0.6010\n",
      "Epoch 19/75 — Train: 0.1635  Val: 0.5043  SROCC: 0.6228\n",
      "Epoch 20/75 — Train: 0.2157  Val: 0.5124  SROCC: 0.6593\n",
      "Epoch 21/75 — Train: 0.1214  Val: 0.4326  SROCC: 0.7063\n",
      "Epoch 22/75 — Train: 0.1813  Val: 0.4411  SROCC: 0.6750\n",
      "Epoch 23/75 — Train: 0.1303  Val: 0.4938  SROCC: 0.6386\n",
      "Epoch 24/75 — Train: 0.1262  Val: 0.5101  SROCC: 0.6579\n",
      "Epoch 25/75 — Train: 0.1737  Val: 0.4930  SROCC: 0.6460\n",
      "Epoch 26/75 — Train: 0.1473  Val: 0.5192  SROCC: 0.6323\n",
      "Epoch 27/75 — Train: 0.1445  Val: 0.4718  SROCC: 0.6539\n",
      "Epoch 28/75 — Train: 0.1423  Val: 0.4769  SROCC: 0.6307\n",
      "Epoch 29/75 — Train: 0.2048  Val: 0.5786  SROCC: 0.6064\n",
      "Epoch 30/75 — Train: 0.1404  Val: 0.5086  SROCC: 0.6321\n",
      "Epoch 31/75 — Train: 0.1269  Val: 0.4837  SROCC: 0.6491\n",
      "Epoch 32/75 — Train: 0.1240  Val: 0.4796  SROCC: 0.6550\n",
      "Epoch 33/75 — Train: 0.1577  Val: 0.4629  SROCC: 0.6527\n",
      "Epoch 34/75 — Train: 0.1366  Val: 0.5009  SROCC: 0.6415\n",
      "Epoch 35/75 — Train: 0.1290  Val: 0.6308  SROCC: 0.6504\n",
      "Epoch 36/75 — Train: 0.1766  Val: 0.5913  SROCC: 0.6595\n",
      "Epoch 37/75 — Train: 0.1844  Val: 0.5688  SROCC: 0.6437\n",
      "Epoch 38/75 — Train: 0.1151  Val: 0.5131  SROCC: 0.6344\n",
      "Epoch 39/75 — Train: 0.1686  Val: 0.5059  SROCC: 0.6212\n",
      "Epoch 40/75 — Train: 0.1701  Val: 0.4959  SROCC: 0.6366\n",
      "Epoch 41/75 — Train: 0.1485  Val: 0.5488  SROCC: 0.6418\n",
      "Epoch 42/75 — Train: 0.1309  Val: 0.5204  SROCC: 0.6548\n",
      "Epoch 43/75 — Train: 0.1496  Val: 0.5210  SROCC: 0.6576\n",
      "Epoch 44/75 — Train: 0.1334  Val: 0.5227  SROCC: 0.6445\n",
      "Epoch 45/75 — Train: 0.1047  Val: 0.5257  SROCC: 0.6211\n",
      "Epoch 46/75 — Train: 0.1267  Val: 0.4940  SROCC: 0.6449\n",
      "Epoch 47/75 — Train: 0.1354  Val: 0.5416  SROCC: 0.6403\n",
      "Epoch 48/75 — Train: 0.1076  Val: 0.5613  SROCC: 0.6442\n",
      "Epoch 49/75 — Train: 0.1016  Val: 0.4776  SROCC: 0.6364\n",
      "Epoch 50/75 — Train: 0.1416  Val: 0.6122  SROCC: 0.6228\n",
      "Epoch 51/75 — Train: 0.1197  Val: 0.5834  SROCC: 0.6091\n",
      "Epoch 52/75 — Train: 0.1073  Val: 0.5030  SROCC: 0.6330\n",
      "Epoch 53/75 — Train: 0.1275  Val: 0.5578  SROCC: 0.6279\n",
      "Epoch 54/75 — Train: 0.1020  Val: 0.5352  SROCC: 0.6374\n",
      "Epoch 55/75 — Train: 0.1139  Val: 0.5391  SROCC: 0.6227\n",
      "Epoch 56/75 — Train: 0.1472  Val: 0.5669  SROCC: 0.6465\n",
      "Epoch 57/75 — Train: 0.1267  Val: 0.4943  SROCC: 0.6404\n",
      "Epoch 58/75 — Train: 0.0958  Val: 0.5480  SROCC: 0.6379\n",
      "Epoch 59/75 — Train: 0.1232  Val: 0.4935  SROCC: 0.6520\n",
      "Epoch 60/75 — Train: 0.0829  Val: 0.5167  SROCC: 0.6539\n",
      "Epoch 61/75 — Train: 0.1183  Val: 0.5149  SROCC: 0.6539\n",
      "Epoch 62/75 — Train: 0.1091  Val: 0.5242  SROCC: 0.6567\n",
      "Epoch 63/75 — Train: 0.1360  Val: 0.5500  SROCC: 0.6679\n",
      "Epoch 64/75 — Train: 0.1121  Val: 0.5043  SROCC: 0.6597\n",
      "Epoch 65/75 — Train: 0.0933  Val: 0.5523  SROCC: 0.6562\n",
      "Epoch 66/75 — Train: 0.0914  Val: 0.5088  SROCC: 0.6471\n",
      "Epoch 67/75 — Train: 0.1301  Val: 0.5529  SROCC: 0.6536\n",
      "Epoch 68/75 — Train: 0.1001  Val: 0.4533  SROCC: 0.6824\n",
      "Epoch 69/75 — Train: 0.1111  Val: 0.4780  SROCC: 0.6734\n",
      "Epoch 70/75 — Train: 0.0964  Val: 0.5021  SROCC: 0.6560\n",
      "Epoch 71/75 — Train: 0.0914  Val: 0.4890  SROCC: 0.6610\n",
      "Epoch 72/75 — Train: 0.1377  Val: 0.4901  SROCC: 0.6726\n",
      "Epoch 73/75 — Train: 0.1142  Val: 0.5214  SROCC: 0.6706\n",
      "Epoch 74/75 — Train: 0.1007  Val: 0.4834  SROCC: 0.6415\n",
      "Epoch 75/75 — Train: 0.1017  Val: 0.4848  SROCC: 0.6283\n",
      "Loaded best model weights with val_loss=0.4326\n"
     ]
    },
    {
     "data": {
      "image/png": "[encoded data removed]",
      "text/plain": [
       "<Figure size 1000x500 with 1 Axes>"
      ]
     },
     "metadata": {},
     "output_type": "display_data"
    }
   ],
   "source": [
    "# Create dataset partitions\n",
    "train_dataset = ImageRatingDataset(train_df, augment=True, phase=\"train\")\n",
    "val_dataset = ImageRatingDataset(val_df, phase=\"train\")\n",
    "test_dataset = ImageRatingDataset(test_df, phase=\"test\")\n",
    "\n",
    "# Create dataloaders\n",
    "train_loader = DataLoader(train_dataset, batch_size=32, shuffle=True)\n",
    "val_loader = DataLoader(val_dataset, batch_size=32)\n",
    "test_loader = DataLoader(test_dataset, batch_size=32)\n",
    "\n",
    "\n",
    "# Start training\n",
    "model, train_losses, val_losses, srocc_scores = train_model(\n",
    "    model, train_loader, val_loader, num_epochs=75\n",
    ")\n"
   ]
  },
  {
   "cell_type": "markdown",
   "metadata": {},
   "source": [
    "#### 6) Model Evaluation"
   ]
  },
  {
   "cell_type": "code",
   "execution_count": 15,
   "metadata": {
    "_cell_guid": "fca9a9a7-037b-44ae-9e5b-a39f5e37bd25",
    "_uuid": "5505dca9-0b8e-4ab4-a980-414399f3d5b7",
    "collapsed": false,
    "execution": {
     "iopub.execute_input": "2025-05-07T06:36:40.770342Z",
     "iopub.status.busy": "2025-05-07T06:36:40.769255Z",
     "iopub.status.idle": "2025-05-07T06:36:42.161938Z",
     "shell.execute_reply": "2025-05-07T06:36:42.161016Z",
     "shell.execute_reply.started": "2025-05-07T06:36:40.770312Z"
    },
    "jupyter": {
     "outputs_hidden": false
    },
    "trusted": true
   },
   "outputs": [
    {
     "name": "stdout",
     "output_type": "stream",
     "text": [
      "0.7062682635716343 0.75580907\n"
     ]
    }
   ],
   "source": [
    "model.eval()\n",
    "# model.load_state_dict(torch.load(\"/kaggle/working/best_model.pth\"))\n",
    "all_preds = []\n",
    "all_labels = []\n",
    "with torch.no_grad():\n",
    "    for images, labels in val_loader:\n",
    "        images = images.to(device)\n",
    "        outputs = model(images)\n",
    "        # Detach and move to CPU; flatten the predictions.\n",
    "        preds = outputs.cpu().numpy().flatten()\n",
    "        all_preds.extend(preds)\n",
    "        all_labels.extend(labels.numpy())\n",
    "\n",
    "all_preds = np.array(all_preds)\n",
    "all_labels = np.array(all_labels)\n",
    "\n",
    "# Compute Spearman's rank correlation coefficient (SROCC)\n",
    "spearman_corr, _ = spearmanr(all_labels, all_preds)\n",
    "pearson_corr, _ = pearsonr(all_labels, all_preds)\n",
    "\n",
    "print(spearman_corr, pearson_corr)\n"
   ]
  },
  {
   "cell_type": "code",
   "execution_count": 16,
   "metadata": {
    "_cell_guid": "31178a24-7563-4f15-9492-9fb07585af5c",
    "_uuid": "5f309104-54c0-422c-8fa7-f455c254f4cf",
    "collapsed": false,
    "execution": {
     "iopub.execute_input": "2025-05-07T06:36:43.648382Z",
     "iopub.status.busy": "2025-05-07T06:36:43.648110Z",
     "iopub.status.idle": "2025-05-07T06:36:45.233870Z",
     "shell.execute_reply": "2025-05-07T06:36:45.233244Z",
     "shell.execute_reply.started": "2025-05-07T06:36:43.648362Z"
    },
    "jupyter": {
     "outputs_hidden": false
    },
    "papermill": {
     "duration": null,
     "end_time": null,
     "exception": null,
     "start_time": null,
     "status": "completed"
    },
    "tags": [],
    "trusted": true
   },
   "outputs": [
    {
     "data": {
      "image/png": "[encoded data removed]",
      "text/plain": [
       "<Figure size 800x600 with 1 Axes>"
      ]
     },
     "metadata": {},
     "output_type": "display_data"
    },
    {
     "name": "stdout",
     "output_type": "stream",
     "text": [
      "0.6874511256533727 0.7344698\n"
     ]
    }
   ],
   "source": [
    "predictions = []\n",
    "ground_truths = []\n",
    "# Iterate over the validation dataset\n",
    "with torch.no_grad():\n",
    "    for images, ratings in test_loader:\n",
    "        images = images.to(device)  # Move to device (GPU or CPU)\n",
    "        ratings = ratings.to(device)\n",
    "\n",
    "        # Get predictions from the model\n",
    "        predicted_ratings = model(images)\n",
    "\n",
    "        # Append predicted and ground truth values to the lists\n",
    "        predictions.extend(predicted_ratings.cpu().numpy())  # move to CPU and convert to numpy\n",
    "        ground_truths.extend(ratings.cpu().numpy())  # move to CPU and convert to numpy\n",
    "\n",
    "# Convert lists to numpy arrays\n",
    "predictions = np.array(predictions).flatten()\n",
    "ground_truths = np.array(ground_truths).flatten()\n",
    "\n",
    "# # denormalize\n",
    "predictions = predictions\n",
    "ground_truths = ground_truths \n",
    "\n",
    "# Plot the scatter plot\n",
    "plt.figure(figsize=(8, 6))\n",
    "plt.scatter(ground_truths, predictions, alpha=0.5, c='blue')\n",
    "plt.title('Prediction vs Ground Truth', fontsize=16)\n",
    "plt.xlabel('Ground Truth Ratings', fontsize=14)\n",
    "plt.ylabel('Predicted Ratings', fontsize=14)\n",
    "plt.grid(True)\n",
    "plt.show()\n",
    "\n",
    "# Compute Spearman's rank correlation coefficient (SROCC)\n",
    "spearman_corr, _ = spearmanr(ground_truths, predictions)\n",
    "pearson_corr, _ = pearsonr(ground_truths, predictions)\n",
    "\n",
    "print(spearman_corr, pearson_corr)\n"
   ]
  },
  {
   "cell_type": "code",
   "execution_count": 17,
   "metadata": {
    "trusted": true
   },
   "outputs": [
    {
     "name": "stdout",
     "output_type": "stream",
     "text": [
      "✔️  Weights written to ./weights/resnet50_joint-weights.pth\n"
     ]
    }
   ],
   "source": [
    "import torch, os\n",
    "\n",
    "\n",
    "SAVE_DIR = \"./weights\"          \n",
    "WEIGHT_FILE = \"resnet50_joint-weights.pth\"\n",
    "\n",
    "os.makedirs(SAVE_DIR, exist_ok=True)\n",
    "torch.save(model.state_dict(), f\"{SAVE_DIR}/{WEIGHT_FILE}\")\n",
    "print(\"✔️  Weights written to\", f\"{SAVE_DIR}/{WEIGHT_FILE}\")\n"
   ]
  },
  {
   "cell_type": "code",
   "execution_count": null,
   "metadata": {},
   "outputs": [],
   "source": []
  }
 ],
 "metadata": {
  "kaggle": {
   "accelerator": "gpu",
   "dataSources": [
    {
     "datasetId": 7259059,
     "sourceId": 11577853,
     "sourceType": "datasetVersion"
    },
    {
     "modelId": 327304,
     "modelInstanceId": 306818,
     "sourceId": 370631,
     "sourceType": "modelInstanceVersion"
    },
    {
     "modelId": 327342,
     "modelInstanceId": 306857,
     "sourceId": 370684,
     "sourceType": "modelInstanceVersion"
    }
   ],
   "dockerImageVersionId": 31011,
   "isGpuEnabled": true,
   "isInternetEnabled": true,
   "language": "python",
   "sourceType": "notebook"
  },
  "kernelspec": {
   "display_name": "image_realness",
   "language": "python",
   "name": "python3"
  },
  "language_info": {
   "codemirror_mode": {
    "name": "ipython",
    "version": 3
   },
   "file_extension": ".py",
   "mimetype": "text/x-python",
   "name": "python",
   "nbconvert_exporter": "python",
   "pygments_lexer": "ipython3",
   "version": "3.10.15"
  },
  "papermill": {
   "default_parameters": {},
   "duration": 191.089176,
   "end_time": "2025-04-28T13:01:35.758895",
   "environment_variables": {},
   "exception": null,
   "input_path": "__notebook__.ipynb",
   "output_path": "__notebook__.ipynb",
   "parameters": {},
   "start_time": "2025-04-28T12:58:24.669719",
   "version": "2.6.0"
  }
 },
 "nbformat": 4,
 "nbformat_minor": 4
}
