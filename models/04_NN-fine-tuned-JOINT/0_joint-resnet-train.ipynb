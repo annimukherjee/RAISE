{
 "cells": [
  {
   "cell_type": "markdown",
   "metadata": {},
   "source": [
    "#### 1) Imports and Random Seed\n"
   ]
  },
  {
   "cell_type": "code",
   "execution_count": 1,
   "metadata": {
    "_cell_guid": "42a8d880-6726-477b-81c5-ae5d67c44f81",
    "_uuid": "9b172d4b-a060-4da3-8fc6-399fc38d7903",
    "collapsed": false,
    "execution": {
     "iopub.execute_input": "2025-07-05T08:53:14.991737Z",
     "iopub.status.busy": "2025-07-05T08:53:14.991495Z",
     "iopub.status.idle": "2025-07-05T08:53:25.309271Z",
     "shell.execute_reply": "2025-07-05T08:53:25.308717Z",
     "shell.execute_reply.started": "2025-07-05T08:53:14.991709Z"
    },
    "jupyter": {
     "outputs_hidden": false
    },
    "papermill": {
     "duration": 11.404132,
     "end_time": "2025-04-28T12:58:40.297173",
     "exception": false,
     "start_time": "2025-04-28T12:58:28.893041",
     "status": "completed"
    },
    "tags": [],
    "trusted": true
   },
   "outputs": [],
   "source": [
    "import pandas as pd\n",
    "from sklearn.model_selection import train_test_split\n",
    "from torch.utils.data import Dataset, DataLoader\n",
    "from torchvision import transforms\n",
    "from PIL import Image\n",
    "import torch\n",
    "import numpy as np\n",
    "import torch.nn as nn\n",
    "import torch.optim as optim\n",
    "import torch.nn.functional as F\n",
    "from sklearn.metrics import mean_squared_error\n",
    "from scipy.stats import spearmanr, pearsonr\n",
    "import matplotlib.pyplot as plt\n",
    "import torchvision.models as models\n",
    "import copy\n",
    "import matplotlib.pyplot as plt\n",
    "import torch\n",
    "import torch.nn as nn\n",
    "\n",
    "\n",
    "import random; import numpy as np; import torch\n",
    "SEED = 78\n",
    "random.seed(SEED)\n",
    "np.random.seed(SEED)\n",
    "torch.manual_seed(SEED)\n",
    "torch.cuda.manual_seed_all(SEED)\n"
   ]
  },
  {
   "cell_type": "code",
   "execution_count": 2,
   "metadata": {
    "_cell_guid": "e604d6e5-da9c-4d35-9a7c-512b02082701",
    "_uuid": "52985e6c-3922-4ecf-8339-18d9af509916",
    "collapsed": false,
    "execution": {
     "iopub.execute_input": "2025-07-05T08:53:25.310209Z",
     "iopub.status.busy": "2025-07-05T08:53:25.309897Z",
     "iopub.status.idle": "2025-07-05T08:53:29.568652Z",
     "shell.execute_reply": "2025-07-05T08:53:29.567717Z",
     "shell.execute_reply.started": "2025-07-05T08:53:25.310192Z"
    },
    "jupyter": {
     "outputs_hidden": false
    },
    "trusted": true
   },
   "outputs": [
    {
     "name": "stdout",
     "output_type": "stream",
     "text": [
      "Requirement already satisfied: pot in /Users/annimukh/miniconda3/envs/image_realness/lib/python3.10/site-packages (0.9.5)\n",
      "Requirement already satisfied: numpy>=1.16 in /Users/annimukh/miniconda3/envs/image_realness/lib/python3.10/site-packages (from pot) (1.26.4)\n",
      "Requirement already satisfied: scipy>=1.6 in /Users/annimukh/miniconda3/envs/image_realness/lib/python3.10/site-packages (from pot) (1.14.1)\n"
     ]
    }
   ],
   "source": [
    "!pip install pot\n"
   ]
  },
  {
   "cell_type": "markdown",
   "metadata": {},
   "source": [
    "Make sure to put https://github.com/zijianchen98/AGIN/blob/main/JOINT/models/JOINT.py in the same directory as this notebook\n"
   ]
  },
  {
   "cell_type": "code",
   "execution_count": 3,
   "metadata": {},
   "outputs": [],
   "source": [
    "import sys\n",
    "import JOINT\n"
   ]
  },
  {
   "cell_type": "markdown",
   "metadata": {},
   "source": [
    "#### 2) Dataset and Dataloader\n"
   ]
  },
  {
   "cell_type": "code",
   "execution_count": 4,
   "metadata": {},
   "outputs": [],
   "source": [
    "class ImageRatingDataset(Dataset):\n",
    "\n",
    "    def __init__(self, dataframe, transform=None, augment=False, phase=\"\"):\n",
    "        self.dataframe = dataframe.reset_index(drop=True)\n",
    "        self.transform = transforms.Compose(\n",
    "            [\n",
    "                transforms.ToTensor(),\n",
    "                transforms.Normalize(\n",
    "                    mean=[0.485, 0.456, 0.406], std=[0.229, 0.224, 0.225]\n",
    "                ),\n",
    "            ]\n",
    "        )  # IMAGENET NORMALIZATION\n",
    "        self.augment = augment\n",
    "        self.phase = phase\n",
    "\n",
    "        # Define augmentations\n",
    "        self.augmentation = transforms.Compose(\n",
    "            [\n",
    "                transforms.RandomHorizontalFlip(p=0.5),\n",
    "                transforms.RandomRotation(degrees=10),  # small rotations\n",
    "                transforms.RandomResizedCrop(\n",
    "                    size=(384, 512), scale=(0.9, 1.0), ratio=(1.25, 1.35)\n",
    "                ),\n",
    "                transforms.ColorJitter(brightness=0.1, contrast=0.1),  # light changes\n",
    "            ]\n",
    "        )\n",
    "\n",
    "    def __len__(self):\n",
    "        return len(self.dataframe)\n",
    "\n",
    "    def __getitem__(self, idx):\n",
    "        img_path = self.dataframe.loc[idx, \"filename\"]\n",
    "        rating = self.dataframe.loc[idx, \"MOS\"]\n",
    "\n",
    "        if self.phase == \"train\":\n",
    "            image = Image.open(\"../../dataset/images/train_images/\" + img_path).convert(\n",
    "                \"RGB\"\n",
    "            )\n",
    "        elif self.phase == \"test\":\n",
    "            image = Image.open(\"../../dataset/images/test_images/\" + img_path).convert(\n",
    "                \"RGB\"\n",
    "            )\n",
    "\n",
    "        if self.augment == True:\n",
    "            image = self.augmentation(image)\n",
    "        if self.transform:\n",
    "            image = self.transform(image)\n",
    "\n",
    "        return image, torch.tensor(rating, dtype=torch.float32)\n"
   ]
  },
  {
   "cell_type": "markdown",
   "metadata": {},
   "source": [
    "#### 3) Create Model\n"
   ]
  },
  {
   "cell_type": "code",
   "execution_count": 5,
   "metadata": {
    "_cell_guid": "d2ba734b-025b-47bf-947d-2b31b41db162",
    "_uuid": "03adcde5-1202-4024-8285-a737c7eafcbc",
    "collapsed": false,
    "execution": {
     "iopub.execute_input": "2025-07-05T08:54:29.279202Z",
     "iopub.status.busy": "2025-07-05T08:54:29.278889Z",
     "iopub.status.idle": "2025-07-05T08:54:29.286339Z",
     "shell.execute_reply": "2025-07-05T08:54:29.285542Z",
     "shell.execute_reply.started": "2025-07-05T08:54:29.279179Z"
    },
    "jupyter": {
     "outputs_hidden": false
    },
    "trusted": true
   },
   "outputs": [],
   "source": [
    "class ResNetRegressor(nn.Module):\n",
    "    def __init__(self):\n",
    "        super(ResNetRegressor, self).__init__()\n",
    "\n",
    "        self.model = JOINT.JOINT_Model()\n",
    "\n",
    "        # TODO: Get the checkpoint from the AGIN repo (it's in the README)\n",
    "\n",
    "        # Here's the direct link to their weights:\n",
    "        # https://onedrive.live.com/?redeem=aHR0cHM6Ly8xZHJ2Lm1zL3UvYy8wYzIxOTFjYjAxY2JmMDAyL0VjX2xuY0N4R1paQ25qb2NUNDAtc24wQjVTcmcwekZuNkgtOTVFb3B2eEpJelE%5FZT10YWlUOVI&cid=0C2191CB01CBF002&id=C2191CB01CBF002%21sc09de5cf19b142969e3a1c4f8d3eb27d&parId=C2191CB01CBF002%21s10403dccf95e47979e25d26520e84d7b&o=OneUp\n",
    "\n",
    "        # Create a directory called `jointweights` and save the .pth file there.\n",
    "        if torch.cuda.is_available():\n",
    "            self.model.load_state_dict(torch.load(\"./jointweights/JOINT_2024.pth\"))\n",
    "        else:\n",
    "            self.model.load_state_dict(\n",
    "                torch.load(\n",
    "                    \"./jointweights/JOINT_2024.pth\", map_location=torch.device(\"cpu\")\n",
    "                )\n",
    "            )\n",
    "\n",
    "        # Get the feature extractor\n",
    "        self.features = nn.Sequential(\n",
    "            *list(self.model.rationality_feature_extraction.children())\n",
    "        )[:-1]\n",
    "\n",
    "        # Freeze base layers\n",
    "        for param in self.features.parameters():\n",
    "            param.requires_grad = False\n",
    "\n",
    "        # Add a custom regression head\n",
    "        self.regressor = nn.Sequential(\n",
    "            nn.Linear(2048, 1024),\n",
    "            nn.ReLU(),\n",
    "            nn.Dropout(0.4),\n",
    "            nn.Linear(1024, 512),\n",
    "            nn.ReLU(),\n",
    "            nn.Dropout(0.4),\n",
    "            nn.Linear(512, 256),\n",
    "            nn.ReLU(),\n",
    "            nn.Dropout(0.4),\n",
    "            nn.Linear(256, 128),\n",
    "            nn.ReLU(),\n",
    "            nn.Dropout(0.4),\n",
    "            nn.Linear(128, 1),\n",
    "        )\n",
    "\n",
    "    def forward(self, x):\n",
    "        x = self.features(x)  # Output shape: (batch_size, 512, 1, 1)\n",
    "        x = x.view(x.size(0), -1)  # Flatten to (batch_size, 512)\n",
    "        x = self.regressor(x)\n",
    "        x = x.view(x.size(0), -1)\n",
    "        return x\n"
   ]
  },
  {
   "cell_type": "markdown",
   "metadata": {},
   "source": [
    "#### 4) Training of model\n"
   ]
  },
  {
   "cell_type": "code",
   "execution_count": 6,
   "metadata": {
    "_cell_guid": "fa0cedf2-b28a-4490-8483-c0c43f4b60ea",
    "_uuid": "1a604b12-79ea-4c6e-9bf9-f0e41978c0bb",
    "collapsed": false,
    "execution": {
     "iopub.execute_input": "2025-07-05T08:54:42.102535Z",
     "iopub.status.busy": "2025-07-05T08:54:42.102247Z",
     "iopub.status.idle": "2025-07-05T08:54:42.111269Z",
     "shell.execute_reply": "2025-07-05T08:54:42.110624Z",
     "shell.execute_reply.started": "2025-07-05T08:54:42.102514Z"
    },
    "jupyter": {
     "outputs_hidden": false
    },
    "papermill": {
     "duration": 0.029453,
     "end_time": "2025-04-28T13:01:32.644193",
     "exception": false,
     "start_time": "2025-04-28T13:01:32.61474",
     "status": "completed"
    },
    "tags": [],
    "trusted": true
   },
   "outputs": [],
   "source": [
    "def train_model(model, train_loader, val_loader, num_epochs, lr=0.0001, λ=1):\n",
    "\n",
    "    device = torch.device(\"cuda\" if torch.cuda.is_available() else \"cpu\")\n",
    "    optimizer = optim.Adam(model.parameters(), lr=1e-4, eps=1e-8, weight_decay=0)\n",
    "\n",
    "    mse_loss = nn.MSELoss()\n",
    "\n",
    "    train_losses = []\n",
    "    val_losses = []\n",
    "    srocc_scores = []\n",
    "\n",
    "    # Track best model\n",
    "    best_val_loss = float(\"inf\")\n",
    "    best_model_wts = copy.deepcopy(model.state_dict())\n",
    "\n",
    "    model.to(device)\n",
    "    for epoch in range(num_epochs):\n",
    "        # --- Training phase ---\n",
    "        model.train()\n",
    "        running_loss = 0.0\n",
    "        for images, ratings in train_loader:\n",
    "            images, ratings = images.to(device), ratings.to(device)\n",
    "            optimizer.zero_grad()\n",
    "            outputs = model(images).squeeze(1)\n",
    "\n",
    "            loss = mse_loss(outputs, ratings)\n",
    "            loss.backward()\n",
    "            optimizer.step()\n",
    "\n",
    "            running_loss += loss.item() * images.size(0)\n",
    "\n",
    "        avg_train_loss = running_loss / len(train_loader.dataset)\n",
    "        train_losses.append(avg_train_loss)\n",
    "\n",
    "        # --- Validation phase ---\n",
    "        val_loss, srocc = validate_model(model, val_loader, device=device)\n",
    "        val_losses.append(val_loss)\n",
    "        srocc_scores.append(srocc)\n",
    "\n",
    "        print(\n",
    "            f\"Epoch {epoch+1}/{num_epochs} — \"\n",
    "            f\"Train: {avg_train_loss:.4f}  Val: {val_loss:.4f}  SROCC: {srocc:.4f}\"\n",
    "        )\n",
    "\n",
    "        # --- Check for new best ---\n",
    "        if val_loss < best_val_loss:\n",
    "            best_val_loss = val_loss\n",
    "            best_model_wts = copy.deepcopy(model.state_dict())\n",
    "\n",
    "    # --- Load best weights back into model ---\n",
    "    model.load_state_dict(best_model_wts)\n",
    "    print(f\"Loaded best model weights with val_loss={best_val_loss:.4f}\")\n",
    "\n",
    "    # --- Plot curves ---\n",
    "    plt.figure(figsize=(10, 5))\n",
    "    plt.plot(range(1, num_epochs + 1), train_losses, label=\"Training Loss\")\n",
    "    plt.plot(range(1, num_epochs + 1), val_losses, label=\"Validation Loss\")\n",
    "    plt.xlabel(\"Epoch\")\n",
    "    plt.ylabel(\"Loss\")\n",
    "    plt.legend()\n",
    "    plt.grid(True)\n",
    "    # plt.savefig(\"loss_curve.png\")\n",
    "    plt.show()\n",
    "\n",
    "    return model, train_losses, val_losses, srocc_scores\n"
   ]
  },
  {
   "cell_type": "code",
   "execution_count": 7,
   "metadata": {
    "_cell_guid": "9119e08c-7997-4f8e-9430-8ea645d046d9",
    "_uuid": "d6eeeeff-8ad6-4520-aa9a-d38f9ec088e8",
    "collapsed": false,
    "execution": {
     "iopub.execute_input": "2025-07-05T08:54:42.347824Z",
     "iopub.status.busy": "2025-07-05T08:54:42.347254Z",
     "iopub.status.idle": "2025-07-05T08:54:42.352387Z",
     "shell.execute_reply": "2025-07-05T08:54:42.351835Z",
     "shell.execute_reply.started": "2025-07-05T08:54:42.347802Z"
    },
    "jupyter": {
     "outputs_hidden": false
    },
    "papermill": {
     "duration": 0.026663,
     "end_time": "2025-04-28T13:01:32.691121",
     "exception": false,
     "start_time": "2025-04-28T13:01:32.664458",
     "status": "completed"
    },
    "tags": [],
    "trusted": true
   },
   "outputs": [],
   "source": [
    "def validate_model(model, val_loader, device):\n",
    "    model.eval()\n",
    "    val_predictions = []\n",
    "    val_ground_truth = []\n",
    "\n",
    "    with torch.no_grad():\n",
    "        for images, ratings in val_loader:\n",
    "            images = images.to(device)\n",
    "            ratings = ratings.to(device)\n",
    "\n",
    "            outputs = model(images).squeeze(1)  # Remove extra dimension\n",
    "\n",
    "            val_predictions.extend(outputs.cpu().numpy())\n",
    "            val_ground_truth.extend(ratings.cpu().numpy())\n",
    "\n",
    "    # Compute SROCC\n",
    "    srocc, _ = spearmanr(val_predictions, val_ground_truth)\n",
    "\n",
    "    # Compute mean squared error for validation loss\n",
    "    val_loss = mean_squared_error(val_ground_truth, val_predictions)\n",
    "\n",
    "    return val_loss, srocc\n"
   ]
  },
  {
   "cell_type": "code",
   "execution_count": 8,
   "metadata": {
    "_cell_guid": "4e902e83-d9bb-452e-872c-3c76450da8bb",
    "_uuid": "1c1a330f-d67b-4755-8c15-bb1b52ecd6c3",
    "collapsed": false,
    "execution": {
     "iopub.execute_input": "2025-07-05T08:54:45.482221Z",
     "iopub.status.busy": "2025-07-05T08:54:45.481946Z",
     "iopub.status.idle": "2025-07-05T08:54:50.904015Z",
     "shell.execute_reply": "2025-07-05T08:54:50.903423Z",
     "shell.execute_reply.started": "2025-07-05T08:54:45.482202Z"
    },
    "jupyter": {
     "outputs_hidden": false
    },
    "papermill": {
     "duration": 3.023618,
     "end_time": "2025-04-28T13:01:35.735374",
     "exception": false,
     "start_time": "2025-04-28T13:01:32.711756",
     "status": "completed"
    },
    "tags": [],
    "trusted": true
   },
   "outputs": [
    {
     "name": "stderr",
     "output_type": "stream",
     "text": [
      "/var/folders/l4/8h7869116bj2w59cq06rwl8c0000gn/T/ipykernel_39261/3407828139.py:17: FutureWarning: You are using `torch.load` with `weights_only=False` (the current default value), which uses the default pickle module implicitly. It is possible to construct malicious pickle data which will execute arbitrary code during unpickling (See https://github.com/pytorch/pytorch/blob/main/SECURITY.md#untrusted-models for more details). In a future release, the default value for `weights_only` will be flipped to `True`. This limits the functions that could be executed during unpickling. Arbitrary objects will no longer be allowed to be loaded via this mode unless they are explicitly allowlisted by the user via `torch.serialization.add_safe_globals`. We recommend you start setting `weights_only=True` for any use case where you don't have full control of the loaded file. Please open an issue on GitHub for any issues related to this experimental feature.\n",
      "  torch.load(\n"
     ]
    }
   ],
   "source": [
    "device = torch.device(\"cuda\" if torch.cuda.is_available() else \"cpu\")\n",
    "model = ResNetRegressor().to(device)\n"
   ]
  },
  {
   "cell_type": "code",
   "execution_count": 9,
   "metadata": {
    "execution": {
     "iopub.execute_input": "2025-07-05T08:54:50.905332Z",
     "iopub.status.busy": "2025-07-05T08:54:50.905056Z",
     "iopub.status.idle": "2025-07-05T08:54:50.910672Z",
     "shell.execute_reply": "2025-07-05T08:54:50.910054Z",
     "shell.execute_reply.started": "2025-07-05T08:54:50.905309Z"
    },
    "trusted": true
   },
   "outputs": [
    {
     "name": "stdout",
     "output_type": "stream",
     "text": [
      "Total number of trainable parameters: 32,582,501\n"
     ]
    }
   ],
   "source": [
    "def count_parameters(model):\n",
    "    return sum(p.numel() for p in model.parameters() if p.requires_grad)\n",
    "\n",
    "\n",
    "num_params = count_parameters(model)\n",
    "print(f\"Total number of trainable parameters: {num_params:,}\")\n"
   ]
  },
  {
   "cell_type": "markdown",
   "metadata": {},
   "source": [
    "#### 5) Load CSV and stratified split data, training loop\n"
   ]
  },
  {
   "cell_type": "code",
   "execution_count": 10,
   "metadata": {
    "_cell_guid": "4e902e83-d9bb-452e-872c-3c76450da8bb",
    "_uuid": "1c1a330f-d67b-4755-8c15-bb1b52ecd6c3",
    "collapsed": false,
    "execution": {
     "iopub.execute_input": "2025-07-05T08:54:59.796720Z",
     "iopub.status.busy": "2025-07-05T08:54:59.796146Z",
     "iopub.status.idle": "2025-07-05T08:54:59.865303Z",
     "shell.execute_reply": "2025-07-05T08:54:59.864507Z",
     "shell.execute_reply.started": "2025-07-05T08:54:59.796698Z"
    },
    "jupyter": {
     "outputs_hidden": false
    },
    "papermill": {
     "duration": 3.023618,
     "end_time": "2025-04-28T13:01:35.735374",
     "exception": false,
     "start_time": "2025-04-28T13:01:32.711756",
     "status": "completed"
    },
    "tags": [],
    "trusted": true
   },
   "outputs": [
    {
     "name": "stdout",
     "output_type": "stream",
     "text": [
      "(420, 2) (90, 2) (90, 2)\n"
     ]
    }
   ],
   "source": [
    "train_df = pd.read_csv(\"../../dataset/ratings/train.csv\")\n",
    "test_df = pd.read_csv(\"../../dataset/ratings/test.csv\")\n",
    "\n",
    "val_df = train_df.iloc[-90:].copy()\n",
    "train_df = train_df.iloc[:-90].copy()\n",
    "\n",
    "print(train_df.shape, val_df.shape, test_df.shape)\n"
   ]
  },
  {
   "cell_type": "code",
   "execution_count": null,
   "metadata": {
    "_cell_guid": "38ef4ede-ef44-4925-8c57-44abab1344a4",
    "_uuid": "8cec7855-af18-426e-88f6-843696e570ed",
    "collapsed": false,
    "execution": {
     "iopub.execute_input": "2025-05-07T06:17:41.776015Z",
     "iopub.status.busy": "2025-05-07T06:17:41.775764Z",
     "iopub.status.idle": "2025-05-07T06:31:39.984105Z",
     "shell.execute_reply": "2025-05-07T06:31:39.983484Z",
     "shell.execute_reply.started": "2025-05-07T06:17:41.775990Z"
    },
    "jupyter": {
     "outputs_hidden": false
    },
    "trusted": true
   },
   "outputs": [
    {
     "name": "stdout",
     "output_type": "stream",
     "text": [
      "Epoch 1/75 — Train: 0.9963  Val: 0.9889  SROCC: 0.5543\n",
      "Epoch 2/75 — Train: 0.9933  Val: 0.9879  SROCC: 0.5579\n",
      "Epoch 3/75 — Train: 0.9914  Val: 0.9855  SROCC: 0.5834\n",
      "Epoch 4/75 — Train: 1.0002  Val: 0.9804  SROCC: 0.5673\n",
      "Epoch 5/75 — Train: 0.9889  Val: 0.9816  SROCC: 0.5768\n",
      "Epoch 6/75 — Train: 0.9854  Val: 0.9756  SROCC: 0.5664\n",
      "Epoch 7/75 — Train: 0.9846  Val: 0.9696  SROCC: 0.5742\n",
      "Epoch 8/75 — Train: 0.9801  Val: 0.9650  SROCC: 0.5770\n",
      "Epoch 9/75 — Train: 0.9698  Val: 0.9443  SROCC: 0.5822\n",
      "Epoch 10/75 — Train: 0.9744  Val: 0.9348  SROCC: 0.5901\n",
      "Epoch 11/75 — Train: 0.9647  Val: 0.9058  SROCC: 0.5973\n",
      "Epoch 12/75 — Train: 0.9461  Val: 0.8727  SROCC: 0.6014\n",
      "Epoch 13/75 — Train: 0.9131  Val: 0.8272  SROCC: 0.5889\n",
      "Epoch 14/75 — Train: 0.8692  Val: 0.7683  SROCC: 0.5944\n",
      "Epoch 15/75 — Train: 0.8251  Val: 0.7429  SROCC: 0.5936\n",
      "Epoch 16/75 — Train: 0.8078  Val: 0.6963  SROCC: 0.6012\n",
      "Epoch 17/75 — Train: 0.7866  Val: 0.6795  SROCC: 0.6110\n",
      "Epoch 18/75 — Train: 0.7947  Val: 0.6862  SROCC: 0.6073\n",
      "Epoch 19/75 — Train: 0.8150  Val: 0.8102  SROCC: 0.5966\n",
      "Epoch 20/75 — Train: 0.7658  Val: 0.6904  SROCC: 0.6086\n",
      "Epoch 21/75 — Train: 0.7464  Val: 0.6532  SROCC: 0.6186\n",
      "Epoch 22/75 — Train: 0.7315  Val: 0.6377  SROCC: 0.6168\n",
      "Epoch 23/75 — Train: 0.7365  Val: 0.6392  SROCC: 0.6324\n",
      "Epoch 24/75 — Train: 0.6708  Val: 0.6446  SROCC: 0.6236\n",
      "Epoch 25/75 — Train: 0.6815  Val: 0.6299  SROCC: 0.6286\n",
      "Epoch 26/75 — Train: 0.7228  Val: 0.6395  SROCC: 0.6314\n",
      "Epoch 27/75 — Train: 0.6867  Val: 0.6275  SROCC: 0.6309\n",
      "Epoch 28/75 — Train: 0.6994  Val: 0.6242  SROCC: 0.6274\n",
      "Epoch 29/75 — Train: 0.7522  Val: 0.7541  SROCC: 0.6303\n",
      "Epoch 30/75 — Train: 0.6677  Val: 0.6176  SROCC: 0.6316\n",
      "Epoch 31/75 — Train: 0.6877  Val: 0.6148  SROCC: 0.6406\n",
      "Epoch 32/75 — Train: 0.6511  Val: 0.6231  SROCC: 0.6379\n",
      "Epoch 33/75 — Train: 0.6912  Val: 0.6266  SROCC: 0.6337\n",
      "Epoch 34/75 — Train: 0.6315  Val: 0.6015  SROCC: 0.6445\n",
      "Epoch 35/75 — Train: 0.6765  Val: 0.5983  SROCC: 0.6389\n",
      "Epoch 36/75 — Train: 0.7095  Val: 0.6091  SROCC: 0.6385\n",
      "Epoch 37/75 — Train: 0.7687  Val: 0.7700  SROCC: 0.6419\n",
      "Epoch 38/75 — Train: 0.6790  Val: 0.6072  SROCC: 0.6453\n",
      "Epoch 39/75 — Train: 0.6291  Val: 0.6196  SROCC: 0.6439\n",
      "Epoch 40/75 — Train: 0.7031  Val: 0.6049  SROCC: 0.6453\n",
      "Epoch 41/75 — Train: 0.6815  Val: 0.7845  SROCC: 0.6442\n",
      "Epoch 42/75 — Train: 0.6274  Val: 0.6345  SROCC: 0.6450\n",
      "Epoch 43/75 — Train: 0.6707  Val: 0.7705  SROCC: 0.6473\n",
      "Epoch 44/75 — Train: 0.6418  Val: 0.5973  SROCC: 0.6592\n",
      "Epoch 45/75 — Train: 0.6081  Val: 0.5945  SROCC: 0.6496\n",
      "Epoch 46/75 — Train: 0.5705  Val: 0.5891  SROCC: 0.6419\n",
      "Epoch 47/75 — Train: 0.6064  Val: 0.5909  SROCC: 0.6457\n",
      "Epoch 48/75 — Train: 0.6096  Val: 0.6129  SROCC: 0.6471\n",
      "Epoch 49/75 — Train: 0.5431  Val: 0.5993  SROCC: 0.6467\n",
      "Epoch 50/75 — Train: 0.5768  Val: 0.5907  SROCC: 0.6622\n",
      "Epoch 51/75 — Train: 0.6160  Val: 0.6126  SROCC: 0.6496\n",
      "Epoch 52/75 — Train: 0.5869  Val: 0.6981  SROCC: 0.6538\n",
      "Epoch 53/75 — Train: 0.6450  Val: 0.6069  SROCC: 0.6523\n",
      "Epoch 54/75 — Train: 0.5487  Val: 0.5873  SROCC: 0.6554\n",
      "Epoch 55/75 — Train: 0.5511  Val: 0.5691  SROCC: 0.6591\n",
      "Epoch 56/75 — Train: 0.6432  Val: 0.5696  SROCC: 0.6673\n",
      "Epoch 57/75 — Train: 0.5817  Val: 0.5785  SROCC: 0.6678\n",
      "Epoch 58/75 — Train: 0.5865  Val: 0.7108  SROCC: 0.6565\n",
      "Epoch 59/75 — Train: 0.5375  Val: 0.5704  SROCC: 0.6705\n",
      "Epoch 60/75 — Train: 0.5575  Val: 0.6401  SROCC: 0.6620\n",
      "Epoch 61/75 — Train: 0.6081  Val: 0.7669  SROCC: 0.6573\n",
      "Epoch 62/75 — Train: 0.5357  Val: 0.5630  SROCC: 0.6623\n",
      "Epoch 63/75 — Train: 0.5540  Val: 0.5869  SROCC: 0.6658\n",
      "Epoch 64/75 — Train: 0.5086  Val: 0.6562  SROCC: 0.6595\n",
      "Epoch 65/75 — Train: 0.5155  Val: 0.5593  SROCC: 0.6662\n",
      "Epoch 66/75 — Train: 0.5522  Val: 0.5624  SROCC: 0.6667\n",
      "Epoch 67/75 — Train: 0.6190  Val: 0.5707  SROCC: 0.6637\n",
      "Epoch 68/75 — Train: 0.5500  Val: 0.6225  SROCC: 0.6634\n",
      "Epoch 69/75 — Train: 0.5354  Val: 0.5496  SROCC: 0.6649\n",
      "Epoch 70/75 — Train: 0.5411  Val: 0.5528  SROCC: 0.6659\n",
      "Epoch 71/75 — Train: 0.5118  Val: 0.6015  SROCC: 0.6697\n",
      "Epoch 72/75 — Train: 0.5550  Val: 0.5458  SROCC: 0.6779\n",
      "Epoch 73/75 — Train: 0.5690  Val: 0.5448  SROCC: 0.6713\n",
      "Epoch 74/75 — Train: 0.5976  Val: 0.7192  SROCC: 0.6688\n",
      "Epoch 75/75 — Train: 0.5696  Val: 0.5594  SROCC: 0.6683\n",
      "Loaded best model weights with val_loss=0.5448\n"
     ]
    },
    {
     "data": {
      "image/png": "[encoded data removed]",
      "text/plain": [
       "<Figure size 1000x500 with 1 Axes>"
      ]
     },
     "metadata": {},
     "output_type": "display_data"
    }
   ],
   "source": [
    "# Create dataset partitions\n",
    "train_dataset = ImageRatingDataset(train_df, augment=True, phase=\"train\")\n",
    "val_dataset = ImageRatingDataset(val_df, phase=\"train\")\n",
    "test_dataset = ImageRatingDataset(test_df, phase=\"test\")\n",
    "\n",
    "# Create dataloaders\n",
    "train_loader = DataLoader(train_dataset, batch_size=32, shuffle=True)\n",
    "val_loader = DataLoader(val_dataset, batch_size=32)\n",
    "test_loader = DataLoader(test_dataset, batch_size=32)\n",
    "\n",
    "\n",
    "# Start training\n",
    "model, train_losses, val_losses, srocc_scores = train_model(\n",
    "    model, train_loader, val_loader, num_epochs=75\n",
    ")\n"
   ]
  },
  {
   "cell_type": "markdown",
   "metadata": {},
   "source": [
    "#### 6) Model Evaluation"
   ]
  },
  {
   "cell_type": "code",
   "execution_count": null,
   "metadata": {
    "_cell_guid": "fca9a9a7-037b-44ae-9e5b-a39f5e37bd25",
    "_uuid": "5505dca9-0b8e-4ab4-a980-414399f3d5b7",
    "collapsed": false,
    "execution": {
     "iopub.execute_input": "2025-05-07T06:36:40.770342Z",
     "iopub.status.busy": "2025-05-07T06:36:40.769255Z",
     "iopub.status.idle": "2025-05-07T06:36:42.161938Z",
     "shell.execute_reply": "2025-05-07T06:36:42.161016Z",
     "shell.execute_reply.started": "2025-05-07T06:36:40.770312Z"
    },
    "jupyter": {
     "outputs_hidden": false
    },
    "trusted": true
   },
   "outputs": [
    {
     "name": "stdout",
     "output_type": "stream",
     "text": [
      "0.6713339095361566 0.6724443\n"
     ]
    }
   ],
   "source": [
    "model.eval()\n",
    "# model.load_state_dict(torch.load(\"/kaggle/working/best_model.pth\"))\n",
    "all_preds = []\n",
    "all_labels = []\n",
    "with torch.no_grad():\n",
    "    for images, labels in val_loader:\n",
    "        images = images.to(device)\n",
    "        outputs = model(images)\n",
    "        # Detach and move to CPU; flatten the predictions.\n",
    "        preds = outputs.cpu().numpy().flatten()\n",
    "        all_preds.extend(preds)\n",
    "        all_labels.extend(labels.numpy())\n",
    "\n",
    "all_preds = np.array(all_preds)\n",
    "all_labels = np.array(all_labels)\n",
    "\n",
    "# Compute Spearman's rank correlation coefficient (SROCC)\n",
    "spearman_corr, _ = spearmanr(all_labels, all_preds)\n",
    "pearson_corr, _ = pearsonr(all_labels, all_preds)\n",
    "\n",
    "print(spearman_corr, pearson_corr)\n"
   ]
  },
  {
   "cell_type": "code",
   "execution_count": null,
   "metadata": {
    "_cell_guid": "31178a24-7563-4f15-9492-9fb07585af5c",
    "_uuid": "5f309104-54c0-422c-8fa7-f455c254f4cf",
    "collapsed": false,
    "execution": {
     "iopub.execute_input": "2025-05-07T06:36:43.648382Z",
     "iopub.status.busy": "2025-05-07T06:36:43.648110Z",
     "iopub.status.idle": "2025-05-07T06:36:45.233870Z",
     "shell.execute_reply": "2025-05-07T06:36:45.233244Z",
     "shell.execute_reply.started": "2025-05-07T06:36:43.648362Z"
    },
    "jupyter": {
     "outputs_hidden": false
    },
    "papermill": {
     "duration": null,
     "end_time": null,
     "exception": null,
     "start_time": null,
     "status": "completed"
    },
    "tags": [],
    "trusted": true
   },
   "outputs": [
    {
     "data": {
      "image/png": "[encoded data removed]",
      "text/plain": [
       "<Figure size 800x600 with 1 Axes>"
      ]
     },
     "metadata": {},
     "output_type": "display_data"
    },
    {
     "name": "stdout",
     "output_type": "stream",
     "text": [
      "0.6784623616084289 0.702721\n"
     ]
    }
   ],
   "source": [
    "predictions = []\n",
    "ground_truths = []\n",
    "# Iterate over the validation dataset\n",
    "with torch.no_grad():\n",
    "    for images, ratings in test_loader:\n",
    "        images = images.to(device)  # Move to device (GPU or CPU)\n",
    "        ratings = ratings.to(device)\n",
    "\n",
    "        # Get predictions from the model\n",
    "        predicted_ratings = model(images)\n",
    "\n",
    "        # Append predicted and ground truth values to the lists\n",
    "        predictions.extend(predicted_ratings.cpu().numpy())  # move to CPU and convert to numpy\n",
    "        ground_truths.extend(ratings.cpu().numpy())  # move to CPU and convert to numpy\n",
    "\n",
    "# Convert lists to numpy arrays\n",
    "predictions = np.array(predictions).flatten()\n",
    "ground_truths = np.array(ground_truths).flatten()\n",
    "\n",
    "# # denormalize\n",
    "predictions = predictions\n",
    "ground_truths = ground_truths \n",
    "\n",
    "# Plot the scatter plot\n",
    "plt.figure(figsize=(8, 6))\n",
    "plt.scatter(ground_truths, predictions, alpha=0.5, c='blue')\n",
    "plt.title('Prediction vs Ground Truth', fontsize=16)\n",
    "plt.xlabel('Ground Truth Ratings', fontsize=14)\n",
    "plt.ylabel('Predicted Ratings', fontsize=14)\n",
    "plt.grid(True)\n",
    "plt.show()\n",
    "\n",
    "# Compute Spearman's rank correlation coefficient (SROCC)\n",
    "spearman_corr, _ = spearmanr(ground_truths, predictions)\n",
    "pearson_corr, _ = pearsonr(ground_truths, predictions)\n",
    "\n",
    "print(spearman_corr, pearson_corr)\n"
   ]
  },
  {
   "cell_type": "code",
   "execution_count": null,
   "metadata": {
    "trusted": true
   },
   "outputs": [],
   "source": []
  }
 ],
 "metadata": {
  "kaggle": {
   "accelerator": "gpu",
   "dataSources": [
    {
     "datasetId": 7259059,
     "sourceId": 11577853,
     "sourceType": "datasetVersion"
    },
    {
     "modelId": 327304,
     "modelInstanceId": 306818,
     "sourceId": 370631,
     "sourceType": "modelInstanceVersion"
    },
    {
     "modelId": 327342,
     "modelInstanceId": 306857,
     "sourceId": 370684,
     "sourceType": "modelInstanceVersion"
    }
   ],
   "dockerImageVersionId": 31011,
   "isGpuEnabled": true,
   "isInternetEnabled": true,
   "language": "python",
   "sourceType": "notebook"
  },
  "kernelspec": {
   "display_name": "image_realness",
   "language": "python",
   "name": "python3"
  },
  "language_info": {
   "codemirror_mode": {
    "name": "ipython",
    "version": 3
   },
   "file_extension": ".py",
   "mimetype": "text/x-python",
   "name": "python",
   "nbconvert_exporter": "python",
   "pygments_lexer": "ipython3",
   "version": "3.10.15"
  },
  "papermill": {
   "default_parameters": {},
   "duration": 191.089176,
   "end_time": "2025-04-28T13:01:35.758895",
   "environment_variables": {},
   "exception": null,
   "input_path": "__notebook__.ipynb",
   "output_path": "__notebook__.ipynb",
   "parameters": {},
   "start_time": "2025-04-28T12:58:24.669719",
   "version": "2.6.0"
  }
 },
 "nbformat": 4,
 "nbformat_minor": 4
}
