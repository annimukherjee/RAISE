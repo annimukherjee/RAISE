{
 "cells": [
  {
   "cell_type": "markdown",
   "metadata": {},
   "source": [
    "#### 1) Imports and Random Seed\n"
   ]
  },
  {
   "cell_type": "code",
   "execution_count": 1,
   "metadata": {
    "_cell_guid": "42a8d880-6726-477b-81c5-ae5d67c44f81",
    "_uuid": "9b172d4b-a060-4da3-8fc6-399fc38d7903",
    "collapsed": false,
    "execution": {
     "iopub.execute_input": "2025-07-05T08:53:14.991737Z",
     "iopub.status.busy": "2025-07-05T08:53:14.991495Z",
     "iopub.status.idle": "2025-07-05T08:53:25.309271Z",
     "shell.execute_reply": "2025-07-05T08:53:25.308717Z",
     "shell.execute_reply.started": "2025-07-05T08:53:14.991709Z"
    },
    "jupyter": {
     "outputs_hidden": false
    },
    "papermill": {
     "duration": 11.404132,
     "end_time": "2025-04-28T12:58:40.297173",
     "exception": false,
     "start_time": "2025-04-28T12:58:28.893041",
     "status": "completed"
    },
    "tags": [],
    "trusted": true
   },
   "outputs": [],
   "source": [
    "import pandas as pd\n",
    "from torch.utils.data import Dataset, DataLoader\n",
    "from torchvision import transforms\n",
    "from PIL import Image\n",
    "import torch\n",
    "import numpy as np\n",
    "import torch.nn as nn\n",
    "from sklearn.metrics import mean_squared_error\n",
    "from scipy.stats import spearmanr, pearsonr\n",
    "import matplotlib.pyplot as plt\n",
    "import torchvision.models as models\n",
    "import copy\n",
    "import matplotlib.pyplot as plt\n",
    "import torch\n",
    "import torch.nn as nn\n"
   ]
  },
  {
   "cell_type": "code",
   "execution_count": 2,
   "metadata": {
    "_cell_guid": "e604d6e5-da9c-4d35-9a7c-512b02082701",
    "_uuid": "52985e6c-3922-4ecf-8339-18d9af509916",
    "collapsed": false,
    "execution": {
     "iopub.execute_input": "2025-07-05T08:53:25.310209Z",
     "iopub.status.busy": "2025-07-05T08:53:25.309897Z",
     "iopub.status.idle": "2025-07-05T08:53:29.568652Z",
     "shell.execute_reply": "2025-07-05T08:53:29.567717Z",
     "shell.execute_reply.started": "2025-07-05T08:53:25.310192Z"
    },
    "jupyter": {
     "outputs_hidden": false
    },
    "trusted": true
   },
   "outputs": [
    {
     "name": "stdout",
     "output_type": "stream",
     "text": [
      "Requirement already satisfied: pot in /Users/annimukh/miniconda3/envs/image_realness/lib/python3.10/site-packages (0.9.5)\n",
      "Requirement already satisfied: numpy>=1.16 in /Users/annimukh/miniconda3/envs/image_realness/lib/python3.10/site-packages (from pot) (1.26.4)\n",
      "Requirement already satisfied: scipy>=1.6 in /Users/annimukh/miniconda3/envs/image_realness/lib/python3.10/site-packages (from pot) (1.14.1)\n"
     ]
    }
   ],
   "source": [
    "!pip install pot\n"
   ]
  },
  {
   "cell_type": "markdown",
   "metadata": {},
   "source": [
    "Make sure to put https://github.com/zijianchen98/AGIN/blob/main/JOINT/models/JOINT.py in the same directory as this notebook\n"
   ]
  },
  {
   "cell_type": "code",
   "execution_count": 3,
   "metadata": {},
   "outputs": [],
   "source": [
    "import sys\n",
    "import JOINT\n"
   ]
  },
  {
   "cell_type": "code",
   "execution_count": 4,
   "metadata": {},
   "outputs": [],
   "source": [
    "import random\n",
    "import numpy as np\n",
    "import torch\n",
    "\n",
    "SEED = 78\n",
    "random.seed(SEED)\n",
    "np.random.seed(SEED)\n",
    "torch.manual_seed(SEED)\n",
    "torch.cuda.manual_seed_all(SEED)\n"
   ]
  },
  {
   "cell_type": "markdown",
   "metadata": {},
   "source": [
    "#### 2) Defining the Dataset\n"
   ]
  },
  {
   "cell_type": "code",
   "execution_count": 5,
   "metadata": {},
   "outputs": [],
   "source": [
    "class ImageRatingDataset(Dataset):\n",
    "\n",
    "    def __init__(self, dataframe, transform=None, augment=False, phase=\"\"):\n",
    "        self.dataframe = dataframe.reset_index(drop=True)\n",
    "        self.transform = transforms.Compose(\n",
    "            [\n",
    "                transforms.ToTensor(),\n",
    "                transforms.Normalize(\n",
    "                    mean=[0.485, 0.456, 0.406], std=[0.229, 0.224, 0.225]\n",
    "                ),\n",
    "            ]\n",
    "        )\n",
    "        self.augment = augment\n",
    "        self.phase = phase\n",
    "\n",
    "        # Define augmentations\n",
    "        self.augmentation = transforms.Compose(\n",
    "            [\n",
    "                transforms.RandomHorizontalFlip(p=0.5),\n",
    "                transforms.RandomRotation(degrees=10),  # small rotations\n",
    "                transforms.RandomResizedCrop(\n",
    "                    size=(384, 512), scale=(0.9, 1.0), ratio=(1.25, 1.35)\n",
    "                ),\n",
    "                transforms.ColorJitter(brightness=0.1, contrast=0.1),  # light changes\n",
    "            ]\n",
    "        )\n",
    "\n",
    "    def __len__(self):\n",
    "        return len(self.dataframe)\n",
    "\n",
    "    def __getitem__(self, idx):\n",
    "        img_path = self.dataframe.loc[idx, \"filename\"]\n",
    "        rating = self.dataframe.loc[idx, \"MOS\"]\n",
    "\n",
    "        if self.phase == \"train\":\n",
    "            image = Image.open(\"../../dataset/images/train_images/\" + img_path).convert(\n",
    "                \"RGB\"\n",
    "            )\n",
    "        elif self.phase == \"test\":\n",
    "            image = Image.open(\"../../dataset/images/test_images/\" + img_path).convert(\n",
    "                \"RGB\"\n",
    "            )\n",
    "\n",
    "        if self.augment == True:\n",
    "            image = self.augmentation(image)\n",
    "        if self.transform:\n",
    "            image = self.transform(image)\n",
    "\n",
    "        return image, torch.tensor(rating, dtype=torch.float32)\n"
   ]
  },
  {
   "cell_type": "markdown",
   "metadata": {},
   "source": [
    "#### 3) Create Model\n"
   ]
  },
  {
   "cell_type": "code",
   "execution_count": 6,
   "metadata": {
    "_cell_guid": "d2ba734b-025b-47bf-947d-2b31b41db162",
    "_uuid": "03adcde5-1202-4024-8285-a737c7eafcbc",
    "collapsed": false,
    "execution": {
     "iopub.execute_input": "2025-07-05T08:54:29.279202Z",
     "iopub.status.busy": "2025-07-05T08:54:29.278889Z",
     "iopub.status.idle": "2025-07-05T08:54:29.286339Z",
     "shell.execute_reply": "2025-07-05T08:54:29.285542Z",
     "shell.execute_reply.started": "2025-07-05T08:54:29.279179Z"
    },
    "jupyter": {
     "outputs_hidden": false
    },
    "trusted": true
   },
   "outputs": [
    {
     "name": "stderr",
     "output_type": "stream",
     "text": [
      "/var/folders/l4/8h7869116bj2w59cq06rwl8c0000gn/T/ipykernel_42547/1856411903.py:17: FutureWarning: You are using `torch.load` with `weights_only=False` (the current default value), which uses the default pickle module implicitly. It is possible to construct malicious pickle data which will execute arbitrary code during unpickling (See https://github.com/pytorch/pytorch/blob/main/SECURITY.md#untrusted-models for more details). In a future release, the default value for `weights_only` will be flipped to `True`. This limits the functions that could be executed during unpickling. Arbitrary objects will no longer be allowed to be loaded via this mode unless they are explicitly allowlisted by the user via `torch.serialization.add_safe_globals`. We recommend you start setting `weights_only=True` for any use case where you don't have full control of the loaded file. Please open an issue on GitHub for any issues related to this experimental feature.\n",
      "  torch.load(\n"
     ]
    }
   ],
   "source": [
    "class ResNetRegressor(nn.Module):\n",
    "    def __init__(self):\n",
    "        super(ResNetRegressor, self).__init__()\n",
    "\n",
    "        self.model = JOINT.JOINT_Model()\n",
    "\n",
    "        # TODO: Get the checkpoint from the AGIN repo (it's in the README)\n",
    "\n",
    "        # Here's the direct link to their weights:\n",
    "        # https://onedrive.live.com/?redeem=aHR0cHM6Ly8xZHJ2Lm1zL3UvYy8wYzIxOTFjYjAxY2JmMDAyL0VjX2xuY0N4R1paQ25qb2NUNDAtc24wQjVTcmcwekZuNkgtOTVFb3B2eEpJelE%5FZT10YWlUOVI&cid=0C2191CB01CBF002&id=C2191CB01CBF002%21sc09de5cf19b142969e3a1c4f8d3eb27d&parId=C2191CB01CBF002%21s10403dccf95e47979e25d26520e84d7b&o=OneUp\n",
    "\n",
    "        # Create a directory called `jointweights` and save the .pth file there.\n",
    "        if torch.cuda.is_available():\n",
    "            self.model.load_state_dict(torch.load(\"./jointweights/JOINT_2024.pth\"))\n",
    "        else:\n",
    "            self.model.load_state_dict(\n",
    "                torch.load(\n",
    "                    \"./jointweights/JOINT_2024.pth\", map_location=torch.device(\"cpu\")\n",
    "                )\n",
    "            )\n",
    "\n",
    "        # Get the feature extractor\n",
    "        self.features = nn.Sequential(\n",
    "            *list(self.model.rationality_feature_extraction.children())\n",
    "        )[:-1]\n",
    "\n",
    "        # Freeze base layers\n",
    "        for param in self.features.parameters():\n",
    "            param.requires_grad = False\n",
    "\n",
    "        # Add a custom regression head\n",
    "        self.regressor = nn.Sequential(\n",
    "            nn.Linear(2048, 1024),\n",
    "            nn.ReLU(),\n",
    "            nn.Dropout(0.4),\n",
    "            nn.Linear(1024, 512),\n",
    "            nn.ReLU(),\n",
    "            nn.Dropout(0.4),\n",
    "            nn.Linear(512, 256),\n",
    "            nn.ReLU(),\n",
    "            nn.Dropout(0.4),\n",
    "            nn.Linear(256, 128),\n",
    "            nn.ReLU(),\n",
    "            nn.Dropout(0.4),\n",
    "            nn.Linear(128, 1),\n",
    "        )\n",
    "\n",
    "    def forward(self, x):\n",
    "        x = self.features(x)  # Output shape: (batch_size, 512, 1, 1)\n",
    "        x = x.view(x.size(0), -1)  # Flatten to (batch_size, 512)\n",
    "        x = self.regressor(x)\n",
    "        x = x.view(x.size(0), -1)\n",
    "        return x\n",
    "\n",
    "device = torch.device(\"cuda\" if torch.cuda.is_available() else \"cpu\")\n",
    "model = ResNetRegressor().to(device)\n"
   ]
  },
  {
   "cell_type": "code",
   "execution_count": 7,
   "metadata": {},
   "outputs": [
    {
     "name": "stdout",
     "output_type": "stream",
     "text": [
      "Total number of trainable parameters: 32,582,501\n"
     ]
    }
   ],
   "source": [
    "# Count parameters\n",
    "def count_parameters(model):\n",
    "    return sum(p.numel() for p in model.parameters() if p.requires_grad)\n",
    "\n",
    "\n",
    "num_params = count_parameters(model)\n",
    "print(f\"Total number of trainable parameters: {num_params:,}\")\n"
   ]
  },
  {
   "cell_type": "markdown",
   "metadata": {},
   "source": [
    "#### 4) Loading the Data\n"
   ]
  },
  {
   "cell_type": "code",
   "execution_count": 8,
   "metadata": {},
   "outputs": [
    {
     "name": "stdout",
     "output_type": "stream",
     "text": [
      "(90, 2)\n"
     ]
    }
   ],
   "source": [
    "test_df = pd.read_csv(\"../../dataset/ratings/test.csv\")\n",
    "print(test_df.shape)\n"
   ]
  },
  {
   "cell_type": "code",
   "execution_count": 9,
   "metadata": {},
   "outputs": [],
   "source": [
    "test_dataset = ImageRatingDataset(test_df, phase=\"test\")\n",
    "test_loader = DataLoader(test_dataset, batch_size=32)\n"
   ]
  },
  {
   "cell_type": "markdown",
   "metadata": {},
   "source": [
    "#### 5) Loading the Model Weights\n"
   ]
  },
  {
   "cell_type": "code",
   "execution_count": 13,
   "metadata": {
    "_cell_guid": "4e902e83-d9bb-452e-872c-3c76450da8bb",
    "_uuid": "1c1a330f-d67b-4755-8c15-bb1b52ecd6c3",
    "collapsed": false,
    "execution": {
     "iopub.execute_input": "2025-07-05T08:54:59.796720Z",
     "iopub.status.busy": "2025-07-05T08:54:59.796146Z",
     "iopub.status.idle": "2025-07-05T08:54:59.865303Z",
     "shell.execute_reply": "2025-07-05T08:54:59.864507Z",
     "shell.execute_reply.started": "2025-07-05T08:54:59.796698Z"
    },
    "jupyter": {
     "outputs_hidden": false
    },
    "papermill": {
     "duration": 3.023618,
     "end_time": "2025-04-28T13:01:35.735374",
     "exception": false,
     "start_time": "2025-04-28T13:01:32.711756",
     "status": "completed"
    },
    "tags": [],
    "trusted": true
   },
   "outputs": [
    {
     "name": "stderr",
     "output_type": "stream",
     "text": [
      "/var/folders/l4/8h7869116bj2w59cq06rwl8c0000gn/T/ipykernel_42547/3693531072.py:6: FutureWarning: You are using `torch.load` with `weights_only=False` (the current default value), which uses the default pickle module implicitly. It is possible to construct malicious pickle data which will execute arbitrary code during unpickling (See https://github.com/pytorch/pytorch/blob/main/SECURITY.md#untrusted-models for more details). In a future release, the default value for `weights_only` will be flipped to `True`. This limits the functions that could be executed during unpickling. Arbitrary objects will no longer be allowed to be loaded via this mode unless they are explicitly allowlisted by the user via `torch.serialization.add_safe_globals`. We recommend you start setting `weights_only=True` for any use case where you don't have full control of the loaded file. Please open an issue on GitHub for any issues related to this experimental feature.\n",
      "  model.load_state_dict(torch.load(checkpoint_path, map_location=torch.device(\"cpu\")))\n"
     ]
    }
   ],
   "source": [
    "checkpoint_path = \"./weights/resnet50_joint-weights.pth\"\n",
    "\n",
    "if torch.cuda.is_available():\n",
    "    model.load_state_dict(torch.load(checkpoint_path))\n",
    "else:\n",
    "    model.load_state_dict(torch.load(checkpoint_path, map_location=torch.device(\"cpu\")))\n"
   ]
  },
  {
   "cell_type": "markdown",
   "metadata": {},
   "source": [
    "#### 6) Evaluating on Test set\n"
   ]
  },
  {
   "cell_type": "code",
   "execution_count": null,
   "metadata": {
    "_cell_guid": "31178a24-7563-4f15-9492-9fb07585af5c",
    "_uuid": "5f309104-54c0-422c-8fa7-f455c254f4cf",
    "collapsed": false,
    "execution": {
     "iopub.execute_input": "2025-05-07T06:36:43.648382Z",
     "iopub.status.busy": "2025-05-07T06:36:43.648110Z",
     "iopub.status.idle": "2025-05-07T06:36:45.233870Z",
     "shell.execute_reply": "2025-05-07T06:36:45.233244Z",
     "shell.execute_reply.started": "2025-05-07T06:36:43.648362Z"
    },
    "jupyter": {
     "outputs_hidden": false
    },
    "papermill": {
     "duration": null,
     "end_time": null,
     "exception": null,
     "start_time": null,
     "status": "completed"
    },
    "tags": [],
    "trusted": true
   },
   "outputs": [
    {
     "data": {
      "image/png": "[encoded data removed]",
      "text/plain": [
       "<Figure size 800x600 with 1 Axes>"
      ]
     },
     "metadata": {},
     "output_type": "display_data"
    },
    {
     "name": "stdout",
     "output_type": "stream",
     "text": [
      "0.6784623616084289 0.702721\n"
     ]
    }
   ],
   "source": [
    "model.eval()\n",
    "predictions = []\n",
    "ground_truths = []\n",
    "# Iterate over the validation dataset\n",
    "with torch.no_grad():\n",
    "    for images, ratings in test_loader:\n",
    "        images = images.to(device)  # Move to device (GPU or CPU)\n",
    "        ratings = ratings.to(device)\n",
    "\n",
    "        # Get predictions from the model\n",
    "        predicted_ratings = model(images)\n",
    "\n",
    "        # Append predicted and ground truth values to the lists\n",
    "        predictions.extend(predicted_ratings.cpu().numpy())  # move to CPU and convert to numpy\n",
    "        ground_truths.extend(ratings.cpu().numpy())  # move to CPU and convert to numpy\n",
    "\n",
    "# Convert lists to numpy arrays\n",
    "predictions = np.array(predictions).flatten()\n",
    "ground_truths = np.array(ground_truths).flatten()\n",
    "\n",
    "# # denormalize\n",
    "predictions = predictions\n",
    "ground_truths = ground_truths \n",
    "\n",
    "# Plot the scatter plot\n",
    "plt.figure(figsize=(8, 6))\n",
    "plt.scatter(ground_truths, predictions, alpha=0.5, c='blue')\n",
    "plt.title('Prediction vs Ground Truth', fontsize=16)\n",
    "plt.xlabel('Ground Truth Ratings', fontsize=14)\n",
    "plt.ylabel('Predicted Ratings', fontsize=14)\n",
    "plt.grid(True)\n",
    "plt.show()\n",
    "\n",
    "# Compute Spearman's rank correlation coefficient (SROCC)\n",
    "spearman_corr, _ = spearmanr(ground_truths, predictions)\n",
    "pearson_corr, _ = pearsonr(ground_truths, predictions)\n",
    "\n",
    "print(spearman_corr, pearson_corr)\n"
   ]
  },
  {
   "cell_type": "code",
   "execution_count": null,
   "metadata": {
    "trusted": true
   },
   "outputs": [],
   "source": []
  }
 ],
 "metadata": {
  "kaggle": {
   "accelerator": "gpu",
   "dataSources": [
    {
     "datasetId": 7259059,
     "sourceId": 11577853,
     "sourceType": "datasetVersion"
    },
    {
     "modelId": 327304,
     "modelInstanceId": 306818,
     "sourceId": 370631,
     "sourceType": "modelInstanceVersion"
    },
    {
     "modelId": 327342,
     "modelInstanceId": 306857,
     "sourceId": 370684,
     "sourceType": "modelInstanceVersion"
    }
   ],
   "dockerImageVersionId": 31011,
   "isGpuEnabled": true,
   "isInternetEnabled": true,
   "language": "python",
   "sourceType": "notebook"
  },
  "kernelspec": {
   "display_name": "image_realness",
   "language": "python",
   "name": "python3"
  },
  "language_info": {
   "codemirror_mode": {
    "name": "ipython",
    "version": 3
   },
   "file_extension": ".py",
   "mimetype": "text/x-python",
   "name": "python",
   "nbconvert_exporter": "python",
   "pygments_lexer": "ipython3",
   "version": "3.10.15"
  },
  "papermill": {
   "default_parameters": {},
   "duration": 191.089176,
   "end_time": "2025-04-28T13:01:35.758895",
   "environment_variables": {},
   "exception": null,
   "input_path": "__notebook__.ipynb",
   "output_path": "__notebook__.ipynb",
   "parameters": {},
   "start_time": "2025-04-28T12:58:24.669719",
   "version": "2.6.0"
  }
 },
 "nbformat": 4,
 "nbformat_minor": 4
}
