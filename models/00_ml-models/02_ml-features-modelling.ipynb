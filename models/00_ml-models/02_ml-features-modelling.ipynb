{
 "cells": [
  {
   "cell_type": "code",
   "execution_count": 31,
   "metadata": {},
   "outputs": [],
   "source": [
    "import numpy as np\n",
    "from sklearn.ensemble import GradientBoostingRegressor\n",
    "from skimage.feature import local_binary_pattern\n",
    "from skimage.color import rgb2lab, rgb2hsv\n",
    "import pywt\n",
    "from sklearn.model_selection import train_test_split\n",
    "import pandas as pd\n",
    "from PIL import Image\n",
    "from scipy.stats import spearmanr, pearsonr\n",
    "from scipy import ndimage\n",
    "from skimage.feature import hog, graycomatrix, graycoprops\n",
    "from sklearn.tree import DecisionTreeRegressor\n",
    "\n",
    "import random\n",
    "import numpy as np\n",
    "import torch\n",
    "\n",
    "SEED = 42\n",
    "random.seed(SEED)\n",
    "np.random.seed(SEED)\n"
   ]
  },
  {
   "cell_type": "code",
   "execution_count": 32,
   "metadata": {},
   "outputs": [
    {
     "data": {
      "text/plain": [
       "(90, 2)"
      ]
     },
     "execution_count": 32,
     "metadata": {},
     "output_type": "execute_result"
    }
   ],
   "source": [
    "train_df = pd.read_csv(\"../../dataset/ratings/train.csv\")\n",
    "test_df = pd.read_csv(\"../../dataset/ratings/test.csv\")\n",
    "val_df = train_df.iloc[-90:].copy()\n",
    "val_df.shape\n"
   ]
  },
  {
   "cell_type": "code",
   "execution_count": 33,
   "metadata": {},
   "outputs": [
    {
     "data": {
      "text/plain": [
       "(420, 2)"
      ]
     },
     "execution_count": 33,
     "metadata": {},
     "output_type": "execute_result"
    }
   ],
   "source": [
    "train_df = train_df.iloc[:-90].copy()\n",
    "train_df.shape\n"
   ]
  },
  {
   "cell_type": "code",
   "execution_count": 34,
   "metadata": {},
   "outputs": [
    {
     "data": {
      "text/html": [
       "<div>\n",
       "<style scoped>\n",
       "    .dataframe tbody tr th:only-of-type {\n",
       "        vertical-align: middle;\n",
       "    }\n",
       "\n",
       "    .dataframe tbody tr th {\n",
       "        vertical-align: top;\n",
       "    }\n",
       "\n",
       "    .dataframe thead th {\n",
       "        text-align: right;\n",
       "    }\n",
       "</style>\n",
       "<table border=\"1\" class=\"dataframe\">\n",
       "  <thead>\n",
       "    <tr style=\"text-align: right;\">\n",
       "      <th></th>\n",
       "      <th>filename</th>\n",
       "      <th>MOS</th>\n",
       "    </tr>\n",
       "  </thead>\n",
       "  <tbody>\n",
       "    <tr>\n",
       "      <th>0</th>\n",
       "      <td>f329.png</td>\n",
       "      <td>0.134646</td>\n",
       "    </tr>\n",
       "    <tr>\n",
       "      <th>1</th>\n",
       "      <td>f316.png</td>\n",
       "      <td>-0.954147</td>\n",
       "    </tr>\n",
       "    <tr>\n",
       "      <th>2</th>\n",
       "      <td>f257.png</td>\n",
       "      <td>0.978417</td>\n",
       "    </tr>\n",
       "    <tr>\n",
       "      <th>3</th>\n",
       "      <td>f206.png</td>\n",
       "      <td>-3.041686</td>\n",
       "    </tr>\n",
       "    <tr>\n",
       "      <th>4</th>\n",
       "      <td>f459.png</td>\n",
       "      <td>-0.192770</td>\n",
       "    </tr>\n",
       "  </tbody>\n",
       "</table>\n",
       "</div>"
      ],
      "text/plain": [
       "   filename       MOS\n",
       "0  f329.png  0.134646\n",
       "1  f316.png -0.954147\n",
       "2  f257.png  0.978417\n",
       "3  f206.png -3.041686\n",
       "4  f459.png -0.192770"
      ]
     },
     "execution_count": 34,
     "metadata": {},
     "output_type": "execute_result"
    }
   ],
   "source": [
    "train_df.head()\n"
   ]
  },
  {
   "cell_type": "code",
   "execution_count": 35,
   "metadata": {},
   "outputs": [
    {
     "data": {
      "text/html": [
       "<div>\n",
       "<style scoped>\n",
       "    .dataframe tbody tr th:only-of-type {\n",
       "        vertical-align: middle;\n",
       "    }\n",
       "\n",
       "    .dataframe tbody tr th {\n",
       "        vertical-align: top;\n",
       "    }\n",
       "\n",
       "    .dataframe thead th {\n",
       "        text-align: right;\n",
       "    }\n",
       "</style>\n",
       "<table border=\"1\" class=\"dataframe\">\n",
       "  <thead>\n",
       "    <tr style=\"text-align: right;\">\n",
       "      <th></th>\n",
       "      <th>filename</th>\n",
       "      <th>MOS</th>\n",
       "    </tr>\n",
       "  </thead>\n",
       "  <tbody>\n",
       "    <tr>\n",
       "      <th>420</th>\n",
       "      <td>f68.png</td>\n",
       "      <td>-0.149500</td>\n",
       "    </tr>\n",
       "    <tr>\n",
       "      <th>421</th>\n",
       "      <td>f191.png</td>\n",
       "      <td>-0.241829</td>\n",
       "    </tr>\n",
       "    <tr>\n",
       "      <th>422</th>\n",
       "      <td>f278.png</td>\n",
       "      <td>0.154798</td>\n",
       "    </tr>\n",
       "    <tr>\n",
       "      <th>423</th>\n",
       "      <td>f62.png</td>\n",
       "      <td>0.469404</td>\n",
       "    </tr>\n",
       "    <tr>\n",
       "      <th>424</th>\n",
       "      <td>f164.png</td>\n",
       "      <td>0.634564</td>\n",
       "    </tr>\n",
       "  </tbody>\n",
       "</table>\n",
       "</div>"
      ],
      "text/plain": [
       "     filename       MOS\n",
       "420   f68.png -0.149500\n",
       "421  f191.png -0.241829\n",
       "422  f278.png  0.154798\n",
       "423   f62.png  0.469404\n",
       "424  f164.png  0.634564"
      ]
     },
     "execution_count": 35,
     "metadata": {},
     "output_type": "execute_result"
    }
   ],
   "source": [
    "val_df.head()\n"
   ]
  },
  {
   "cell_type": "code",
   "execution_count": 36,
   "metadata": {},
   "outputs": [
    {
     "data": {
      "text/html": [
       "<div>\n",
       "<style scoped>\n",
       "    .dataframe tbody tr th:only-of-type {\n",
       "        vertical-align: middle;\n",
       "    }\n",
       "\n",
       "    .dataframe tbody tr th {\n",
       "        vertical-align: top;\n",
       "    }\n",
       "\n",
       "    .dataframe thead th {\n",
       "        text-align: right;\n",
       "    }\n",
       "</style>\n",
       "<table border=\"1\" class=\"dataframe\">\n",
       "  <thead>\n",
       "    <tr style=\"text-align: right;\">\n",
       "      <th></th>\n",
       "      <th>filename</th>\n",
       "      <th>MOS</th>\n",
       "    </tr>\n",
       "  </thead>\n",
       "  <tbody>\n",
       "    <tr>\n",
       "      <th>0</th>\n",
       "      <td>f244.png</td>\n",
       "      <td>0.681995</td>\n",
       "    </tr>\n",
       "    <tr>\n",
       "      <th>1</th>\n",
       "      <td>f126.png</td>\n",
       "      <td>0.709697</td>\n",
       "    </tr>\n",
       "    <tr>\n",
       "      <th>2</th>\n",
       "      <td>r3.png</td>\n",
       "      <td>1.223393</td>\n",
       "    </tr>\n",
       "    <tr>\n",
       "      <th>3</th>\n",
       "      <td>f145.png</td>\n",
       "      <td>-1.211034</td>\n",
       "    </tr>\n",
       "    <tr>\n",
       "      <th>4</th>\n",
       "      <td>f170.png</td>\n",
       "      <td>-0.696548</td>\n",
       "    </tr>\n",
       "  </tbody>\n",
       "</table>\n",
       "</div>"
      ],
      "text/plain": [
       "   filename       MOS\n",
       "0  f244.png  0.681995\n",
       "1  f126.png  0.709697\n",
       "2    r3.png  1.223393\n",
       "3  f145.png -1.211034\n",
       "4  f170.png -0.696548"
      ]
     },
     "execution_count": 36,
     "metadata": {},
     "output_type": "execute_result"
    }
   ],
   "source": [
    "test_df.head()\n"
   ]
  },
  {
   "cell_type": "code",
   "execution_count": 37,
   "metadata": {},
   "outputs": [],
   "source": [
    "X_train = list(train_df[\"filename\"])\n",
    "y_train = list(train_df[\"MOS\"])\n",
    "\n",
    "X_valid = list(val_df[\"filename\"])\n",
    "y_valid = list(val_df[\"MOS\"])\n",
    "\n",
    "X_test = list(test_df[\"filename\"])\n",
    "y_test = list(test_df[\"MOS\"])\n"
   ]
  },
  {
   "cell_type": "code",
   "execution_count": 38,
   "metadata": {},
   "outputs": [],
   "source": [
    "from pathlib import Path\n",
    "import numpy as np\n",
    "from PIL import Image\n",
    "# … all your other imports stay the same …\n",
    "\n",
    "class HandcraftedRealnessPredictor:\n",
    "    def __init__(\n",
    "        self,\n",
    "        train_root: str,\n",
    "        test_root: str,\n",
    "        max_depth: int = 5,\n",
    "        random_state: int = SEED,\n",
    "    ):\n",
    "        \"\"\"\n",
    "        Parameters\n",
    "        ----------\n",
    "        train_root : str\n",
    "            Folder that contains *both* training and validation images.\n",
    "        test_root : str\n",
    "            Folder that contains test images.\n",
    "        \"\"\"\n",
    "        self.train_root = Path(train_root)\n",
    "        self.test_root  = Path(test_root)\n",
    "        self.model = DecisionTreeRegressor(max_depth=max_depth,\n",
    "                                           random_state=random_state)\n",
    "\n",
    "    # ------------------------------------------------------------------ #\n",
    "    # --------------------  feature extraction ------------------------- #\n",
    "    # ------------------------------------------------------------------ #\n",
    "    def extract_features(self, image_name: str, phase: str = \"train\") -> np.ndarray:\n",
    "        \"\"\"\n",
    "        Extract 45 handcrafted features from an RGB image (no resizing).\n",
    "\n",
    "        Parameters\n",
    "        ----------\n",
    "        image_name : str\n",
    "            File name (relative to the chosen root) or a full path.\n",
    "        phase : {\"train\", \"test\"}\n",
    "            Selects which root directory to look in.\n",
    "        \"\"\"\n",
    "        if phase not in {\"train\", \"test\"}:\n",
    "            raise ValueError(\"phase must be 'train' or 'test'\")\n",
    "\n",
    "        root = self.train_root if phase == \"train\" else self.test_root\n",
    "        img_path = root / image_name   # pathlib handles the join cleanly\n",
    "        image = np.asarray(Image.open(img_path))\n",
    "\n",
    "        gray = np.mean(image, axis=2)\n",
    "        h, w = gray.shape\n",
    "        features = []\n",
    "\n",
    "        # ---------- 1. Enhanced colour features (8) ----------\n",
    "        lab = rgb2lab(image)\n",
    "        hsv = rgb2hsv(image)\n",
    "        lab_a = lab[:, :, 1].astype(np.float32) / 127\n",
    "        lab_b = lab[:, :, 2].astype(np.float32) / 127\n",
    "        features.extend([\n",
    "            np.std(lab_a),\n",
    "            np.std(lab_b),\n",
    "            hsv[:, :, 0].std(),\n",
    "            np.percentile(hsv[:, :, 1], 95),\n",
    "            np.mean(np.abs(lab_a)),\n",
    "            np.mean(np.abs(lab_b)),\n",
    "            np.median(hsv[:, :, 2]),\n",
    "            (hsv[:, :, 2] > 0.9).mean(),\n",
    "        ])\n",
    "\n",
    "        # ---------- 2. Advanced edge features (10) ----------\n",
    "        sobel_x = ndimage.sobel(gray, axis=1)\n",
    "        sobel_y = ndimage.sobel(gray, axis=0)\n",
    "        edge_magnitude = np.hypot(sobel_x, sobel_y)\n",
    "        features.extend([\n",
    "            edge_magnitude.mean(),\n",
    "            edge_magnitude.std(),\n",
    "            np.percentile(edge_magnitude, 90), # Strong edge presence\n",
    "            (edge_magnitude > 0.2).mean(), # Edge density\n",
    "            # Edge regularity\n",
    "            np.corrcoef(sobel_x[::10].flatten(), sobel_y[::10].flatten())[0, 1],\n",
    "            # Edge direction consistency\n",
    "            np.std(np.arctan2(sobel_y, sobel_x)[edge_magnitude > 0.1]),\n",
    "            # Asymmetry (AI artifacts often symmetric)\n",
    "            np.abs(sobel_x - np.fliplr(sobel_x)).mean(),\n",
    "            np.abs(sobel_y - np.flipud(sobel_y)).mean(),\n",
    "            # Edge sharpness\n",
    "            np.mean(edge_magnitude[edge_magnitude > 0.05]),\n",
    "            np.max(edge_magnitude),\n",
    "        ])\n",
    "\n",
    "        # ---------- 3. Texture & pattern (15) ----------\n",
    "        glcm = graycomatrix(\n",
    "            (gray * 255).astype(np.uint8),\n",
    "            distances=[1, 3],\n",
    "            angles=[0, np.pi / 4],\n",
    "            levels=256,\n",
    "            symmetric=True,\n",
    "        )\n",
    "        for prop in [\"contrast\", \"dissimilarity\", \"homogeneity\", \"energy\", \"correlation\"]:\n",
    "            features.extend(graycoprops(glcm, prop).flatten())\n",
    "        \n",
    "        hog_feats = hog(gray,\n",
    "                        orientations=8,\n",
    "                        pixels_per_cell=(32, 32),\n",
    "                        cells_per_block=(1, 1),\n",
    "                        visualize=False)\n",
    "        features.extend([hog_feats.mean(), hog_feats.std()])\n",
    "\n",
    "        # ---------- 4. Frequency & compression (12) ----------\n",
    "        coeffs = pywt.wavedec2(gray, \"db2\", level=3)\n",
    "        for cH, cV, cD in coeffs[1:]:\n",
    "            features.extend([\n",
    "                np.abs(cH).mean(),\n",
    "                np.abs(cV).mean(),\n",
    "                np.abs(cD).mean(),\n",
    "                np.percentile(np.abs(cH), 90),\n",
    "            ])\n",
    "\n",
    "        # ---------- 5. Perceptual grouping (two extras) ----------\n",
    "        contrast_energy = ndimage.gaussian_filter(gray, sigma=1) - \\\n",
    "                          ndimage.gaussian_filter(gray, sigma=3)\n",
    "        features.append(np.mean(contrast_energy ** 2))\n",
    "\n",
    "        saliency = np.abs(ndimage.gaussian_gradient_magnitude(gray, sigma=2))\n",
    "        features.extend([saliency.mean(), saliency.std()])\n",
    "\n",
    "        return np.array(features)\n",
    "\n",
    "    # ------------------------------------------------------------------ #\n",
    "    # ------------------------  model API  ----------------------------- #\n",
    "    # ------------------------------------------------------------------ #\n",
    "    def fit(self, X, y, phase: str = \"train\"):\n",
    "        feats = np.array([self.extract_features(img, phase=phase) for img in X])\n",
    "        self.model.fit(feats, y)\n",
    "        return self\n",
    "\n",
    "    def predict(self, X, phase: str = \"train\"):\n",
    "        feats = np.array([self.extract_features(img, phase=phase) for img in X])\n",
    "        return self.model.predict(feats)\n"
   ]
  },
  {
   "cell_type": "markdown",
   "metadata": {},
   "source": [
    "### Initialize and train\n"
   ]
  },
  {
   "cell_type": "code",
   "execution_count": 39,
   "metadata": {},
   "outputs": [
    {
     "data": {
      "text/plain": [
       "<__main__.HandcraftedRealnessPredictor at 0x3222db2b0>"
      ]
     },
     "execution_count": 39,
     "metadata": {},
     "output_type": "execute_result"
    }
   ],
   "source": [
    "predictor = HandcraftedRealnessPredictor(\n",
    "    train_root=\"../../dataset/images/train_images/\",   \n",
    "    test_root=\"../../dataset/images/test_images/\"          \n",
    ")\n",
    "\n",
    "predictor.fit(X_train, y_train, phase=\"train\")\n"
   ]
  },
  {
   "cell_type": "markdown",
   "metadata": {},
   "source": [
    "#### predict on val\n"
   ]
  },
  {
   "cell_type": "code",
   "execution_count": 40,
   "metadata": {},
   "outputs": [
    {
     "name": "stdout",
     "output_type": "stream",
     "text": [
      "0.5504170661969076 0.5073133014002407\n"
     ]
    }
   ],
   "source": [
    "# ----- Validation (still inside train_root) -----\n",
    "val_preds = predictor.predict(X_valid, phase=\"train\")\n",
    "score_r, _ = spearmanr(val_preds, y_valid)\n",
    "score_p, _ = pearsonr(val_preds, y_valid)\n",
    "\n",
    "print(score_r, score_p)\n"
   ]
  },
  {
   "cell_type": "markdown",
   "metadata": {},
   "source": [
    "#### predict on test\n"
   ]
  },
  {
   "cell_type": "code",
   "execution_count": 41,
   "metadata": {},
   "outputs": [
    {
     "name": "stdout",
     "output_type": "stream",
     "text": [
      "0.49781117350971243 0.43373095406300893\n"
     ]
    }
   ],
   "source": [
    "# ----- Testing (different root) -----\n",
    "test_preds = predictor.predict(X_test, phase=\"test\")\n",
    "\n",
    "score_r, _ = spearmanr(test_preds, y_test)\n",
    "score_p, _ = pearsonr(test_preds, y_test)\n",
    "\n",
    "\n",
    "print(score_r, score_p)\n"
   ]
  },
  {
   "cell_type": "code",
   "execution_count": null,
   "metadata": {},
   "outputs": [],
   "source": []
  },
  {
   "cell_type": "code",
   "execution_count": null,
   "metadata": {},
   "outputs": [],
   "source": []
  }
 ],
 "metadata": {
  "kernelspec": {
   "display_name": "image_realness",
   "language": "python",
   "name": "python3"
  },
  "language_info": {
   "codemirror_mode": {
    "name": "ipython",
    "version": 3
   },
   "file_extension": ".py",
   "mimetype": "text/x-python",
   "name": "python",
   "nbconvert_exporter": "python",
   "pygments_lexer": "ipython3",
   "version": "3.10.15"
  }
 },
 "nbformat": 4,
 "nbformat_minor": 2
}
