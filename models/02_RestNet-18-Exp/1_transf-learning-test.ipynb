{
 "cells": [
  {
   "cell_type": "code",
   "execution_count": 27,
   "id": "7a665dd2-26c9-45a4-b9cd-c4be3da1e028",
   "metadata": {
    "execution": {
     "iopub.execute_input": "2025-05-25T16:59:17.693283Z",
     "iopub.status.busy": "2025-05-25T16:59:17.692571Z",
     "iopub.status.idle": "2025-05-25T16:59:17.697528Z",
     "shell.execute_reply": "2025-05-25T16:59:17.696760Z",
     "shell.execute_reply.started": "2025-05-25T16:59:17.693257Z"
    },
    "trusted": true
   },
   "outputs": [],
   "source": [
    "import pandas as pd\n",
    "from sklearn.model_selection import train_test_split\n",
    "from torch.utils.data import Dataset, DataLoader\n",
    "from torchvision import transforms\n",
    "from PIL import Image\n",
    "import torch\n",
    "import numpy as np\n",
    "import torch.nn as nn\n",
    "import torch.optim as optim\n",
    "import torch.nn.functional as F\n",
    "from sklearn.metrics import mean_squared_error\n",
    "from scipy.stats import spearmanr, pearsonr\n",
    "import matplotlib.pyplot as plt\n",
    "import torchvision.models as models\n"
   ]
  },
  {
   "cell_type": "code",
   "execution_count": 28,
   "id": "7b1857a1-c941-40eb-93a2-16ec08430296",
   "metadata": {
    "execution": {
     "iopub.execute_input": "2025-05-25T16:59:18.016784Z",
     "iopub.status.busy": "2025-05-25T16:59:18.016326Z",
     "iopub.status.idle": "2025-05-25T16:59:18.022779Z",
     "shell.execute_reply": "2025-05-25T16:59:18.022111Z",
     "shell.execute_reply.started": "2025-05-25T16:59:18.016761Z"
    },
    "trusted": true
   },
   "outputs": [
    {
     "data": {
      "text/plain": [
       "['AI-Realism-Subjective_Study_Data_Sheet - Combined_Ratings_Study_Pid38Dropped_Correct_ZScores_NoOutliers_Full.csv',\n",
       " 'AI-Realism-Subjective_Study_Data_Sheet - Combined_Ratings_Study_Pid38Dropped_Correct_ZScores_NoOutliers.csv',\n",
       " 'Dataset_images']"
      ]
     },
     "execution_count": 28,
     "metadata": {},
     "output_type": "execute_result"
    }
   ],
   "source": [
    "import os\n",
    "os.chdir(\"/kaggle/input\")\n",
    "os.listdir()\n"
   ]
  },
  {
   "cell_type": "code",
   "execution_count": 29,
   "id": "63d8ec16-1ba6-40b2-b876-deaa99a0b000",
   "metadata": {
    "execution": {
     "iopub.execute_input": "2025-05-25T16:59:22.441032Z",
     "iopub.status.busy": "2025-05-25T16:59:22.440441Z",
     "iopub.status.idle": "2025-05-25T16:59:22.449041Z",
     "shell.execute_reply": "2025-05-25T16:59:22.448442Z",
     "shell.execute_reply.started": "2025-05-25T16:59:22.441009Z"
    },
    "trusted": true
   },
   "outputs": [],
   "source": [
    "import random; import numpy as np; import torch\n",
    "SEED = 42\n",
    "random.seed(SEED)\n",
    "np.random.seed(SEED)\n",
    "torch.manual_seed(SEED)\n",
    "torch.cuda.manual_seed_all(SEED)\n",
    "\n",
    "class ImageRatingDataset(Dataset):\n",
    "    def __init__(self, dataframe, transform=None, augment=False):\n",
    "        self.dataframe = dataframe.reset_index(drop=True)\n",
    "        self.transform = transforms.Normalize(mean=[0.485, 0.456, 0.406],\n",
    "                     std=[0.229, 0.224, 0.225])\n",
    "        self.augment = augment\n",
    "\n",
    "        # Define augmentations\n",
    "        self.augmentation = transforms.Compose([\n",
    "            transforms.RandomHorizontalFlip(p=0.5),\n",
    "            transforms.RandomRotation(degrees=10),  # small rotations\n",
    "            transforms.RandomResizedCrop(size=(384, 512), scale=(0.9, 1.0), ratio=(1.25, 1.35)),\n",
    "            transforms.ColorJitter(brightness=0.1, contrast=0.1),  # light changes\n",
    "        ])\n",
    "\n",
    "\n",
    "    def __len__(self):\n",
    "        return len(self.dataframe)\n",
    "\n",
    "    def __getitem__(self, idx):\n",
    "        img_path = self.dataframe.loc[idx, 'Image']\n",
    "        rating = self.dataframe.loc[idx, 'Rating']\n",
    "\n",
    "        image = Image.open(\"Dataset_images/\"+img_path)\n",
    "        if self.augment == True:\n",
    "            image = self.augmentation(image)\n",
    "        image_np = np.asarray(image, dtype=np.float32)\n",
    "        image = torch.tensor(image_np)\n",
    "        image = image.permute(2, 0, 1)\n",
    "        # image = compute_mscn(image)\n",
    "        if self.transform:\n",
    "            image = self.transform(image)\n",
    "\n",
    "        return image, torch.tensor(rating, dtype=torch.float32)\n"
   ]
  },
  {
   "cell_type": "code",
   "execution_count": 30,
   "id": "50dc8994-a5a4-44cf-ae5f-bccb43c4a842",
   "metadata": {
    "execution": {
     "iopub.execute_input": "2025-05-25T16:59:51.471723Z",
     "iopub.status.busy": "2025-05-25T16:59:51.470916Z",
     "iopub.status.idle": "2025-05-25T16:59:51.479573Z",
     "shell.execute_reply": "2025-05-25T16:59:51.478609Z",
     "shell.execute_reply.started": "2025-05-25T16:59:51.471698Z"
    },
    "trusted": true
   },
   "outputs": [],
   "source": [
    "class ResNetRegressor(nn.Module):\n",
    "    def __init__(self):\n",
    "        super(ResNetRegressor, self).__init__()\n",
    "\n",
    "        # Load pretrained ResNet18\n",
    "        base_model = models.resnet18(pretrained=True)\n",
    "\n",
    "        # Remove the final classification layer\n",
    "        self.features = nn.Sequential(*list(base_model.children())[:-1])  # Excludes fc layer\n",
    "\n",
    "        # Freeze base layers\n",
    "        for param in self.features.parameters():\n",
    "            param.requires_grad = False\n",
    "\n",
    "        # Add a custom regression head\n",
    "        self.regressor = nn.Sequential(\n",
    "            nn.Linear(512, 256),\n",
    "            nn.ReLU(),\n",
    "            nn.Dropout(0.4),\n",
    "            nn.Linear(256, 256),\n",
    "            nn.ReLU(),\n",
    "            nn.Dropout(0.4),\n",
    "            nn.Linear(256, 128),\n",
    "            nn.ReLU(),\n",
    "            nn.Dropout(0.4),\n",
    "            nn.Linear(128, 1),\n",
    "        )\n",
    "\n",
    "    def forward(self, x):\n",
    "        x = self.features(x)             # Output shape: (batch_size, 512, 1, 1)\n",
    "        x = x.view(x.size(0), -1)        # Flatten to (batch_size, 512)\n",
    "        x = self.regressor(x)\n",
    "        return x\n"
   ]
  },
  {
   "cell_type": "code",
   "execution_count": 31,
   "id": "128b8a73-ba65-4100-814a-0715208ad07d",
   "metadata": {
    "execution": {
     "iopub.execute_input": "2025-05-25T17:00:10.504245Z",
     "iopub.status.busy": "2025-05-25T17:00:10.503968Z",
     "iopub.status.idle": "2025-05-25T17:00:10.805393Z",
     "shell.execute_reply": "2025-05-25T17:00:10.804818Z",
     "shell.execute_reply.started": "2025-05-25T17:00:10.504226Z"
    },
    "trusted": true
   },
   "outputs": [
    {
     "name": "stderr",
     "output_type": "stream",
     "text": [
      "/usr/local/lib/python3.11/dist-packages/torchvision/models/_utils.py:208: UserWarning: The parameter 'pretrained' is deprecated since 0.13 and may be removed in the future, please use 'weights' instead.\n",
      "  warnings.warn(\n",
      "/usr/local/lib/python3.11/dist-packages/torchvision/models/_utils.py:223: UserWarning: Arguments other than a weight enum or `None` for 'weights' are deprecated since 0.13 and may be removed in the future. The current behavior is equivalent to passing `weights=ResNet18_Weights.IMAGENET1K_V1`. You can also use `weights=ResNet18_Weights.DEFAULT` to get the most up-to-date weights.\n",
      "  warnings.warn(msg)\n"
     ]
    }
   ],
   "source": [
    "device = torch.device('cuda' if torch.cuda.is_available() else 'cpu')\n",
    "model = ResNetRegressor().to(device)\n",
    "\n",
    "# Replace 'your_file.xlsx' with the path to your Excel file\n",
    "file_path = 'AI-Realism-Subjective_Study_Data_Sheet - Combined_Ratings_Study_Pid38Dropped_Correct_ZScores_NoOutliers_Full.csv'\n",
    "\n",
    "# Read the Excel file into a DataFrame\n",
    "df = pd.read_csv(file_path)\n",
    "\n",
    "images = df['Image'].unique()\n",
    "img_ratings  = df.groupby('Image', as_index=False)['Rating'].mean()\n",
    "# print(img_ratings)\n",
    "\n",
    "# Create bins for stratification\n",
    "n_bins = 10  # You can adjust this number\n",
    "img_ratings['Rating_bin'] = pd.qcut(img_ratings['Rating'], n_bins, labels=False)\n",
    "\n",
    "\n",
    "# # Split into train (70%), val (15%), test (15%)\n",
    "# train_df, temp_df = train_test_split(img_ratings, test_size=0.30, random_state=42)\n",
    "# val_df, test_df = train_test_split(temp_df, test_size=0.5, random_state=42)\n",
    "# # print(train_df, val_df, test_df)\n",
    "\n",
    "# Stratified split\n",
    "train_df, temp_df = train_test_split(img_ratings, test_size=0.30, random_state=42, stratify=img_ratings['Rating_bin'])\n",
    "val_df, test_df = train_test_split(temp_df, test_size=0.50, random_state=42, stratify=temp_df['Rating_bin'])\n",
    "\n",
    "# Stratified split sanity (Disjoint splits)\n",
    "train_ids = set(train_df.index)\n",
    "val_ids   = set(val_df.index)\n",
    "test_ids  = set(test_df.index)\n",
    "assert train_ids.isdisjoint(val_ids) and train_ids.isdisjoint(test_ids) and val_ids.isdisjoint(test_ids), \"Overlap between splits!\"\n",
    "\n",
    "\n",
    "# Compute mean & std on the TRAIN set only\n",
    "mos_mean = train_df['Rating'].mean()\n",
    "mos_std  = train_df['Rating'].std()\n",
    "\n",
    "# Apply z-score normalization to all three splits\n",
    "for df_split in (train_df, val_df, test_df):\n",
    "    df_split['Rating'] = (df_split['Rating'] - mos_mean) / mos_std\n"
   ]
  },
  {
   "cell_type": "code",
   "execution_count": 33,
   "id": "0713e681-6efd-4530-86e8-26d7635b134a",
   "metadata": {
    "execution": {
     "iopub.execute_input": "2025-05-25T17:02:32.230822Z",
     "iopub.status.busy": "2025-05-25T17:02:32.230324Z",
     "iopub.status.idle": "2025-05-25T17:02:32.235004Z",
     "shell.execute_reply": "2025-05-25T17:02:32.234232Z",
     "shell.execute_reply.started": "2025-05-25T17:02:32.230797Z"
    },
    "trusted": true
   },
   "outputs": [],
   "source": [
    "test_dataset = ImageRatingDataset(test_df)\n",
    "test_loader = DataLoader(test_dataset, batch_size=32)\n"
   ]
  },
  {
   "cell_type": "code",
   "execution_count": 34,
   "id": "bab6638f-e66b-44ce-91ad-e71c8482fbf6",
   "metadata": {
    "execution": {
     "iopub.execute_input": "2025-05-25T17:03:09.375696Z",
     "iopub.status.busy": "2025-05-25T17:03:09.375021Z",
     "iopub.status.idle": "2025-05-25T17:03:09.441281Z",
     "shell.execute_reply": "2025-05-25T17:03:09.440559Z",
     "shell.execute_reply.started": "2025-05-25T17:03:09.375672Z"
    },
    "trusted": true
   },
   "outputs": [
    {
     "name": "stderr",
     "output_type": "stream",
     "text": [
      "/tmp/ipykernel_31/1664966796.py:2: FutureWarning: You are using `torch.load` with `weights_only=False` (the current default value), which uses the default pickle module implicitly. It is possible to construct malicious pickle data which will execute arbitrary code during unpickling (See https://github.com/pytorch/pytorch/blob/main/SECURITY.md#untrusted-models for more details). In a future release, the default value for `weights_only` will be flipped to `True`. This limits the functions that could be executed during unpickling. Arbitrary objects will no longer be allowed to be loaded via this mode unless they are explicitly allowlisted by the user via `torch.serialization.add_safe_globals`. We recommend you start setting `weights_only=True` for any use case where you don't have full control of the loaded file. Please open an issue on GitHub for any issues related to this experimental feature.\n",
      "  state_dict = torch.load(checkpoint_path)  # or \"cuda:0\"\n"
     ]
    },
    {
     "data": {
      "text/plain": [
       "<All keys matched successfully>"
      ]
     },
     "execution_count": 34,
     "metadata": {},
     "output_type": "execute_result"
    }
   ],
   "source": [
    "checkpoint_path = \"/kaggle/working/resnet50_fold1.pth\"    # your .pth file\n",
    "state_dict = torch.load(checkpoint_path)  # or \"cuda:0\"\n",
    "model.load_state_dict(state_dict)\n"
   ]
  },
  {
   "cell_type": "code",
   "execution_count": 35,
   "id": "be43beeb-9842-4528-bd4b-b80fcfef5b50",
   "metadata": {
    "execution": {
     "iopub.execute_input": "2025-05-25T17:03:15.884781Z",
     "iopub.status.busy": "2025-05-25T17:03:15.884026Z",
     "iopub.status.idle": "2025-05-25T17:03:17.335247Z",
     "shell.execute_reply": "2025-05-25T17:03:17.334446Z",
     "shell.execute_reply.started": "2025-05-25T17:03:15.884745Z"
    },
    "trusted": true
   },
   "outputs": [
    {
     "name": "stdout",
     "output_type": "stream",
     "text": [
      "0.654788657035848 0.7250864\n"
     ]
    }
   ],
   "source": [
    "model.eval()\n",
    "all_preds = []\n",
    "all_labels = []\n",
    "with torch.no_grad():\n",
    "    for images, labels in test_loader:\n",
    "        images = images.to(device)\n",
    "        outputs = model(images)\n",
    "        # Detach and move to CPU; flatten the predictions.\n",
    "        preds = outputs.cpu().numpy().flatten()\n",
    "        all_preds.extend(preds)\n",
    "        all_labels.extend(labels.numpy())\n",
    "\n",
    "all_preds = np.array(all_preds)\n",
    "all_labels = np.array(all_labels)\n",
    "\n",
    "# Compute Spearman's rank correlation coefficient (SROCC)\n",
    "spearman_corr, _ = spearmanr(all_labels, all_preds)\n",
    "pearson_corr, _ = pearsonr(all_labels, all_preds)\n",
    "\n",
    "print(spearman_corr, pearson_corr)\n"
   ]
  },
  {
   "cell_type": "code",
   "execution_count": 36,
   "id": "feed4d68-787b-4ee6-9fff-567db4367ea8",
   "metadata": {
    "execution": {
     "iopub.execute_input": "2025-05-25T17:03:20.530559Z",
     "iopub.status.busy": "2025-05-25T17:03:20.530008Z",
     "iopub.status.idle": "2025-05-25T17:03:22.063306Z",
     "shell.execute_reply": "2025-05-25T17:03:22.062725Z",
     "shell.execute_reply.started": "2025-05-25T17:03:20.530536Z"
    },
    "trusted": true
   },
   "outputs": [
    {
     "data": {
      "image/png": "[encoded data removed]",
      "text/plain": [
       "<Figure size 800x600 with 1 Axes>"
      ]
     },
     "metadata": {},
     "output_type": "display_data"
    },
    {
     "name": "stdout",
     "output_type": "stream",
     "text": [
      "0.654788657035848 0.7250864\n"
     ]
    }
   ],
   "source": [
    "predictions = []\n",
    "ground_truths = []\n",
    "\n",
    "# Iterate over the validation dataset\n",
    "with torch.no_grad():\n",
    "    for images, ratings in test_loader:\n",
    "        images = images.to(device)  # Move to device (GPU or CPU)\n",
    "        ratings = ratings.to(device)\n",
    "\n",
    "        # Get predictions from the model\n",
    "        predicted_ratings = model(images)\n",
    "\n",
    "        # Append predicted and ground truth values to the lists\n",
    "        predictions.extend(predicted_ratings.cpu().numpy())  # move to CPU and convert to numpy\n",
    "        ground_truths.extend(ratings.cpu().numpy())  # move to CPU and convert to numpy\n",
    "\n",
    "# Convert lists to numpy arrays\n",
    "predictions = np.array(predictions).flatten()\n",
    "ground_truths = np.array(ground_truths).flatten()\n",
    "\n",
    "# # denormalize\n",
    "# predictions = predictions*mos_std + mos_mean\n",
    "# ground_truths = ground_truths*mos_std + mos_mean \n",
    "\n",
    "# Plot the scatter plot\n",
    "plt.figure(figsize=(8, 6))\n",
    "plt.scatter(ground_truths, predictions, alpha=0.5, c='blue')\n",
    "plt.title('Prediction vs Ground Truth', fontsize=16)\n",
    "plt.xlabel('Ground Truth Ratings', fontsize=14)\n",
    "plt.ylabel('Predicted Ratings', fontsize=14)\n",
    "plt.grid(True)\n",
    "plt.show()\n",
    "\n",
    "# Compute Spearman's rank correlation coefficient (SROCC)\n",
    "spearman_corr, _ = spearmanr(ground_truths, predictions)\n",
    "pearson_corr, _ = pearsonr(ground_truths, predictions)\n",
    "\n",
    "print(spearman_corr, pearson_corr)\n"
   ]
  },
  {
   "cell_type": "code",
   "execution_count": null,
   "id": "7adfe883-e7bc-4998-8b18-341bc9a52c3c",
   "metadata": {
    "trusted": true
   },
   "outputs": [],
   "source": []
  }
 ],
 "metadata": {
  "kaggle": {
   "accelerator": "gpu",
   "dataSources": [
    {
     "datasetId": 7259059,
     "sourceId": 11577853,
     "sourceType": "datasetVersion"
    }
   ],
   "dockerImageVersionId": 31011,
   "isGpuEnabled": true,
   "isInternetEnabled": true,
   "language": "python",
   "sourceType": "notebook"
  },
  "kernelspec": {
   "display_name": "Python 3",
   "language": "python",
   "name": "python3"
  },
  "language_info": {
   "codemirror_mode": {
    "name": "ipython",
    "version": 3
   },
   "file_extension": ".py",
   "mimetype": "text/x-python",
   "name": "python",
   "nbconvert_exporter": "python",
   "pygments_lexer": "ipython3",
   "version": "3.11.11"
  },
  "papermill": {
   "default_parameters": {},
   "duration": 191.089176,
   "end_time": "2025-04-28T13:01:35.758895",
   "environment_variables": {},
   "exception": null,
   "input_path": "__notebook__.ipynb",
   "output_path": "__notebook__.ipynb",
   "parameters": {},
   "start_time": "2025-04-28T12:58:24.669719",
   "version": "2.6.0"
  }
 },
 "nbformat": 4,
 "nbformat_minor": 5
}
