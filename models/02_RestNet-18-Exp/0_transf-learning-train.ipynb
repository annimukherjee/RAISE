{
 "cells": [
  {
   "cell_type": "code",
   "execution_count": 9,
   "id": "f6b24c55",
   "metadata": {
    "_cell_guid": "0259cb98-fc3c-4ba8-b50f-dd135e8382c5",
    "_uuid": "6831eb70-2456-4090-b37a-22fa61ad6a54",
    "collapsed": false,
    "execution": {
     "iopub.execute_input": "2025-05-25T18:45:06.033985Z",
     "iopub.status.busy": "2025-05-25T18:45:06.033437Z",
     "iopub.status.idle": "2025-05-25T18:45:06.038520Z",
     "shell.execute_reply": "2025-05-25T18:45:06.037713Z",
     "shell.execute_reply.started": "2025-05-25T18:45:06.033966Z"
    },
    "jupyter": {
     "outputs_hidden": false
    },
    "papermill": {
     "duration": 11.404132,
     "end_time": "2025-04-28T12:58:40.297173",
     "exception": false,
     "start_time": "2025-04-28T12:58:28.893041",
     "status": "completed"
    },
    "tags": [],
    "trusted": true
   },
   "outputs": [],
   "source": [
    "import pandas as pd\n",
    "from sklearn.model_selection import train_test_split\n",
    "from torch.utils.data import Dataset, DataLoader\n",
    "from torchvision import transforms\n",
    "from PIL import Image\n",
    "import torch\n",
    "import numpy as np\n",
    "import torch.nn as nn\n",
    "import torch.optim as optim\n",
    "import torch.nn.functional as F\n",
    "from sklearn.metrics import mean_squared_error\n",
    "from scipy.stats import spearmanr, pearsonr\n",
    "import matplotlib.pyplot as plt\n",
    "import torchvision.models as models\n",
    "import os\n",
    "import random\n"
   ]
  },
  {
   "cell_type": "code",
   "execution_count": 10,
   "id": "df0f5633-25d0-4619-8fdf-387c82cfdb2a",
   "metadata": {
    "execution": {
     "iopub.execute_input": "2025-05-25T18:45:06.412206Z",
     "iopub.status.busy": "2025-05-25T18:45:06.411935Z",
     "iopub.status.idle": "2025-05-25T18:45:06.418297Z",
     "shell.execute_reply": "2025-05-25T18:45:06.417566Z",
     "shell.execute_reply.started": "2025-05-25T18:45:06.412185Z"
    },
    "trusted": true
   },
   "outputs": [],
   "source": [
    "os.chdir(\"/kaggle/input\")\n",
    "os.listdir()\n",
    "\n",
    "SEED = 42\n",
    "random.seed(SEED)\n",
    "np.random.seed(SEED)\n",
    "torch.manual_seed(SEED)\n",
    "torch.cuda.manual_seed_all(SEED)\n"
   ]
  },
  {
   "cell_type": "code",
   "execution_count": 11,
   "id": "7a9bb070",
   "metadata": {
    "_cell_guid": "21c30fdc-0068-4ba1-896d-c9ac1b7259b7",
    "_uuid": "83418965-fedf-4ee6-8cb8-febe20902e80",
    "collapsed": false,
    "execution": {
     "iopub.execute_input": "2025-05-25T18:45:08.279621Z",
     "iopub.status.busy": "2025-05-25T18:45:08.278966Z",
     "iopub.status.idle": "2025-05-25T18:45:08.286263Z",
     "shell.execute_reply": "2025-05-25T18:45:08.285554Z",
     "shell.execute_reply.started": "2025-05-25T18:45:08.279596Z"
    },
    "jupyter": {
     "outputs_hidden": false
    },
    "papermill": {
     "duration": 0.073625,
     "end_time": "2025-04-28T13:01:32.495089",
     "exception": false,
     "start_time": "2025-04-28T13:01:32.421464",
     "status": "completed"
    },
    "tags": [],
    "trusted": true
   },
   "outputs": [],
   "source": [
    "class ImageRatingDataset(Dataset):\n",
    "    \n",
    "    def __init__(self, dataframe, transform=None, augment=False, phase=''):\n",
    "        self.dataframe = dataframe.reset_index(drop=True)\n",
    "        self.transform = transforms.Compose([transforms.ToTensor(), transforms.Normalize(mean=[0.485, 0.456, 0.406],\n",
    "                     std=[0.229, 0.224, 0.225])])\n",
    "        self.augment = augment\n",
    "        self.phase=phase\n",
    "\n",
    "        # Define augmentations\n",
    "        self.augmentation = transforms.Compose([\n",
    "            transforms.RandomHorizontalFlip(p=0.5),\n",
    "            transforms.RandomRotation(degrees=10),  # small rotations\n",
    "            transforms.RandomResizedCrop(size=(384, 512), scale=(0.9, 1.0), ratio=(1.25, 1.35)),\n",
    "            transforms.ColorJitter(brightness=0.1, contrast=0.1),  # light changes\n",
    "        ])\n",
    "\n",
    "\n",
    "    def __len__(self):\n",
    "        return len(self.dataframe)\n",
    "\n",
    "    def __getitem__(self, idx):\n",
    "        img_path = self.dataframe.loc[idx, 'filename']\n",
    "        rating = self.dataframe.loc[idx, 'MOS']\n",
    "        \n",
    "        if self.phase == 'train':\n",
    "            image = Image.open(\"/kaggle/input/raise-final-dataset-paper/dataset/images/train_images/\" + img_path).convert('RGB')\n",
    "        elif self.phase == 'test':\n",
    "            image = Image.open(\"/kaggle/input/raise-final-dataset-paper/dataset/images/test_images/\" + img_path).convert('RGB')\n",
    "\n",
    "        if self.augment == True:\n",
    "            image = self.augmentation(image)\n",
    "        if self.transform:\n",
    "            image = self.transform(image)\n",
    "\n",
    "        return image, torch.tensor(rating, dtype=torch.float32)\n"
   ]
  },
  {
   "cell_type": "code",
   "execution_count": 12,
   "id": "5272d7f1-6235-4bf3-be3a-3c809bd8eb69",
   "metadata": {
    "execution": {
     "iopub.execute_input": "2025-05-25T18:45:08.543757Z",
     "iopub.status.busy": "2025-05-25T18:45:08.543487Z",
     "iopub.status.idle": "2025-05-25T18:45:08.549331Z",
     "shell.execute_reply": "2025-05-25T18:45:08.548642Z",
     "shell.execute_reply.started": "2025-05-25T18:45:08.543738Z"
    },
    "trusted": true
   },
   "outputs": [],
   "source": [
    "class ResNetRegressor(nn.Module):\n",
    "    def __init__(self):\n",
    "        super(ResNetRegressor, self).__init__()\n",
    "\n",
    "        # Load pretrained ResNet18\n",
    "        base_model = models.resnet18(pretrained=True)\n",
    "\n",
    "        # Remove the final classification layer\n",
    "        self.features = nn.Sequential(*list(base_model.children())[:-1])  # Excludes fc layer\n",
    "\n",
    "        # Freeze base layers\n",
    "        for param in self.features.parameters():\n",
    "            param.requires_grad = False\n",
    "\n",
    "        # Add a custom regression head\n",
    "        self.regressor = nn.Sequential(\n",
    "            nn.Linear(512, 256),\n",
    "            nn.ReLU(),\n",
    "            nn.Dropout(0.4),\n",
    "            nn.Linear(256, 256),\n",
    "            nn.ReLU(),\n",
    "            nn.Dropout(0.4),\n",
    "            nn.Linear(256, 128),\n",
    "            nn.ReLU(),\n",
    "            nn.Dropout(0.4),\n",
    "            nn.Linear(128, 1),\n",
    "        )\n",
    "\n",
    "    def forward(self, x):\n",
    "        x = self.features(x)             # Output shape: (batch_size, 512, 1, 1)\n",
    "        x = x.view(x.size(0), -1)        # Flatten to (batch_size, 512)\n",
    "        x = self.regressor(x)\n",
    "        return x\n"
   ]
  },
  {
   "cell_type": "code",
   "execution_count": 21,
   "id": "2ae4641a",
   "metadata": {
    "_cell_guid": "e57dccb1-5d22-4984-aeb7-4b8b7a8f9a75",
    "_uuid": "4e3fc1c7-e7db-4986-8628-fd994eaca5d2",
    "collapsed": false,
    "execution": {
     "iopub.execute_input": "2025-05-25T18:46:32.422871Z",
     "iopub.status.busy": "2025-05-25T18:46:32.422348Z",
     "iopub.status.idle": "2025-05-25T18:46:32.430007Z",
     "shell.execute_reply": "2025-05-25T18:46:32.429274Z",
     "shell.execute_reply.started": "2025-05-25T18:46:32.422848Z"
    },
    "jupyter": {
     "outputs_hidden": false
    },
    "papermill": {
     "duration": 0.029453,
     "end_time": "2025-04-28T13:01:32.644193",
     "exception": false,
     "start_time": "2025-04-28T13:01:32.61474",
     "status": "completed"
    },
    "tags": [],
    "trusted": true
   },
   "outputs": [],
   "source": [
    "def train_model(model, train_loader, val_loader, num_epochs=10, lr=0.0001, λ=1):\n",
    "    optimizer = optim.Adam(model.parameters(), lr=lr)\n",
    "    mse_loss = nn.MSELoss()  # Mean squared error loss for regression\n",
    "    train_losses = []\n",
    "    val_losses = []\n",
    "    srocc_scores = []\n",
    "\n",
    "    for epoch in range(num_epochs):\n",
    "        model.train()\n",
    "        running_loss = 0.0\n",
    "\n",
    "        # Training loop\n",
    "        for images, ratings in train_loader:\n",
    "            images = images.to(device)\n",
    "            ratings = ratings.to(device)\n",
    "\n",
    "            optimizer.zero_grad()\n",
    "            outputs = model(images).squeeze(1)  # Remove extra dimension\n",
    "            loss = mse_loss(outputs, ratings) \n",
    "            loss.backward()\n",
    "            optimizer.step()\n",
    "\n",
    "            running_loss += loss.item()\n",
    "\n",
    "        avg_train_loss = running_loss / len(train_loader)\n",
    "        train_losses.append(avg_train_loss)\n",
    "\n",
    "        # Validation loop\n",
    "        val_loss, srocc = validate_model(model, val_loader)\n",
    "        val_losses.append(val_loss)\n",
    "        srocc_scores.append(srocc)\n",
    "\n",
    "        print(f\"Epoch [{epoch + 1}/{num_epochs}], Loss: {running_loss / len(train_loader):.4f}, \"\n",
    "              f\"Validation Loss: {val_loss:.4f}, SROCC: {srocc:.4f}\")\n",
    "    # Plot and save loss curves\n",
    "    plt.figure(figsize=(10, 5))\n",
    "    plt.plot(range(1, num_epochs + 1), train_losses, label='Training Loss')\n",
    "    plt.plot(range(1, num_epochs + 1), val_losses, label='Validation Loss')\n",
    "    plt.xlabel('Epoch')\n",
    "    plt.ylabel('Loss')\n",
    "    plt.title('Training & Validation Loss')\n",
    "    plt.legend()\n",
    "    plt.grid(True)\n",
    "    # plt.savefig('ResNet50_loss_plot.png')\n",
    "    plt.show()\n"
   ]
  },
  {
   "cell_type": "code",
   "execution_count": 22,
   "id": "2e7e1ad0",
   "metadata": {
    "_cell_guid": "cc167d62-cfd9-4341-8730-d349f1da5795",
    "_uuid": "e7d00419-de64-4ab9-865e-80c517759f08",
    "collapsed": false,
    "execution": {
     "iopub.execute_input": "2025-05-25T18:46:33.980899Z",
     "iopub.status.busy": "2025-05-25T18:46:33.980178Z",
     "iopub.status.idle": "2025-05-25T18:46:33.985385Z",
     "shell.execute_reply": "2025-05-25T18:46:33.984728Z",
     "shell.execute_reply.started": "2025-05-25T18:46:33.980876Z"
    },
    "jupyter": {
     "outputs_hidden": false
    },
    "papermill": {
     "duration": 0.026663,
     "end_time": "2025-04-28T13:01:32.691121",
     "exception": false,
     "start_time": "2025-04-28T13:01:32.664458",
     "status": "completed"
    },
    "tags": [],
    "trusted": true
   },
   "outputs": [],
   "source": [
    "def validate_model(model, val_loader):\n",
    "    model.eval()\n",
    "    val_predictions = []\n",
    "    val_ground_truth = []\n",
    "\n",
    "    with torch.no_grad():\n",
    "        for images, ratings in val_loader:\n",
    "            images = images.to(device)\n",
    "            ratings = ratings.to(device)\n",
    "\n",
    "            outputs = model(images).squeeze(1)  # Remove extra dimension\n",
    "\n",
    "            val_predictions.extend(outputs.cpu().numpy())\n",
    "            val_ground_truth.extend(ratings.cpu().numpy())\n",
    "\n",
    "    # Compute SROCC\n",
    "    srocc, _ = spearmanr(val_predictions, val_ground_truth)\n",
    "\n",
    "    # Compute mean squared error for validation loss\n",
    "    val_loss = mean_squared_error(val_ground_truth, val_predictions)\n",
    "\n",
    "    return val_loss, srocc\n"
   ]
  },
  {
   "cell_type": "code",
   "execution_count": 23,
   "id": "76de39d4-91a6-4f09-8f55-c0f9d6c20f15",
   "metadata": {
    "execution": {
     "iopub.execute_input": "2025-05-25T18:46:34.177828Z",
     "iopub.status.busy": "2025-05-25T18:46:34.177564Z",
     "iopub.status.idle": "2025-05-25T18:46:34.438204Z",
     "shell.execute_reply": "2025-05-25T18:46:34.437644Z",
     "shell.execute_reply.started": "2025-05-25T18:46:34.177808Z"
    },
    "trusted": true
   },
   "outputs": [
    {
     "name": "stderr",
     "output_type": "stream",
     "text": [
      "/usr/local/lib/python3.11/dist-packages/torchvision/models/_utils.py:208: UserWarning: The parameter 'pretrained' is deprecated since 0.13 and may be removed in the future, please use 'weights' instead.\n",
      "  warnings.warn(\n",
      "/usr/local/lib/python3.11/dist-packages/torchvision/models/_utils.py:223: UserWarning: Arguments other than a weight enum or `None` for 'weights' are deprecated since 0.13 and may be removed in the future. The current behavior is equivalent to passing `weights=ResNet18_Weights.IMAGENET1K_V1`. You can also use `weights=ResNet18_Weights.DEFAULT` to get the most up-to-date weights.\n",
      "  warnings.warn(msg)\n"
     ]
    }
   ],
   "source": [
    "device = torch.device('cuda' if torch.cuda.is_available() else 'cpu')\n",
    "model = ResNetRegressor().to(device)\n"
   ]
  },
  {
   "cell_type": "code",
   "execution_count": 24,
   "id": "0e5c0985-9b29-434c-babe-9455c329b378",
   "metadata": {
    "execution": {
     "iopub.execute_input": "2025-05-25T18:46:34.732336Z",
     "iopub.status.busy": "2025-05-25T18:46:34.732072Z",
     "iopub.status.idle": "2025-05-25T18:46:34.737186Z",
     "shell.execute_reply": "2025-05-25T18:46:34.736548Z",
     "shell.execute_reply.started": "2025-05-25T18:46:34.732317Z"
    },
    "trusted": true
   },
   "outputs": [
    {
     "name": "stdout",
     "output_type": "stream",
     "text": [
      "Total number of trainable parameters: 230,145\n"
     ]
    }
   ],
   "source": [
    "# Count parameters\n",
    "def count_parameters(model):\n",
    "    return sum(p.numel() for p in model.parameters() if p.requires_grad)\n",
    "\n",
    "num_params = count_parameters(model)\n",
    "print(f\"Total number of trainable parameters: {num_params:,}\")\n"
   ]
  },
  {
   "cell_type": "code",
   "execution_count": 25,
   "id": "5769f916",
   "metadata": {
    "_cell_guid": "86da5f32-329f-41d9-af0d-1cef212035f3",
    "_uuid": "95153477-ddd9-497e-bd45-6cbec9b5d0bc",
    "collapsed": false,
    "execution": {
     "iopub.execute_input": "2025-05-25T18:46:36.815840Z",
     "iopub.status.busy": "2025-05-25T18:46:36.815575Z",
     "iopub.status.idle": "2025-05-25T18:46:36.826140Z",
     "shell.execute_reply": "2025-05-25T18:46:36.825577Z",
     "shell.execute_reply.started": "2025-05-25T18:46:36.815821Z"
    },
    "jupyter": {
     "outputs_hidden": false
    },
    "papermill": {
     "duration": 3.023618,
     "end_time": "2025-04-28T13:01:35.735374",
     "exception": false,
     "start_time": "2025-04-28T13:01:32.711756",
     "status": "completed"
    },
    "tags": [],
    "trusted": true
   },
   "outputs": [
    {
     "name": "stdout",
     "output_type": "stream",
     "text": [
      "(420, 2) (90, 2) (90, 2)\n"
     ]
    }
   ],
   "source": [
    "train_df = pd.read_csv(\"/kaggle/input/raise-final-dataset-paper/dataset/ratings/train.csv\")\n",
    "test_df = pd.read_csv(\"/kaggle/input/raise-final-dataset-paper/dataset/ratings/test.csv\")\n",
    "\n",
    "val_df = train_df.iloc[-90:].copy()\n",
    "train_df = train_df.iloc[:-90].copy()\n",
    "\n",
    "print(train_df.shape, val_df.shape, test_df.shape)\n"
   ]
  },
  {
   "cell_type": "code",
   "execution_count": 26,
   "id": "ba0199d3-2988-4c69-9284-60830553cb7d",
   "metadata": {
    "execution": {
     "iopub.execute_input": "2025-05-25T18:46:37.058915Z",
     "iopub.status.busy": "2025-05-25T18:46:37.058338Z",
     "iopub.status.idle": "2025-05-25T18:59:36.746631Z",
     "shell.execute_reply": "2025-05-25T18:59:36.745868Z",
     "shell.execute_reply.started": "2025-05-25T18:46:37.058895Z"
    },
    "trusted": true
   },
   "outputs": [
    {
     "name": "stdout",
     "output_type": "stream",
     "text": [
      "Epoch [1/75], Loss: 0.9834, Validation Loss: 0.9800, SROCC: 0.2550\n",
      "Epoch [2/75], Loss: 0.9829, Validation Loss: 0.9669, SROCC: 0.3642\n",
      "Epoch [3/75], Loss: 0.9383, Validation Loss: 0.9552, SROCC: 0.4236\n",
      "Epoch [4/75], Loss: 0.9825, Validation Loss: 0.9439, SROCC: 0.4487\n",
      "Epoch [5/75], Loss: 0.9102, Validation Loss: 0.9247, SROCC: 0.4781\n",
      "Epoch [6/75], Loss: 0.9856, Validation Loss: 0.9043, SROCC: 0.5057\n",
      "Epoch [7/75], Loss: 0.8739, Validation Loss: 0.8686, SROCC: 0.5334\n",
      "Epoch [8/75], Loss: 0.9267, Validation Loss: 0.8399, SROCC: 0.5146\n",
      "Epoch [9/75], Loss: 0.9930, Validation Loss: 0.7957, SROCC: 0.5391\n",
      "Epoch [10/75], Loss: 0.7917, Validation Loss: 0.7635, SROCC: 0.5292\n",
      "Epoch [11/75], Loss: 0.7758, Validation Loss: 0.7294, SROCC: 0.5416\n",
      "Epoch [12/75], Loss: 0.7502, Validation Loss: 0.7102, SROCC: 0.5368\n",
      "Epoch [13/75], Loss: 0.7293, Validation Loss: 0.7014, SROCC: 0.5381\n",
      "Epoch [14/75], Loss: 0.9867, Validation Loss: 0.6794, SROCC: 0.5550\n",
      "Epoch [15/75], Loss: 0.7777, Validation Loss: 0.6794, SROCC: 0.5444\n",
      "Epoch [16/75], Loss: 0.7788, Validation Loss: 0.6746, SROCC: 0.5451\n",
      "Epoch [17/75], Loss: 0.6457, Validation Loss: 0.6550, SROCC: 0.5574\n",
      "Epoch [18/75], Loss: 0.7671, Validation Loss: 0.6636, SROCC: 0.5569\n",
      "Epoch [19/75], Loss: 0.6489, Validation Loss: 0.6646, SROCC: 0.5561\n",
      "Epoch [20/75], Loss: 0.6454, Validation Loss: 0.6732, SROCC: 0.5548\n",
      "Epoch [21/75], Loss: 0.6661, Validation Loss: 0.6576, SROCC: 0.5687\n",
      "Epoch [22/75], Loss: 0.5777, Validation Loss: 0.6719, SROCC: 0.5614\n",
      "Epoch [23/75], Loss: 0.6384, Validation Loss: 0.6495, SROCC: 0.5655\n",
      "Epoch [24/75], Loss: 0.6259, Validation Loss: 0.6786, SROCC: 0.5651\n",
      "Epoch [25/75], Loss: 0.6398, Validation Loss: 0.6512, SROCC: 0.5723\n",
      "Epoch [26/75], Loss: 0.5474, Validation Loss: 0.6641, SROCC: 0.5759\n",
      "Epoch [27/75], Loss: 0.5647, Validation Loss: 0.6474, SROCC: 0.5814\n",
      "Epoch [28/75], Loss: 0.6126, Validation Loss: 0.6364, SROCC: 0.5901\n",
      "Epoch [29/75], Loss: 0.5547, Validation Loss: 0.6602, SROCC: 0.5789\n",
      "Epoch [30/75], Loss: 0.6251, Validation Loss: 0.6382, SROCC: 0.5815\n",
      "Epoch [31/75], Loss: 0.6654, Validation Loss: 0.6577, SROCC: 0.5868\n",
      "Epoch [32/75], Loss: 0.5632, Validation Loss: 0.6731, SROCC: 0.5852\n",
      "Epoch [33/75], Loss: 0.5454, Validation Loss: 0.6269, SROCC: 0.6059\n",
      "Epoch [34/75], Loss: 0.5614, Validation Loss: 0.6736, SROCC: 0.5889\n",
      "Epoch [35/75], Loss: 0.6040, Validation Loss: 0.6390, SROCC: 0.5948\n",
      "Epoch [36/75], Loss: 0.5072, Validation Loss: 0.6298, SROCC: 0.5902\n",
      "Epoch [37/75], Loss: 0.5110, Validation Loss: 0.6535, SROCC: 0.5910\n",
      "Epoch [38/75], Loss: 0.4986, Validation Loss: 0.6430, SROCC: 0.6045\n",
      "Epoch [39/75], Loss: 0.4805, Validation Loss: 0.6561, SROCC: 0.5956\n",
      "Epoch [40/75], Loss: 0.4659, Validation Loss: 0.6380, SROCC: 0.5926\n",
      "Epoch [41/75], Loss: 0.4749, Validation Loss: 0.6389, SROCC: 0.5922\n",
      "Epoch [42/75], Loss: 0.4520, Validation Loss: 0.6438, SROCC: 0.5841\n",
      "Epoch [43/75], Loss: 0.5437, Validation Loss: 0.6355, SROCC: 0.5827\n",
      "Epoch [44/75], Loss: 0.4531, Validation Loss: 0.6516, SROCC: 0.5802\n",
      "Epoch [45/75], Loss: 0.4408, Validation Loss: 0.6333, SROCC: 0.5786\n",
      "Epoch [46/75], Loss: 0.4763, Validation Loss: 0.6603, SROCC: 0.5708\n",
      "Epoch [47/75], Loss: 0.4661, Validation Loss: 0.6635, SROCC: 0.5722\n",
      "Epoch [48/75], Loss: 0.4917, Validation Loss: 0.6290, SROCC: 0.5838\n",
      "Epoch [49/75], Loss: 0.4410, Validation Loss: 0.6387, SROCC: 0.5910\n",
      "Epoch [50/75], Loss: 0.4986, Validation Loss: 0.6643, SROCC: 0.5867\n",
      "Epoch [51/75], Loss: 0.4716, Validation Loss: 0.6489, SROCC: 0.5764\n",
      "Epoch [52/75], Loss: 0.4011, Validation Loss: 0.6477, SROCC: 0.5803\n",
      "Epoch [53/75], Loss: 0.4408, Validation Loss: 0.6263, SROCC: 0.5845\n",
      "Epoch [54/75], Loss: 0.4621, Validation Loss: 0.6353, SROCC: 0.5779\n",
      "Epoch [55/75], Loss: 0.4321, Validation Loss: 0.6168, SROCC: 0.5764\n",
      "Epoch [56/75], Loss: 0.3909, Validation Loss: 0.6183, SROCC: 0.5811\n",
      "Epoch [57/75], Loss: 0.3920, Validation Loss: 0.6730, SROCC: 0.5729\n",
      "Epoch [58/75], Loss: 0.3806, Validation Loss: 0.6303, SROCC: 0.5798\n",
      "Epoch [59/75], Loss: 0.4180, Validation Loss: 0.6638, SROCC: 0.5735\n",
      "Epoch [60/75], Loss: 0.5080, Validation Loss: 0.6519, SROCC: 0.5830\n",
      "Epoch [61/75], Loss: 0.4175, Validation Loss: 0.6118, SROCC: 0.5966\n",
      "Epoch [62/75], Loss: 0.4327, Validation Loss: 0.6548, SROCC: 0.5914\n",
      "Epoch [63/75], Loss: 0.3748, Validation Loss: 0.6136, SROCC: 0.5874\n",
      "Epoch [64/75], Loss: 0.3948, Validation Loss: 0.6421, SROCC: 0.5835\n",
      "Epoch [65/75], Loss: 0.3903, Validation Loss: 0.6364, SROCC: 0.5835\n",
      "Epoch [66/75], Loss: 0.4371, Validation Loss: 0.6965, SROCC: 0.5820\n",
      "Epoch [67/75], Loss: 0.3591, Validation Loss: 0.6429, SROCC: 0.5932\n",
      "Epoch [68/75], Loss: 0.3631, Validation Loss: 0.6442, SROCC: 0.5884\n",
      "Epoch [69/75], Loss: 0.3632, Validation Loss: 0.6626, SROCC: 0.5736\n",
      "Epoch [70/75], Loss: 0.3531, Validation Loss: 0.6522, SROCC: 0.5739\n",
      "Epoch [71/75], Loss: 0.3244, Validation Loss: 0.6665, SROCC: 0.5738\n",
      "Epoch [72/75], Loss: 0.3915, Validation Loss: 0.6251, SROCC: 0.5743\n",
      "Epoch [73/75], Loss: 0.3733, Validation Loss: 0.6603, SROCC: 0.5727\n",
      "Epoch [74/75], Loss: 0.3339, Validation Loss: 0.6360, SROCC: 0.5819\n",
      "Epoch [75/75], Loss: 0.4381, Validation Loss: 0.6613, SROCC: 0.5711\n"
     ]
    },
    {
     "data": {
      "image/png": "[encoded data removed]",
      "text/plain": [
       "<Figure size 1000x500 with 1 Axes>"
      ]
     },
     "metadata": {},
     "output_type": "display_data"
    }
   ],
   "source": [
    "# Create dataset partitions\n",
    "train_dataset = ImageRatingDataset(train_df, augment=True, phase='train')\n",
    "val_dataset = ImageRatingDataset(val_df, phase='train')\n",
    "test_dataset = ImageRatingDataset(test_df, phase='test')\n",
    "\n",
    "\n",
    "# Create dataloaders\n",
    "train_loader = DataLoader(train_dataset, batch_size=32, shuffle=True)\n",
    "val_loader = DataLoader(val_dataset, batch_size=32)\n",
    "test_loader = DataLoader(test_dataset, batch_size=32)\n",
    "\n",
    "# images, ratings = next(iter(train_loader))\n",
    "# print(images)\n",
    "# Start training\n",
    "train_model(model, train_loader, val_loader, num_epochs=75)\n"
   ]
  },
  {
   "cell_type": "code",
   "execution_count": 27,
   "id": "9d70e731-0fbf-469b-a39f-887003eb69cc",
   "metadata": {
    "execution": {
     "iopub.execute_input": "2025-05-25T19:01:02.050434Z",
     "iopub.status.busy": "2025-05-25T19:01:02.049767Z",
     "iopub.status.idle": "2025-05-25T19:01:03.922809Z",
     "shell.execute_reply": "2025-05-25T19:01:03.922136Z",
     "shell.execute_reply.started": "2025-05-25T19:01:02.050409Z"
    },
    "trusted": true
   },
   "outputs": [
    {
     "name": "stdout",
     "output_type": "stream",
     "text": [
      "0.6236078528213359 0.7043661\n"
     ]
    }
   ],
   "source": [
    "model.eval()\n",
    "all_preds = []\n",
    "all_labels = []\n",
    "with torch.no_grad():\n",
    "    for images, labels in test_loader:\n",
    "        images = images.to(device)\n",
    "        outputs = model(images)\n",
    "        # Detach and move to CPU; flatten the predictions.\n",
    "        preds = outputs.cpu().numpy().flatten()\n",
    "        all_preds.extend(preds)\n",
    "        all_labels.extend(labels.numpy())\n",
    "\n",
    "all_preds = np.array(all_preds)\n",
    "all_labels = np.array(all_labels)\n",
    "\n",
    "# Compute Spearman's rank correlation coefficient (SROCC)\n",
    "spearman_corr, _ = spearmanr(all_labels, all_preds)\n",
    "pearson_corr, _ = pearsonr(all_labels, all_preds)\n",
    "\n",
    "print(spearman_corr, pearson_corr)\n"
   ]
  },
  {
   "cell_type": "code",
   "execution_count": 28,
   "id": "0dc79281",
   "metadata": {
    "execution": {
     "iopub.execute_input": "2025-05-25T19:01:08.069261Z",
     "iopub.status.busy": "2025-05-25T19:01:08.068592Z",
     "iopub.status.idle": "2025-05-25T19:01:09.470642Z",
     "shell.execute_reply": "2025-05-25T19:01:09.469944Z",
     "shell.execute_reply.started": "2025-05-25T19:01:08.069230Z"
    },
    "papermill": {
     "duration": null,
     "end_time": null,
     "exception": null,
     "start_time": null,
     "status": "completed"
    },
    "tags": [],
    "trusted": true
   },
   "outputs": [
    {
     "data": {
      "image/png": "[encoded data removed]",
      "text/plain": [
       "<Figure size 800x600 with 1 Axes>"
      ]
     },
     "metadata": {},
     "output_type": "display_data"
    },
    {
     "name": "stdout",
     "output_type": "stream",
     "text": [
      "0.6236078528213359 0.7043661\n"
     ]
    }
   ],
   "source": [
    "predictions = []\n",
    "ground_truths = []\n",
    "\n",
    "# Iterate over the validation dataset\n",
    "with torch.no_grad():\n",
    "    for images, ratings in test_loader:\n",
    "        images = images.to(device)  # Move to device (GPU or CPU)\n",
    "        ratings = ratings.to(device)\n",
    "\n",
    "        # Get predictions from the model\n",
    "        predicted_ratings = model(images)\n",
    "\n",
    "        # Append predicted and ground truth values to the lists\n",
    "        predictions.extend(predicted_ratings.cpu().numpy())  # move to CPU and convert to numpy\n",
    "        ground_truths.extend(ratings.cpu().numpy())  # move to CPU and convert to numpy\n",
    "\n",
    "# Convert lists to numpy arrays\n",
    "predictions = np.array(predictions).flatten()\n",
    "ground_truths = np.array(ground_truths).flatten()\n",
    "\n",
    "# # denormalize\n",
    "# predictions = predictions*mos_std + mos_mean\n",
    "# ground_truths = ground_truths*mos_std + mos_mean \n",
    "\n",
    "# Plot the scatter plot\n",
    "plt.figure(figsize=(8, 6))\n",
    "plt.scatter(ground_truths, predictions, alpha=0.5, c='blue')\n",
    "plt.title('Prediction vs Ground Truth', fontsize=16)\n",
    "plt.xlabel('Ground Truth Ratings', fontsize=14)\n",
    "plt.ylabel('Predicted Ratings', fontsize=14)\n",
    "plt.grid(True)\n",
    "plt.show()\n",
    "\n",
    "# Compute Spearman's rank correlation coefficient (SROCC)\n",
    "spearman_corr, _ = spearmanr(ground_truths, predictions)\n",
    "pearson_corr, _ = pearsonr(ground_truths, predictions)\n",
    "\n",
    "print(spearman_corr, pearson_corr)\n"
   ]
  },
  {
   "cell_type": "code",
   "execution_count": 29,
   "id": "a5e487f3-76d0-4909-bc2a-adf0e1b357e5",
   "metadata": {
    "execution": {
     "iopub.execute_input": "2025-05-25T19:01:30.018119Z",
     "iopub.status.busy": "2025-05-25T19:01:30.017839Z",
     "iopub.status.idle": "2025-05-25T19:01:30.093036Z",
     "shell.execute_reply": "2025-05-25T19:01:30.092259Z",
     "shell.execute_reply.started": "2025-05-25T19:01:30.018100Z"
    },
    "trusted": true
   },
   "outputs": [
    {
     "name": "stdout",
     "output_type": "stream",
     "text": [
      "✔️  Weights written to /kaggle/working/resnet18_transf-learn-wts.pth\n"
     ]
    }
   ],
   "source": [
    "import torch, os\n",
    "\n",
    "SAVE_DIR = \"/kaggle/working\"            # this is the only writable spot\n",
    "WEIGHT_FILE = \"resnet18_transf-learn-wts.pth\"\n",
    "\n",
    "os.makedirs(SAVE_DIR, exist_ok=True)\n",
    "torch.save(model.state_dict(), f\"{SAVE_DIR}/{WEIGHT_FILE}\")\n",
    "print(\"✔️  Weights written to\", f\"{SAVE_DIR}/{WEIGHT_FILE}\")\n"
   ]
  },
  {
   "cell_type": "code",
   "execution_count": null,
   "id": "e52c9103-9405-40f8-82a6-0a5b54a502a6",
   "metadata": {
    "trusted": true
   },
   "outputs": [],
   "source": []
  }
 ],
 "metadata": {
  "kaggle": {
   "accelerator": "gpu",
   "dataSources": [
    {
     "datasetId": 7259059,
     "sourceId": 11577853,
     "sourceType": "datasetVersion"
    },
    {
     "datasetId": 7512054,
     "sourceId": 11948935,
     "sourceType": "datasetVersion"
    }
   ],
   "dockerImageVersionId": 31011,
   "isGpuEnabled": true,
   "isInternetEnabled": true,
   "language": "python",
   "sourceType": "notebook"
  },
  "kernelspec": {
   "display_name": "Python 3",
   "language": "python",
   "name": "python3"
  },
  "language_info": {
   "codemirror_mode": {
    "name": "ipython",
    "version": 3
   },
   "file_extension": ".py",
   "mimetype": "text/x-python",
   "name": "python",
   "nbconvert_exporter": "python",
   "pygments_lexer": "ipython3",
   "version": "3.11.11"
  },
  "papermill": {
   "default_parameters": {},
   "duration": 191.089176,
   "end_time": "2025-04-28T13:01:35.758895",
   "environment_variables": {},
   "exception": null,
   "input_path": "__notebook__.ipynb",
   "output_path": "__notebook__.ipynb",
   "parameters": {},
   "start_time": "2025-04-28T12:58:24.669719",
   "version": "2.6.0"
  }
 },
 "nbformat": 4,
 "nbformat_minor": 5
}
